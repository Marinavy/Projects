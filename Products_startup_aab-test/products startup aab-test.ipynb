{
 "cells": [
  {
   "cell_type": "markdown",
   "metadata": {},
   "source": [
    "# Исследование поведения пользователей мобильного приложения. \n",
    "# Анализ А/A/В - теста."
   ]
  },
  {
   "cell_type": "markdown",
   "metadata": {},
   "source": [
    "**Описание проекта**\n",
    "\n",
    "Проект посвящен мобильному приложению стартапа, продающему продукты питания. \n",
    "\n",
    "Исследуем поведение пользователей мобильного приложения.\n",
    "\n",
    "Изучим воронку продаж: \n",
    "- узнаем, как пользователи доходят до покупки\n",
    "- сколько пользователей доходит до покупки\n",
    "- сколько пользователей «застревает» и на каких этапах?\n",
    "\n",
    "Исследуем результаты A/A/B-эксперимента, где  2 контрольные группы со старыми шрифтами и одна экспериментальная — с новыми шрифтами в приложении. Выясним, какой шрифт лучше.\n",
    "\n",
    "В ходе анализа будем исследовать качество работы приложения по общим данным, не учитывая принадлежность пользователей к экспериментам.\n",
    "\n",
    "**Описание данных**\n",
    "\n",
    "Каждая запись в логе — это действие пользователя, или событие.\n",
    "\n",
    "- EventName — название события;\n",
    "- DeviceIDHash — уникальный идентификатор пользователя;\n",
    "- EventTimestamp — время события;\n",
    "- ExpId — номер эксперимента: 246 и 247 — контрольные группы, а 248 — экспериментальная.\n",
    "\n",
    "**Структура проекта**\n",
    "\n",
    "1  Импорт и ознакомление с данными\n",
    "- Загрузка библиотек и данных\n",
    "- Изучение общей информации\n",
    "- Вывод\n",
    "\n",
    "2  Подготовка данных.\n",
    "- Фильтрация дубликатов и замена названий.\n",
    "- Добавление сведений о дате и времени\n",
    "- Вывод\n",
    "\n",
    "3  Изучение и проверка данных\n",
    "- Подсчет событий, пользователей и среднего числа событий пользователя\n",
    "- Изучение периода наблюдений\n",
    "- Вывод\n",
    "\n",
    "4  Исследование воронки событий\n",
    "- Анализ видов и частоты событий в логах\n",
    "- Число и доля пользователей по видам событий\n",
    "- Анализ воронки продаж\n",
    "- Вывод\n",
    "\n",
    "5  Анализ результатов эксперимента\n",
    "- Исследование числа участников и чистоты распределения групп\n",
    "- Исследование различий контрольных групп.\n",
    "- Исследования различий контрольных и тестовой группы\n",
    "- Вывод\n",
    "\n",
    "6  Выводы"
   ]
  },
  {
   "cell_type": "markdown",
   "metadata": {},
   "source": [
    "## Импорт и ознакомление с данными\n",
    "\n",
    "### Загрузка библиотек и данных"
   ]
  },
  {
   "cell_type": "markdown",
   "metadata": {},
   "source": [
    "Загрузим необходимые библиотеки, настроим форматы отображения данных."
   ]
  },
  {
   "cell_type": "code",
   "execution_count": 1,
   "metadata": {},
   "outputs": [],
   "source": [
    "import pandas as pd\n",
    "import numpy as np\n",
    "import math as mth\n",
    "import seaborn as sns\n",
    "import datetime as dt\n",
    "from datetime import timedelta, datetime\n",
    "import matplotlib\n",
    "from matplotlib import pyplot as plt\n",
    "from plotly import graph_objects as go\n",
    "import functools\n",
    "from scipy import stats as st\n",
    "\n",
    "# настраиваем количество знаков после запятой\n",
    "pd.set_option('display.float_format', '{:.2f}'.format)"
   ]
  },
  {
   "cell_type": "markdown",
   "metadata": {},
   "source": [
    "Импортируем данные"
   ]
  },
  {
   "cell_type": "code",
   "execution_count": 2,
   "metadata": {},
   "outputs": [],
   "source": [
    "df = pd.read_csv('/datasets/logs_exp.csv', sep='\\t')"
   ]
  },
  {
   "cell_type": "markdown",
   "metadata": {},
   "source": [
    "### Изучение общей информации\n",
    "\n",
    "Ознакомимся с данными. Напишем фукнцию для вывода основных сведений о сете."
   ]
  },
  {
   "cell_type": "code",
   "execution_count": 3,
   "metadata": {},
   "outputs": [
    {
     "data": {
      "text/html": [
       "<div>\n",
       "<style scoped>\n",
       "    .dataframe tbody tr th:only-of-type {\n",
       "        vertical-align: middle;\n",
       "    }\n",
       "\n",
       "    .dataframe tbody tr th {\n",
       "        vertical-align: top;\n",
       "    }\n",
       "\n",
       "    .dataframe thead th {\n",
       "        text-align: right;\n",
       "    }\n",
       "</style>\n",
       "<table border=\"1\" class=\"dataframe\">\n",
       "  <thead>\n",
       "    <tr style=\"text-align: right;\">\n",
       "      <th></th>\n",
       "      <th>EventName</th>\n",
       "      <th>DeviceIDHash</th>\n",
       "      <th>EventTimestamp</th>\n",
       "      <th>ExpId</th>\n",
       "    </tr>\n",
       "  </thead>\n",
       "  <tbody>\n",
       "    <tr>\n",
       "      <th>0</th>\n",
       "      <td>MainScreenAppear</td>\n",
       "      <td>4575588528974610257</td>\n",
       "      <td>1564029816</td>\n",
       "      <td>246</td>\n",
       "    </tr>\n",
       "    <tr>\n",
       "      <th>1</th>\n",
       "      <td>MainScreenAppear</td>\n",
       "      <td>7416695313311560658</td>\n",
       "      <td>1564053102</td>\n",
       "      <td>246</td>\n",
       "    </tr>\n",
       "    <tr>\n",
       "      <th>2</th>\n",
       "      <td>PaymentScreenSuccessful</td>\n",
       "      <td>3518123091307005509</td>\n",
       "      <td>1564054127</td>\n",
       "      <td>248</td>\n",
       "    </tr>\n",
       "    <tr>\n",
       "      <th>3</th>\n",
       "      <td>CartScreenAppear</td>\n",
       "      <td>3518123091307005509</td>\n",
       "      <td>1564054127</td>\n",
       "      <td>248</td>\n",
       "    </tr>\n",
       "    <tr>\n",
       "      <th>4</th>\n",
       "      <td>PaymentScreenSuccessful</td>\n",
       "      <td>6217807653094995999</td>\n",
       "      <td>1564055322</td>\n",
       "      <td>248</td>\n",
       "    </tr>\n",
       "  </tbody>\n",
       "</table>\n",
       "</div>"
      ],
      "text/plain": [
       "                 EventName         DeviceIDHash  EventTimestamp  ExpId\n",
       "0         MainScreenAppear  4575588528974610257      1564029816    246\n",
       "1         MainScreenAppear  7416695313311560658      1564053102    246\n",
       "2  PaymentScreenSuccessful  3518123091307005509      1564054127    248\n",
       "3         CartScreenAppear  3518123091307005509      1564054127    248\n",
       "4  PaymentScreenSuccessful  6217807653094995999      1564055322    248"
      ]
     },
     "metadata": {},
     "output_type": "display_data"
    },
    {
     "name": "stdout",
     "output_type": "stream",
     "text": [
      "**************************************************\n",
      "<class 'pandas.core.frame.DataFrame'>\n",
      "RangeIndex: 244126 entries, 0 to 244125\n",
      "Data columns (total 4 columns):\n",
      " #   Column          Non-Null Count   Dtype \n",
      "---  ------          --------------   ----- \n",
      " 0   EventName       244126 non-null  object\n",
      " 1   DeviceIDHash    244126 non-null  int64 \n",
      " 2   EventTimestamp  244126 non-null  int64 \n",
      " 3   ExpId           244126 non-null  int64 \n",
      "dtypes: int64(3), object(1)\n",
      "memory usage: 7.5+ MB\n",
      "**************************************************\n",
      "Количество дубликатов - 413\n",
      "**************************************************\n"
     ]
    },
    {
     "data": {
      "text/plain": [
       "MainScreenAppear           119205\n",
       "OffersScreenAppear          46825\n",
       "CartScreenAppear            42731\n",
       "PaymentScreenSuccessful     34313\n",
       "Tutorial                     1052\n",
       "Name: EventName, dtype: int64"
      ]
     },
     "metadata": {},
     "output_type": "display_data"
    },
    {
     "name": "stdout",
     "output_type": "stream",
     "text": [
      "**************************************************\n"
     ]
    },
    {
     "data": {
      "text/html": [
       "<div>\n",
       "<style scoped>\n",
       "    .dataframe tbody tr th:only-of-type {\n",
       "        vertical-align: middle;\n",
       "    }\n",
       "\n",
       "    .dataframe tbody tr th {\n",
       "        vertical-align: top;\n",
       "    }\n",
       "\n",
       "    .dataframe thead th {\n",
       "        text-align: right;\n",
       "    }\n",
       "</style>\n",
       "<table border=\"1\" class=\"dataframe\">\n",
       "  <thead>\n",
       "    <tr style=\"text-align: right;\">\n",
       "      <th></th>\n",
       "      <th>EventName</th>\n",
       "      <th>DeviceIDHash</th>\n",
       "      <th>EventTimestamp</th>\n",
       "      <th>ExpId</th>\n",
       "    </tr>\n",
       "  </thead>\n",
       "  <tbody>\n",
       "    <tr>\n",
       "      <th>61027</th>\n",
       "      <td>OffersScreenAppear</td>\n",
       "      <td>1501007085405726211</td>\n",
       "      <td>1564756577</td>\n",
       "      <td>246</td>\n",
       "    </tr>\n",
       "  </tbody>\n",
       "</table>\n",
       "</div>"
      ],
      "text/plain": [
       "                EventName         DeviceIDHash  EventTimestamp  ExpId\n",
       "61027  OffersScreenAppear  1501007085405726211      1564756577    246"
      ]
     },
     "execution_count": 3,
     "metadata": {},
     "output_type": "execute_result"
    }
   ],
   "source": [
    "def inspection(data):\n",
    "    display(data.head()) \n",
    "    print(50*'*')\n",
    "    data.info() \n",
    "    print(50*'*')\n",
    "    print ('Количество дубликатов -', data.duplicated().sum())\n",
    "    print(50*'*')\n",
    "    numeric_columns=data.describe().columns\n",
    "    for column_name in data.columns:\n",
    "        if column_name not in numeric_columns:\n",
    "            if 'id' not in column_name and 'time' not in column_name:\n",
    "                display(data[column_name].value_counts())\n",
    "                print(50*'*')\n",
    "    return data.sample()\n",
    "inspection(df)"
   ]
  },
  {
   "cell_type": "markdown",
   "metadata": {},
   "source": [
    "### Вывод"
   ]
  },
  {
   "cell_type": "markdown",
   "metadata": {},
   "source": [
    "- В сете 244126 записей. \n",
    "- Из них 413 явных дубликатов. \n",
    "- Пропусков значений нет. \n",
    "- Дата события предположительно в формате UNIX.\n",
    "- Присутствует 5 видов событий (в порядке уменьшения количества появления): \n",
    "     - страница главного экрана;\n",
    "     - страница предложений;\n",
    "     - страница корзины;\n",
    "     - страница успешной оплаты;\n",
    "     - справка.    "
   ]
  },
  {
   "cell_type": "markdown",
   "metadata": {},
   "source": [
    "## Подготовка данных.\n",
    "\n",
    "### Фильтрация дубликатов и замена названий.\n",
    "\n",
    "Удалим дубликаты и переименуем колонки для удобства дальнейшего обращения с ними. \n",
    "\n",
    "Здесь и далее приравняем уникальный идентификатор устройства к уникальному пользователю, поскольку других данных для идентификации одного и того же пользователя, зашедшего с разных устройств, у нас нет. "
   ]
  },
  {
   "cell_type": "code",
   "execution_count": 4,
   "metadata": {},
   "outputs": [
    {
     "data": {
      "text/html": [
       "<div>\n",
       "<style scoped>\n",
       "    .dataframe tbody tr th:only-of-type {\n",
       "        vertical-align: middle;\n",
       "    }\n",
       "\n",
       "    .dataframe tbody tr th {\n",
       "        vertical-align: top;\n",
       "    }\n",
       "\n",
       "    .dataframe thead th {\n",
       "        text-align: right;\n",
       "    }\n",
       "</style>\n",
       "<table border=\"1\" class=\"dataframe\">\n",
       "  <thead>\n",
       "    <tr style=\"text-align: right;\">\n",
       "      <th></th>\n",
       "      <th>event_name</th>\n",
       "      <th>user_id</th>\n",
       "      <th>timestamp</th>\n",
       "      <th>group</th>\n",
       "    </tr>\n",
       "  </thead>\n",
       "  <tbody>\n",
       "    <tr>\n",
       "      <th>107314</th>\n",
       "      <td>MainScreenAppear</td>\n",
       "      <td>3286987355161301427</td>\n",
       "      <td>1564867330</td>\n",
       "      <td>248</td>\n",
       "    </tr>\n",
       "    <tr>\n",
       "      <th>38796</th>\n",
       "      <td>PaymentScreenSuccessful</td>\n",
       "      <td>1872978591788881482</td>\n",
       "      <td>1564700287</td>\n",
       "      <td>247</td>\n",
       "    </tr>\n",
       "    <tr>\n",
       "      <th>240523</th>\n",
       "      <td>OffersScreenAppear</td>\n",
       "      <td>4257848154605915902</td>\n",
       "      <td>1565202372</td>\n",
       "      <td>247</td>\n",
       "    </tr>\n",
       "    <tr>\n",
       "      <th>77616</th>\n",
       "      <td>MainScreenAppear</td>\n",
       "      <td>8006780413564552457</td>\n",
       "      <td>1564812380</td>\n",
       "      <td>246</td>\n",
       "    </tr>\n",
       "    <tr>\n",
       "      <th>117897</th>\n",
       "      <td>PaymentScreenSuccessful</td>\n",
       "      <td>3980203365390854445</td>\n",
       "      <td>1564913353</td>\n",
       "      <td>248</td>\n",
       "    </tr>\n",
       "  </tbody>\n",
       "</table>\n",
       "</div>"
      ],
      "text/plain": [
       "                     event_name              user_id   timestamp  group\n",
       "107314         MainScreenAppear  3286987355161301427  1564867330    248\n",
       "38796   PaymentScreenSuccessful  1872978591788881482  1564700287    247\n",
       "240523       OffersScreenAppear  4257848154605915902  1565202372    247\n",
       "77616          MainScreenAppear  8006780413564552457  1564812380    246\n",
       "117897  PaymentScreenSuccessful  3980203365390854445  1564913353    248"
      ]
     },
     "execution_count": 4,
     "metadata": {},
     "output_type": "execute_result"
    }
   ],
   "source": [
    "df.drop_duplicates().reset_index(drop=True)\n",
    "df.columns = ['event_name', 'user_id', 'timestamp', 'group']\n",
    "df.sample(5)"
   ]
  },
  {
   "cell_type": "markdown",
   "metadata": {},
   "source": [
    "### Добавление сведений о дате и времени"
   ]
  },
  {
   "cell_type": "markdown",
   "metadata": {},
   "source": [
    "В отдельном столбце переведем данные о дате и времени в стандартный формат datetime до секунд. Выделим дату события в столбец 'date'"
   ]
  },
  {
   "cell_type": "code",
   "execution_count": 5,
   "metadata": {},
   "outputs": [
    {
     "data": {
      "text/html": [
       "<div>\n",
       "<style scoped>\n",
       "    .dataframe tbody tr th:only-of-type {\n",
       "        vertical-align: middle;\n",
       "    }\n",
       "\n",
       "    .dataframe tbody tr th {\n",
       "        vertical-align: top;\n",
       "    }\n",
       "\n",
       "    .dataframe thead th {\n",
       "        text-align: right;\n",
       "    }\n",
       "</style>\n",
       "<table border=\"1\" class=\"dataframe\">\n",
       "  <thead>\n",
       "    <tr style=\"text-align: right;\">\n",
       "      <th></th>\n",
       "      <th>event_name</th>\n",
       "      <th>user_id</th>\n",
       "      <th>timestamp</th>\n",
       "      <th>group</th>\n",
       "      <th>datetime</th>\n",
       "      <th>date</th>\n",
       "    </tr>\n",
       "  </thead>\n",
       "  <tbody>\n",
       "    <tr>\n",
       "      <th>244121</th>\n",
       "      <td>MainScreenAppear</td>\n",
       "      <td>4599628364049201812</td>\n",
       "      <td>1565212345</td>\n",
       "      <td>247</td>\n",
       "      <td>2019-08-07 21:12:25</td>\n",
       "      <td>2019-08-07</td>\n",
       "    </tr>\n",
       "    <tr>\n",
       "      <th>244122</th>\n",
       "      <td>MainScreenAppear</td>\n",
       "      <td>5849806612437486590</td>\n",
       "      <td>1565212439</td>\n",
       "      <td>246</td>\n",
       "      <td>2019-08-07 21:13:59</td>\n",
       "      <td>2019-08-07</td>\n",
       "    </tr>\n",
       "    <tr>\n",
       "      <th>244123</th>\n",
       "      <td>MainScreenAppear</td>\n",
       "      <td>5746969938801999050</td>\n",
       "      <td>1565212483</td>\n",
       "      <td>246</td>\n",
       "      <td>2019-08-07 21:14:43</td>\n",
       "      <td>2019-08-07</td>\n",
       "    </tr>\n",
       "    <tr>\n",
       "      <th>244124</th>\n",
       "      <td>MainScreenAppear</td>\n",
       "      <td>5746969938801999050</td>\n",
       "      <td>1565212498</td>\n",
       "      <td>246</td>\n",
       "      <td>2019-08-07 21:14:58</td>\n",
       "      <td>2019-08-07</td>\n",
       "    </tr>\n",
       "    <tr>\n",
       "      <th>244125</th>\n",
       "      <td>OffersScreenAppear</td>\n",
       "      <td>5746969938801999050</td>\n",
       "      <td>1565212517</td>\n",
       "      <td>246</td>\n",
       "      <td>2019-08-07 21:15:17</td>\n",
       "      <td>2019-08-07</td>\n",
       "    </tr>\n",
       "  </tbody>\n",
       "</table>\n",
       "</div>"
      ],
      "text/plain": [
       "                event_name              user_id   timestamp  group  \\\n",
       "244121    MainScreenAppear  4599628364049201812  1565212345    247   \n",
       "244122    MainScreenAppear  5849806612437486590  1565212439    246   \n",
       "244123    MainScreenAppear  5746969938801999050  1565212483    246   \n",
       "244124    MainScreenAppear  5746969938801999050  1565212498    246   \n",
       "244125  OffersScreenAppear  5746969938801999050  1565212517    246   \n",
       "\n",
       "                  datetime        date  \n",
       "244121 2019-08-07 21:12:25  2019-08-07  \n",
       "244122 2019-08-07 21:13:59  2019-08-07  \n",
       "244123 2019-08-07 21:14:43  2019-08-07  \n",
       "244124 2019-08-07 21:14:58  2019-08-07  \n",
       "244125 2019-08-07 21:15:17  2019-08-07  "
      ]
     },
     "execution_count": 5,
     "metadata": {},
     "output_type": "execute_result"
    }
   ],
   "source": [
    "df['datetime'] = pd.to_datetime(df['timestamp'], unit=\"s\")\n",
    "df['date'] = df['datetime'].dt.date\n",
    "df.tail(5)"
   ]
  },
  {
   "cell_type": "markdown",
   "metadata": {},
   "source": [
    "### Вывод\n",
    "\n",
    "В логах \n",
    "- удалены дубликаты;\n",
    "- стобцы переименованы в соответствии с содержимым;\n",
    "- добавлень столбец с датой и временем в стандартном формате;\n",
    "- выделен столбец дат."
   ]
  },
  {
   "cell_type": "markdown",
   "metadata": {},
   "source": [
    "## Изучение и проверка данных \n",
    "\n",
    "### Подсчет событий, пользователей и среднего числа событий пользователя\n",
    "\n",
    "Подсчитаем число уникальных событий, пользователей и групп. "
   ]
  },
  {
   "cell_type": "code",
   "execution_count": 6,
   "metadata": {},
   "outputs": [
    {
     "data": {
      "text/plain": [
       "event_name       5\n",
       "user_id       7551\n",
       "group            3\n",
       "dtype: int64"
      ]
     },
     "execution_count": 6,
     "metadata": {},
     "output_type": "execute_result"
    }
   ],
   "source": [
    "df[['event_name', 'user_id', 'group']].nunique()"
   ]
  },
  {
   "cell_type": "markdown",
   "metadata": {},
   "source": [
    "В логах представлено 5 видов событий, 7551 уникальный пользователь, распределенный по трем группам (2 контрольные и 1 тестовая).\n",
    "\n",
    "Рассчитаем среднее количество событий на одного пользователя."
   ]
  },
  {
   "cell_type": "code",
   "execution_count": 7,
   "metadata": {},
   "outputs": [
    {
     "data": {
      "text/html": [
       "<div>\n",
       "<style scoped>\n",
       "    .dataframe tbody tr th:only-of-type {\n",
       "        vertical-align: middle;\n",
       "    }\n",
       "\n",
       "    .dataframe tbody tr th {\n",
       "        vertical-align: top;\n",
       "    }\n",
       "\n",
       "    .dataframe thead th {\n",
       "        text-align: right;\n",
       "    }\n",
       "</style>\n",
       "<table border=\"1\" class=\"dataframe\">\n",
       "  <thead>\n",
       "    <tr style=\"text-align: right;\">\n",
       "      <th></th>\n",
       "      <th>count</th>\n",
       "      <th>mean</th>\n",
       "      <th>std</th>\n",
       "      <th>min</th>\n",
       "      <th>25%</th>\n",
       "      <th>50%</th>\n",
       "      <th>75%</th>\n",
       "      <th>max</th>\n",
       "    </tr>\n",
       "  </thead>\n",
       "  <tbody>\n",
       "    <tr>\n",
       "      <th>event_count</th>\n",
       "      <td>27226.00</td>\n",
       "      <td>8.97</td>\n",
       "      <td>23.02</td>\n",
       "      <td>1.00</td>\n",
       "      <td>3.00</td>\n",
       "      <td>5.00</td>\n",
       "      <td>10.00</td>\n",
       "      <td>2190.00</td>\n",
       "    </tr>\n",
       "  </tbody>\n",
       "</table>\n",
       "</div>"
      ],
      "text/plain": [
       "               count  mean   std  min  25%  50%   75%     max\n",
       "event_count 27226.00  8.97 23.02 1.00 3.00 5.00 10.00 2190.00"
      ]
     },
     "metadata": {},
     "output_type": "display_data"
    }
   ],
   "source": [
    "user_events = df.groupby(['user_id', 'date'], as_index=False).agg({'event_name': ['count', 'first']})\n",
    "user_events.columns = ['user_id', 'date', 'event_count', 'first_event_name']\n",
    "display (user_events[['event_count']].describe().T)"
   ]
  },
  {
   "cell_type": "markdown",
   "metadata": {},
   "source": [
    "- Количество событий на одного пользователя варьирует от 1 до 2308\n",
    "- Среднее количество событий на одного пользователя - 32,33\n",
    "- Медианное количество событий на пользователя - 20\n",
    "\n",
    "Проверим, какого рода единичные события присутствуют в сете."
   ]
  },
  {
   "cell_type": "code",
   "execution_count": 8,
   "metadata": {},
   "outputs": [
    {
     "data": {
      "text/plain": [
       "MainScreenAppear           2819\n",
       "OffersScreenAppear          366\n",
       "CartScreenAppear             67\n",
       "Tutorial                     11\n",
       "PaymentScreenSuccessful       5\n",
       "Name: first_event_name, dtype: int64"
      ]
     },
     "execution_count": 8,
     "metadata": {},
     "output_type": "execute_result"
    }
   ],
   "source": [
    "user_events.query('event_count == 1')['first_event_name'].value_counts()"
   ]
  },
  {
   "cell_type": "markdown",
   "metadata": {},
   "source": [
    "Основная масса единичных действий пользователя - открытие главной страницы. Однако присутствуют и такие пользователи, которые посетили за исследуемый период исключительно страницу предложений / корзину / справку и даже страницу успешной оплаты.\n",
    "\n",
    "Необходимы разъяснения коллег по поводу специфики мобильного приложения: возможно ли технически, чтобы первым и единственным действием пользователя было посещение страницы предложений, корзины, справки или успешной оплаты, либо же здесь кроется ошибка. Возможно, что это остаточные действия сессий, начавшихся до периода наблюдений. "
   ]
  },
  {
   "cell_type": "markdown",
   "metadata": {},
   "source": [
    "### Изучение периода наблюдений\n",
    "\n",
    "Рассмотрим подробнее представленный период."
   ]
  },
  {
   "cell_type": "code",
   "execution_count": 9,
   "metadata": {},
   "outputs": [
    {
     "name": "stdout",
     "output_type": "stream",
     "text": [
      "2019-07-25\n",
      "2019-08-07\n",
      "13 days 16:31:41\n"
     ]
    }
   ],
   "source": [
    "print(df['date'].min())\n",
    "print(df['date'].max())\n",
    "print(df['datetime'].max() - df['datetime'].min())"
   ]
  },
  {
   "cell_type": "markdown",
   "metadata": {},
   "source": [
    "В логах данные с 25-07-2019 по 07-08-2019 за 13 дней, 16 часов, 31 минуту и 41 секунду."
   ]
  },
  {
   "cell_type": "markdown",
   "metadata": {},
   "source": [
    "Рассмотрим распределение событий по дням. Построим таблицу и гистрограмму"
   ]
  },
  {
   "cell_type": "code",
   "execution_count": 10,
   "metadata": {},
   "outputs": [
    {
     "data": {
      "text/html": [
       "<div>\n",
       "<style scoped>\n",
       "    .dataframe tbody tr th:only-of-type {\n",
       "        vertical-align: middle;\n",
       "    }\n",
       "\n",
       "    .dataframe tbody tr th {\n",
       "        vertical-align: top;\n",
       "    }\n",
       "\n",
       "    .dataframe thead th {\n",
       "        text-align: right;\n",
       "    }\n",
       "</style>\n",
       "<table border=\"1\" class=\"dataframe\">\n",
       "  <thead>\n",
       "    <tr style=\"text-align: right;\">\n",
       "      <th></th>\n",
       "      <th>event_name</th>\n",
       "    </tr>\n",
       "    <tr>\n",
       "      <th>date</th>\n",
       "      <th></th>\n",
       "    </tr>\n",
       "  </thead>\n",
       "  <tbody>\n",
       "    <tr>\n",
       "      <th>2019-07-25</th>\n",
       "      <td>9</td>\n",
       "    </tr>\n",
       "    <tr>\n",
       "      <th>2019-07-26</th>\n",
       "      <td>31</td>\n",
       "    </tr>\n",
       "    <tr>\n",
       "      <th>2019-07-27</th>\n",
       "      <td>55</td>\n",
       "    </tr>\n",
       "    <tr>\n",
       "      <th>2019-07-28</th>\n",
       "      <td>105</td>\n",
       "    </tr>\n",
       "    <tr>\n",
       "      <th>2019-07-29</th>\n",
       "      <td>184</td>\n",
       "    </tr>\n",
       "    <tr>\n",
       "      <th>2019-07-30</th>\n",
       "      <td>413</td>\n",
       "    </tr>\n",
       "    <tr>\n",
       "      <th>2019-07-31</th>\n",
       "      <td>2031</td>\n",
       "    </tr>\n",
       "    <tr>\n",
       "      <th>2019-08-01</th>\n",
       "      <td>36229</td>\n",
       "    </tr>\n",
       "    <tr>\n",
       "      <th>2019-08-02</th>\n",
       "      <td>35606</td>\n",
       "    </tr>\n",
       "    <tr>\n",
       "      <th>2019-08-03</th>\n",
       "      <td>33351</td>\n",
       "    </tr>\n",
       "    <tr>\n",
       "      <th>2019-08-04</th>\n",
       "      <td>33033</td>\n",
       "    </tr>\n",
       "    <tr>\n",
       "      <th>2019-08-05</th>\n",
       "      <td>36113</td>\n",
       "    </tr>\n",
       "    <tr>\n",
       "      <th>2019-08-06</th>\n",
       "      <td>35822</td>\n",
       "    </tr>\n",
       "    <tr>\n",
       "      <th>2019-08-07</th>\n",
       "      <td>31144</td>\n",
       "    </tr>\n",
       "  </tbody>\n",
       "</table>\n",
       "</div>"
      ],
      "text/plain": [
       "            event_name\n",
       "date                  \n",
       "2019-07-25           9\n",
       "2019-07-26          31\n",
       "2019-07-27          55\n",
       "2019-07-28         105\n",
       "2019-07-29         184\n",
       "2019-07-30         413\n",
       "2019-07-31        2031\n",
       "2019-08-01       36229\n",
       "2019-08-02       35606\n",
       "2019-08-03       33351\n",
       "2019-08-04       33033\n",
       "2019-08-05       36113\n",
       "2019-08-06       35822\n",
       "2019-08-07       31144"
      ]
     },
     "execution_count": 10,
     "metadata": {},
     "output_type": "execute_result"
    }
   ],
   "source": [
    "df.groupby('date').agg({'event_name': 'count'})"
   ]
  },
  {
   "cell_type": "code",
   "execution_count": 11,
   "metadata": {},
   "outputs": [
    {
     "data": {
      "image/png": "[encoded data removed]",
      "text/plain": [
       "<Figure size 432x288 with 1 Axes>"
      ]
     },
     "metadata": {
      "needs_background": "light"
     },
     "output_type": "display_data"
    }
   ],
   "source": [
    "df['datetime'].hist(bins=14)\n",
    "plt.title('Распределение количества записей по дням')\n",
    "plt.xlabel('Дата')\n",
    "plt.ylabel('Количество записей')\n",
    "plt.xticks(rotation=45);"
   ]
  },
  {
   "cell_type": "markdown",
   "metadata": {},
   "source": [
    "Судя по таблице и гистограмме до 01-08-2019 в сет попадали остаточные сведения от предыдущих активностей пользователей: событий значительно меньше, чем в последующие дни. Следовательно, полноценный анализ можно осуществлять лишь на основе данных с 01-08-2019 по 07-08-2019.\n",
    "\n",
    "Число событий в последний день наблюдений тоже немного меньше, чем в другие дни. Определим максимальное время получения информации в последний день наблюдений:"
   ]
  },
  {
   "cell_type": "code",
   "execution_count": 12,
   "metadata": {},
   "outputs": [
    {
     "data": {
      "text/plain": [
       "Timestamp('2019-08-07 21:15:17')"
      ]
     },
     "execution_count": 12,
     "metadata": {},
     "output_type": "execute_result"
    }
   ],
   "source": [
    "df['datetime'].max()"
   ]
  },
  {
   "cell_type": "markdown",
   "metadata": {},
   "source": [
    "В данных за 07-08-2019 не достает 2 часов и 45 минут наблюдений. Однако количество данных отличается от стандартного не сильно (активность пользователей снижена поздним вечером). Поэтому оставим для изучения данные этого дня.\n",
    "\n",
    "Исследуем процентное соотношение в сете данных до 01-08-2019 и после. "
   ]
  },
  {
   "cell_type": "code",
   "execution_count": 13,
   "metadata": {},
   "outputs": [
    {
     "name": "stdout",
     "output_type": "stream",
     "text": [
      "1.16% записей приходится на период 25.07.2019 по 31.07.2019\n",
      "19.22% уникальных пользователей использовали приложение в этот период\n",
      "0.23% уникальных пользователей использовали приложение исключительно в этот период\n"
     ]
    }
   ],
   "source": [
    "date_check = datetime(2019, 8, 1).date()\n",
    "print ('{:.2%} записей приходится на период 25.07.2019 по 31.07.2019'\n",
    "       .format(len(df.query('date < @date_check')) / len(df)))\n",
    "print ('{:.2%} уникальных пользователей использовали приложение в этот период'\n",
    "       .format(df.query('date < @date_check')['user_id'].nunique() / df['user_id'].nunique()))\n",
    "print ('{:.2%} уникальных пользователей использовали приложение исключительно в этот период'\n",
    "       .format((df['user_id'].nunique() - df.query('date >= @date_check')['user_id'].nunique()) / df['user_id'].nunique()))\n"
   ]
  },
  {
   "cell_type": "markdown",
   "metadata": {},
   "source": [
    "Таким образом лишь чуть более 1% записей приходится на первую неделю. В них 19% уникальных пользователей, но почти все они заходили в приложение и позже. \n",
    "\n",
    "Исключим из анализа период до 01-08-2019, поскольку информация за этот период не является полной. Подобная фильтрация не грозит потерей значимой части информации.\n",
    "\n",
    "Убедимся, что пользователи всех групп присутствуют в оставшейся части сета."
   ]
  },
  {
   "cell_type": "code",
   "execution_count": 14,
   "metadata": {},
   "outputs": [
    {
     "data": {
      "text/html": [
       "<div>\n",
       "<style scoped>\n",
       "    .dataframe tbody tr th:only-of-type {\n",
       "        vertical-align: middle;\n",
       "    }\n",
       "\n",
       "    .dataframe tbody tr th {\n",
       "        vertical-align: top;\n",
       "    }\n",
       "\n",
       "    .dataframe thead th {\n",
       "        text-align: right;\n",
       "    }\n",
       "</style>\n",
       "<table border=\"1\" class=\"dataframe\">\n",
       "  <thead>\n",
       "    <tr style=\"text-align: right;\">\n",
       "      <th></th>\n",
       "      <th>user_id</th>\n",
       "    </tr>\n",
       "    <tr>\n",
       "      <th>group</th>\n",
       "      <th></th>\n",
       "    </tr>\n",
       "  </thead>\n",
       "  <tbody>\n",
       "    <tr>\n",
       "      <th>246</th>\n",
       "      <td>2484</td>\n",
       "    </tr>\n",
       "    <tr>\n",
       "      <th>247</th>\n",
       "      <td>2513</td>\n",
       "    </tr>\n",
       "    <tr>\n",
       "      <th>248</th>\n",
       "      <td>2537</td>\n",
       "    </tr>\n",
       "  </tbody>\n",
       "</table>\n",
       "</div>"
      ],
      "text/plain": [
       "       user_id\n",
       "group         \n",
       "246       2484\n",
       "247       2513\n",
       "248       2537"
      ]
     },
     "execution_count": 14,
     "metadata": {},
     "output_type": "execute_result"
    }
   ],
   "source": [
    "df2 = df[df['date'] >= date_check]\n",
    "df2_groups = df2.groupby('group').agg({'user_id': 'nunique'})\n",
    "df2_groups"
   ]
  },
  {
   "cell_type": "markdown",
   "metadata": {},
   "source": [
    "В оставшихся данных за период 01-08-2019 - 07-08-2019 уникальные пользователи присутствуют во всех трех группах практически в равном количестве. "
   ]
  },
  {
   "cell_type": "markdown",
   "metadata": {},
   "source": [
    "Узнаем, избавило ли ограничение по времени наблюдений от единственных событий пользователя, отличных от посещения главного экрана. "
   ]
  },
  {
   "cell_type": "code",
   "execution_count": 15,
   "metadata": {},
   "outputs": [
    {
     "data": {
      "text/plain": [
       "MainScreenAppear      2031\n",
       "OffersScreenAppear     182\n",
       "Tutorial                 7\n",
       "CartScreenAppear         5\n",
       "Name: first_event_name, dtype: int64"
      ]
     },
     "execution_count": 15,
     "metadata": {},
     "output_type": "execute_result"
    }
   ],
   "source": [
    "user_events2 = df2.groupby(['user_id', 'date'], as_index=False).agg({'event_name': ['count', 'first']})\n",
    "user_events2.columns = ['user_id', 'date', 'event_count', 'first_event_name']\n",
    "user_events2.query('event_count == 1')['first_event_name'].value_counts()"
   ]
  },
  {
   "cell_type": "markdown",
   "metadata": {},
   "source": [
    "Случаи, когда единственное действие пользователя - открытие страницы предложений, справки или корзины, уменьшились по количеству, но все равно присутствуют. Из единственных действий пользователей исчезла лишь страница успешной оплаты. Предположим, что существует техническая возможность начинать работу с остальных страниц и не будем исключать подобные примеры из сета. \n",
    "\n",
    "### Вывод\n",
    "\n",
    "- В данных присутствуют:\n",
    "        - 7551 уникальный пользователь\n",
    "        - 5 видов событий \n",
    "        - 3 группы (2 контрольных и 1 тестовая)\n",
    "        - события за период 25-07-2019 - 07-08-2019\n",
    "- Распределение событий по дням неравномерно: до 31-07-2019 включительно максимальное число событий в день существенно меньше, чем в последующие дни (2031 против 31144). Предположительно это технические особенности сбора данных, в ходе которых в исследуемый период дописывались данные предыдущих дней. Следовательно, период до 01-08-2019 исключаем из анализа с потерей 1% строк.\n",
    "- Изучаемый период составит 7 дней: 01-08-2019 - 07-08-2019\n",
    "- В данных присутствуют пользователи, единственным действием которых в изучаемом периоде является открытие страницы предложений, корзины или справки. Оставим эти данные в сете, предположив, что технически существует возможность открытия приложения на любой странице. "
   ]
  },
  {
   "cell_type": "markdown",
   "metadata": {},
   "source": [
    "## Исследование воронки событий\n",
    "\n",
    "### Анализ видов и частоты событий в логах\n",
    "\n",
    "Как уже было рассмотрено при первичном обзоре данных, в логах 5 видов событий, по частоте встречаемости расположенных следующим образом: \n",
    "- страница главного экрана (119205 событий данного вида);\n",
    "- страница предложений (46825);\n",
    "- страница корзины (42731);\n",
    "- страница успешной оплаты (34313);\n",
    "- справка (1052)."
   ]
  },
  {
   "cell_type": "code",
   "execution_count": 16,
   "metadata": {},
   "outputs": [
    {
     "data": {
      "image/png": "[encoded data removed]",
      "text/plain": [
       "<Figure size 432x288 with 1 Axes>"
      ]
     },
     "metadata": {
      "needs_background": "light"
     },
     "output_type": "display_data"
    }
   ],
   "source": [
    "df_event_count = df2.groupby('event_name', as_index=False).agg({'user_id':'count'})\n",
    "df_event_count.columns = ['event_name', 'event_count']\n",
    "df_event_count = df_event_count.sort_values(by='event_count', ascending=False)\n",
    "fig = sns.barplot(x='event_name', y='event_count', data=df_event_count)\n",
    "fig.set_title('Частота встречаемости различных видов событий')\n",
    "fig.set_xlabel('Виды событий')\n",
    "fig.set_ylabel('Число событий в сете')\n",
    "plt.xticks(rotation=30, horizontalalignment='right');"
   ]
  },
  {
   "cell_type": "markdown",
   "metadata": {},
   "source": [
    "Частота посещения главного экрана приложения более, чем в 2 раза превышает частоту использования страницы предложения. Тогда как обращений к странице корзины почти столько же, сколько посещений страницы предложения. Число обращений к справке незначительно. "
   ]
  },
  {
   "cell_type": "markdown",
   "metadata": {},
   "source": [
    "### Число и доля пользователей по видам событий"
   ]
  },
  {
   "cell_type": "markdown",
   "metadata": {},
   "source": [
    "Посчитаем число уникальных пользователей, совершивших событие каждого вида хотя бы 1 раз в исследуемый период"
   ]
  },
  {
   "cell_type": "code",
   "execution_count": 17,
   "metadata": {},
   "outputs": [
    {
     "data": {
      "text/html": [
       "<div>\n",
       "<style scoped>\n",
       "    .dataframe tbody tr th:only-of-type {\n",
       "        vertical-align: middle;\n",
       "    }\n",
       "\n",
       "    .dataframe tbody tr th {\n",
       "        vertical-align: top;\n",
       "    }\n",
       "\n",
       "    .dataframe thead th {\n",
       "        text-align: right;\n",
       "    }\n",
       "</style>\n",
       "<table border=\"1\" class=\"dataframe\">\n",
       "  <thead>\n",
       "    <tr style=\"text-align: right;\">\n",
       "      <th></th>\n",
       "      <th>event_name</th>\n",
       "      <th>event_count</th>\n",
       "      <th>unique_user_count</th>\n",
       "      <th>users_rate</th>\n",
       "    </tr>\n",
       "  </thead>\n",
       "  <tbody>\n",
       "    <tr>\n",
       "      <th>0</th>\n",
       "      <td>MainScreenAppear</td>\n",
       "      <td>117431</td>\n",
       "      <td>7419</td>\n",
       "      <td>1.00</td>\n",
       "    </tr>\n",
       "    <tr>\n",
       "      <th>1</th>\n",
       "      <td>OffersScreenAppear</td>\n",
       "      <td>46350</td>\n",
       "      <td>4593</td>\n",
       "      <td>0.62</td>\n",
       "    </tr>\n",
       "    <tr>\n",
       "      <th>2</th>\n",
       "      <td>CartScreenAppear</td>\n",
       "      <td>42365</td>\n",
       "      <td>3734</td>\n",
       "      <td>0.50</td>\n",
       "    </tr>\n",
       "    <tr>\n",
       "      <th>3</th>\n",
       "      <td>PaymentScreenSuccessful</td>\n",
       "      <td>34113</td>\n",
       "      <td>3539</td>\n",
       "      <td>0.48</td>\n",
       "    </tr>\n",
       "    <tr>\n",
       "      <th>4</th>\n",
       "      <td>Tutorial</td>\n",
       "      <td>1039</td>\n",
       "      <td>840</td>\n",
       "      <td>0.11</td>\n",
       "    </tr>\n",
       "  </tbody>\n",
       "</table>\n",
       "</div>"
      ],
      "text/plain": [
       "                event_name  event_count  unique_user_count  users_rate\n",
       "0         MainScreenAppear       117431               7419        1.00\n",
       "1       OffersScreenAppear        46350               4593        0.62\n",
       "2         CartScreenAppear        42365               3734        0.50\n",
       "3  PaymentScreenSuccessful        34113               3539        0.48\n",
       "4                 Tutorial         1039                840        0.11"
      ]
     },
     "execution_count": 17,
     "metadata": {},
     "output_type": "execute_result"
    }
   ],
   "source": [
    "df_funnel = df2.groupby('event_name', as_index=False).agg({'user_id': ['count', 'nunique']})\n",
    "df_funnel.columns=['event_name', 'event_count', 'unique_user_count']\n",
    "df_funnel = df_funnel.sort_values(by='unique_user_count', ascending=False).reset_index(drop=True)\n",
    "df_funnel['users_rate'] = df_funnel['unique_user_count'] / df_funnel.loc[0, 'unique_user_count']\n",
    "df_funnel"
   ]
  },
  {
   "cell_type": "markdown",
   "metadata": {},
   "source": [
    "Стандартной последовательностью взаимодействия пользователя с приложением в ходе покупки является следующая:\n",
    "- Страница главного экрана;\n",
    "- Страница предложения;\n",
    "- Страница корзины;\n",
    "- Страница успешной оплаты.\n",
    "\n",
    "Страница справки не является заключительным этапом. К ней пользователь может обращаться после любого другого события или даже в первую очередь, поэтому исключим строку с количеством пользователей, открывавших справочную информацию и построим воронку по значимым событиям, ведущим пользователя к успешной покупке."
   ]
  },
  {
   "cell_type": "markdown",
   "metadata": {},
   "source": [
    "### Анализ воронки продаж \n",
    "\n",
    "Построим воронку с автоматическим рассчетом процента пользователей, перешедших на каждый следующий этап. "
   ]
  },
  {
   "cell_type": "code",
   "execution_count": 18,
   "metadata": {},
   "outputs": [
    {
     "data": {
      "image/png": "[encoded data removed]"
     },
     "metadata": {},
     "output_type": "display_data"
    }
   ],
   "source": [
    "df_funnel = df_funnel.loc[:3]\n",
    "fig = go.Figure(go.Funnel(y=df_funnel['event_name'], x=df_funnel['unique_user_count']))\n",
    "fig.update_layout(title='Event funnel',\n",
    "                  yaxis_title='Events')\n",
    "fig.show('png')"
   ]
  },
  {
   "cell_type": "markdown",
   "metadata": {},
   "source": [
    "figure.png"
   ]
  },
  {
   "cell_type": "markdown",
   "metadata": {},
   "source": [
    "Из представленного графика видно, что самое большое число пользователей - 38% - теряется после главной страницы, 18,7% не переходят от предложения к корзине. Наименьшие потери при переходе от корзины к успешной оплате. Значит, технических проблем с оплатой у пользователей не возникает. \n",
    "\n",
    "От общего числа посетителей главной страницы 62% открывают предложения, 50,4% переходят в корзину и 47,7% успешно ее оплачивают. \n",
    "\n",
    "Таким образом, до успешной оплаты заказа доходит 47,7% пользователей, зашедших в приложение, а наибольшие потери происходят на этапе перехода от главной страницы к предложению."
   ]
  },
  {
   "cell_type": "markdown",
   "metadata": {},
   "source": [
    "### Вывод\n",
    "\n",
    "* В сете 5 видов событий, по частоте встречаемости расположенных следующим образом: главная страница, страница предложений, страница корзины, страница успешной оплаты, справка. \n",
    "* Справочная информация не является заключительным этапом воронки продаж, поэтому исключена из нее. \n",
    "* Наиболее количество покупателей (38%) \"отваливается\" после посещения главной страницы. Вероятно, на главном экране приложения не хватает уникального торгового предложения и/или призывов к действию, мотивирующих пользователей переходить к покупкам. Изменения главной страницы могут стать основой следующего А/В-теста.  \n",
    "* Существенное количество пользователей (18,7%) не переходит от предложения к корзине. Здесь необходимы дополнительные исследования-опросы, чего именно не нашел пользователь среди предложений сайта. Можно осуществить данный опрос при помощи e-mail - рассылки для клиентов или добавить опрос на саму страницу предложения. Возможно, необходимо расширение ассортимента и/или улучшение навигации по предложениям. \n",
    "* Наименьшие потери пользователей происходят при переходе от корзины к успешной оплате. Следовательно, пользователи практически не забывают о своих корзинах, удовлетворены предложенными условиями оплаты и не сталкиваются с техническими сложностями. Для повышения эффективности конверсии из корзины в покупку можно использовать e-mail рассылку о забытой корзине (если это еще не реализовано), а также мониторинг ошибок, возникающих в ходе взаимодействия.\n",
    "* 47,7% пользователей, зашедших в приложение, успешно совершает в нем покупку. "
   ]
  },
  {
   "cell_type": "markdown",
   "metadata": {},
   "source": [
    "## Анализ результатов эксперимента\n",
    "\n",
    "### Исследование числа участников и чистоты распределения групп"
   ]
  },
  {
   "cell_type": "markdown",
   "metadata": {},
   "source": [
    "Убедимся, что сортировка прошла успешно и в каждой группе свои уникальные пользователи."
   ]
  },
  {
   "cell_type": "code",
   "execution_count": 19,
   "metadata": {},
   "outputs": [
    {
     "data": {
      "text/html": [
       "<div>\n",
       "<style scoped>\n",
       "    .dataframe tbody tr th:only-of-type {\n",
       "        vertical-align: middle;\n",
       "    }\n",
       "\n",
       "    .dataframe tbody tr th {\n",
       "        vertical-align: top;\n",
       "    }\n",
       "\n",
       "    .dataframe thead th {\n",
       "        text-align: right;\n",
       "    }\n",
       "</style>\n",
       "<table border=\"1\" class=\"dataframe\">\n",
       "  <thead>\n",
       "    <tr style=\"text-align: right;\">\n",
       "      <th>group</th>\n",
       "      <th>246</th>\n",
       "      <th>247</th>\n",
       "      <th>248</th>\n",
       "    </tr>\n",
       "  </thead>\n",
       "  <tbody>\n",
       "    <tr>\n",
       "      <th>user_id</th>\n",
       "      <td>2484</td>\n",
       "      <td>2513</td>\n",
       "      <td>2537</td>\n",
       "    </tr>\n",
       "  </tbody>\n",
       "</table>\n",
       "</div>"
      ],
      "text/plain": [
       "group     246   247   248\n",
       "user_id  2484  2513  2537"
      ]
     },
     "execution_count": 19,
     "metadata": {},
     "output_type": "execute_result"
    }
   ],
   "source": [
    "users_group = df2.groupby('group').agg({'user_id': 'nunique'})\n",
    "users_group.T"
   ]
  },
  {
   "cell_type": "markdown",
   "metadata": {},
   "source": [
    "Рассчитаем, на сколько процентов отличается количество уникальных пользователей контрольных групп."
   ]
  },
  {
   "cell_type": "code",
   "execution_count": 20,
   "metadata": {},
   "outputs": [
    {
     "name": "stdout",
     "output_type": "stream",
     "text": [
      "Число уникальных пользователей контрольных групп отличается на 1.17%\n"
     ]
    }
   ],
   "source": [
    "print ('Число уникальных пользователей контрольных групп отличается на {:.2%}'\n",
    "       .format((df2_groups.loc[247, 'user_id'] \n",
    "                - df2_groups.loc[246, 'user_id']) \n",
    "               / df2_groups.loc[246, 'user_id']))"
   ]
  },
  {
   "cell_type": "markdown",
   "metadata": {},
   "source": [
    "Полученный результат не является идеальным, но близок к допустимой разнице между контрольными группами в 1%.\n",
    "\n",
    "Проверим соответствие числа уникальных пользователей исследуемого сета и суммы уникальных пользователей по группам."
   ]
  },
  {
   "cell_type": "code",
   "execution_count": 21,
   "metadata": {},
   "outputs": [
    {
     "name": "stdout",
     "output_type": "stream",
     "text": [
      "Разница между суммой уникальных пользователей в группах \n",
      "и числом уникальных пользователей всего сета - 0\n"
     ]
    }
   ],
   "source": [
    "print ('''Разница между суммой уникальных пользователей в группах \n",
    "и числом уникальных пользователей всего сета -''',\n",
    "df2['user_id'].nunique() - users_group['user_id'].sum())"
   ]
  },
  {
   "cell_type": "markdown",
   "metadata": {},
   "source": [
    "Проведем дополнительную проверку и убедимся, что уникальные пользователи каждой группы в сете упоминаются только в этой группе. "
   ]
  },
  {
   "cell_type": "code",
   "execution_count": 22,
   "metadata": {},
   "outputs": [
    {
     "name": "stdout",
     "output_type": "stream",
     "text": [
      "[246]\n",
      "[248]\n",
      "[247]\n"
     ]
    }
   ],
   "source": [
    "group_numbers = df['group'].unique()\n",
    "for x in group_numbers:\n",
    "    df_group = df2[df2['group'] == x]\n",
    "    group_list= df_group['user_id'].unique()\n",
    "    print (df2.query('user_id in @group_list')['group'].unique())"
   ]
  },
  {
   "cell_type": "markdown",
   "metadata": {},
   "source": [
    "Рассмотрим общее количество событий пользователей в разных группах и их распределение. "
   ]
  },
  {
   "cell_type": "code",
   "execution_count": 23,
   "metadata": {},
   "outputs": [
    {
     "data": {
      "image/png": "[encoded data removed]",
      "text/plain": [
       "<Figure size 1296x288 with 3 Axes>"
      ]
     },
     "metadata": {
      "needs_background": "light"
     },
     "output_type": "display_data"
    }
   ],
   "source": [
    "plt.figure(figsize=(18, 4))\n",
    "\n",
    "ax1 = plt.subplot(1, 3, 1)\n",
    "df_group_246 = df2.query('group == 246')\n",
    "df_group_246.groupby('user_id', as_index=False).agg({'event_name': 'count'})['event_name'].hist(range=(0, 100))\n",
    "plt.xlabel('Количество событий')\n",
    "plt.ylabel('Количество пользователей')\n",
    "plt.title('Распределение количества событий в группе 246');\n",
    "\n",
    "ax2 = plt.subplot(1, 3, 2)\n",
    "df_group_247 = df2.query('group == 247')\n",
    "df_group_247.groupby('user_id', as_index=False).agg({'event_name': 'count'})['event_name'].hist(range=(0, 100))\n",
    "plt.xlabel('Количество событий')\n",
    "plt.ylabel('Количество пользователей')\n",
    "plt.title('Распределение количества событий в группе 247');\n",
    "\n",
    "ax3 = plt.subplot(1, 3, 3)\n",
    "df_group_248 = df2.query('group == 248')\n",
    "df_group_248.groupby('user_id', as_index=False).agg({'event_name': 'count'})['event_name'].hist(range=(0, 100))\n",
    "plt.xlabel('Количество событий')\n",
    "plt.ylabel('Количество пользователей')\n",
    "plt.title('Распределение количества событий в группе 248');"
   ]
  },
  {
   "cell_type": "markdown",
   "metadata": {},
   "source": [
    "Распределение количества событий по пользователям разных групп является примерно одинаковым. Во всех случаях есть пользователи с аномально высоким числом событий."
   ]
  },
  {
   "cell_type": "markdown",
   "metadata": {},
   "source": [
    "### Исследование различий контрольных групп.\n",
    "\n",
    "Напишем функцию для подсчета долей уникальных пользователей, участвовавших в каждом событии, и анализа статистической значимости различия в долях между группами. \n",
    "\n",
    "Анализ числа обращений к справочной информации тоже может быть полезен, как показатель того, не стало ли приложение менее интуитивно понятнее для пользователей. Поэтому не будем исключать данные о посещениях справочной страницы из анализа."
   ]
  },
  {
   "cell_type": "code",
   "execution_count": 24,
   "metadata": {},
   "outputs": [],
   "source": [
    "def share_comparison (df_xgroup, df_ygroup, alpha):\n",
    "    # для каждой из анализируемых групп \n",
    "    # создадим группировку по видам событий и \n",
    "    # подсчитаем количество и долю уникальных пользователей \n",
    "    xgroup_events = (df_xgroup\n",
    "                     .groupby('event_name', as_index=False)\n",
    "                     .agg({'user_id':'nunique'})\n",
    "                     .sort_values(by='user_id', ascending=False)\n",
    "                     .reset_index(drop=True))\n",
    "    # переименуем столбцы\n",
    "    xgroup_events.columns = ['event_name', 'uniq_users']\n",
    "    # посчитаем долю пользователей для каждого вида событий\n",
    "    xgroup_events['users_rate'] = (xgroup_events['uniq_users']\n",
    "                                   /xgroup_events.loc[0, 'uniq_users'])\n",
    "    # повторим процедуру для второй группы\n",
    "    ygroup_events = (df_ygroup\n",
    "                     .groupby('event_name', as_index=False)\n",
    "                     .agg({'user_id':'nunique'})\n",
    "                     .sort_values(by='user_id', ascending=False)\n",
    "                     .reset_index(drop=True))\n",
    "    ygroup_events.columns = ['event_name', 'uniq_users']\n",
    "    ygroup_events['users_rate'] = (ygroup_events['uniq_users']\n",
    "                                   /ygroup_events.loc[0, 'uniq_users'])\n",
    "    # объединим два фрейма с информацией о долях уникальных пользователей, участвовавших в каждом событии\n",
    "    groups_merge = xgroup_events.merge(ygroup_events, \n",
    "                                       on='event_name', \n",
    "                                       how='left')\n",
    "    display (groups_merge)\n",
    "    \n",
    "    alpha = alpha #критический уровень статистической значимости\n",
    "\n",
    "    for n in range(4):\n",
    "        # формируем множество, отражающее успех в каждой из двух групп\n",
    "        purchases = np.array([groups_merge.loc[n+1, 'uniq_users_x'], groups_merge.loc[n+1, 'uniq_users_y']])\n",
    "        # формируем множество, отражающее попытки в каждой из двух групп\n",
    "        leads = np.array([groups_merge.loc[n, 'uniq_users_x'], groups_merge.loc[n, 'uniq_users_y']])\n",
    "        # пропорция успехов в первой группе\n",
    "        p1 = purchases[0]/leads[0]\n",
    "        # пропорция успехов во второй группе\n",
    "        p2 = purchases[1]/leads[1]\n",
    "        # пропорция успехов в комбинированном датасете\n",
    "        p_combined = (purchases[0] + purchases[1]) / (leads[0] + leads[1])\n",
    "        # разница пропорций в датасетах\n",
    "        difference = p1 - p2\n",
    "        # считаем статистику в стандартных отклонениях стандартного нормального распределения\n",
    "        z_value = difference / mth.sqrt(p_combined * (1-p_combined) * (1/leads[0] + 1/leads[1]))\n",
    "        # задаем стандартное нормальное распределение (среднее 0, ст. отклонение 1)\n",
    "        distr = st.norm(0, 1)\n",
    "        \n",
    "        # расчитываем значимую вероятность, исходя из того, что\n",
    "        # H0 - доли групп не отличаются, H1 - доли групп отличаются\n",
    "        p_value = (1-distr.cdf(abs(z_value))) * 2\n",
    "        # описываем вывод\n",
    "        print (f'Отличия в долях конверсии строки {n} в следующий этап. P-значение:', p_value)\n",
    "        if p_value < alpha:\n",
    "            print ('Отвергаем нулевую гипотезу: между долями долями групп есть значимая разница')\n",
    "            print (80*\"-\")\n",
    "        else:\n",
    "            print ('Не получилось отвергнуть нулевую гипотезу, нет оснований считать доли разными')\n",
    "            print (80*\"-\")\n",
    "    return print (80*\"-\")"
   ]
  },
  {
   "cell_type": "markdown",
   "metadata": {},
   "source": [
    "Применим функцию для анализа различия долей в контрольных группах. Поскольку объемы выборок > 100 пользователей, то порог отклонения нулевой гипотезы целесообразно снизить до α=0,01 и принимать решение о наличии различий при р ≤ 0,01. В таком случае лишь в 1 случае из 100 может быть случайно обнаруженно различие, которого нет в данных. Т.е. имеется лишь 1 шанс из 100 ошибиться."
   ]
  },
  {
   "cell_type": "code",
   "execution_count": 25,
   "metadata": {},
   "outputs": [
    {
     "data": {
      "text/html": [
       "<div>\n",
       "<style scoped>\n",
       "    .dataframe tbody tr th:only-of-type {\n",
       "        vertical-align: middle;\n",
       "    }\n",
       "\n",
       "    .dataframe tbody tr th {\n",
       "        vertical-align: top;\n",
       "    }\n",
       "\n",
       "    .dataframe thead th {\n",
       "        text-align: right;\n",
       "    }\n",
       "</style>\n",
       "<table border=\"1\" class=\"dataframe\">\n",
       "  <thead>\n",
       "    <tr style=\"text-align: right;\">\n",
       "      <th></th>\n",
       "      <th>event_name</th>\n",
       "      <th>uniq_users_x</th>\n",
       "      <th>users_rate_x</th>\n",
       "      <th>uniq_users_y</th>\n",
       "      <th>users_rate_y</th>\n",
       "    </tr>\n",
       "  </thead>\n",
       "  <tbody>\n",
       "    <tr>\n",
       "      <th>0</th>\n",
       "      <td>MainScreenAppear</td>\n",
       "      <td>2450</td>\n",
       "      <td>1.00</td>\n",
       "      <td>2476</td>\n",
       "      <td>1.00</td>\n",
       "    </tr>\n",
       "    <tr>\n",
       "      <th>1</th>\n",
       "      <td>OffersScreenAppear</td>\n",
       "      <td>1542</td>\n",
       "      <td>0.63</td>\n",
       "      <td>1520</td>\n",
       "      <td>0.61</td>\n",
       "    </tr>\n",
       "    <tr>\n",
       "      <th>2</th>\n",
       "      <td>CartScreenAppear</td>\n",
       "      <td>1266</td>\n",
       "      <td>0.52</td>\n",
       "      <td>1238</td>\n",
       "      <td>0.50</td>\n",
       "    </tr>\n",
       "    <tr>\n",
       "      <th>3</th>\n",
       "      <td>PaymentScreenSuccessful</td>\n",
       "      <td>1200</td>\n",
       "      <td>0.49</td>\n",
       "      <td>1158</td>\n",
       "      <td>0.47</td>\n",
       "    </tr>\n",
       "    <tr>\n",
       "      <th>4</th>\n",
       "      <td>Tutorial</td>\n",
       "      <td>278</td>\n",
       "      <td>0.11</td>\n",
       "      <td>283</td>\n",
       "      <td>0.11</td>\n",
       "    </tr>\n",
       "  </tbody>\n",
       "</table>\n",
       "</div>"
      ],
      "text/plain": [
       "                event_name  uniq_users_x  users_rate_x  uniq_users_y  \\\n",
       "0         MainScreenAppear          2450          1.00          2476   \n",
       "1       OffersScreenAppear          1542          0.63          1520   \n",
       "2         CartScreenAppear          1266          0.52          1238   \n",
       "3  PaymentScreenSuccessful          1200          0.49          1158   \n",
       "4                 Tutorial           278          0.11           283   \n",
       "\n",
       "   users_rate_y  \n",
       "0          1.00  \n",
       "1          0.61  \n",
       "2          0.50  \n",
       "3          0.47  \n",
       "4          0.11  "
      ]
     },
     "metadata": {},
     "output_type": "display_data"
    },
    {
     "name": "stdout",
     "output_type": "stream",
     "text": [
      "Отличия в долях конверсии строки 0 в следующий этап. P-значение: 0.2622344959255778\n",
      "Не получилось отвергнуть нулевую гипотезу, нет оснований считать доли разными\n",
      "--------------------------------------------------------------------------------\n",
      "Отличия в долях конверсии строки 1 в следующий этап. P-значение: 0.6393754713145263\n",
      "Не получилось отвергнуть нулевую гипотезу, нет оснований считать доли разными\n",
      "--------------------------------------------------------------------------------\n",
      "Отличия в долях конверсии строки 2 в следующий этап. P-значение: 0.18243439408067652\n",
      "Не получилось отвергнуть нулевую гипотезу, нет оснований считать доли разными\n",
      "--------------------------------------------------------------------------------\n",
      "Отличия в долях конверсии строки 3 в следующий этап. P-значение: 0.46833167209360305\n",
      "Не получилось отвергнуть нулевую гипотезу, нет оснований считать доли разными\n",
      "--------------------------------------------------------------------------------\n",
      "--------------------------------------------------------------------------------\n"
     ]
    }
   ],
   "source": [
    "share_comparison(df_group_246, df_group_247, .01)"
   ]
  },
  {
   "cell_type": "markdown",
   "metadata": {},
   "source": [
    "Для контрольных групп на уровне значимости 0,01 не существует  различий в долях пользователей, перешедших на каждый следующий этап воронки. Также не существует различий в долях пользователей, воспользовавшихся справочной информацией. \n",
    "\n",
    "С учетом предыдущей информации о чистоте распределения и отклонении числа уникальных пользователей в группах на 1,17% можно говорить об успешности проведенного А/А-теста и разделения пользователей по группам. "
   ]
  },
  {
   "cell_type": "markdown",
   "metadata": {},
   "source": [
    "### Исследования различий контрольных и тестовой группы\n",
    "\n",
    "Сравним теперь каждую из контрольных групп с тестовой, используя ту же функцию и тот же уровень значимости, учитывая, что в используемой функции нулевая и альтернативная гипотеза следующие:\n",
    "* H0 - доли групп статистически значимо не отличаются\n",
    "* H1 - доли групп статистически значимо различаются"
   ]
  },
  {
   "cell_type": "code",
   "execution_count": 26,
   "metadata": {},
   "outputs": [
    {
     "data": {
      "text/html": [
       "<div>\n",
       "<style scoped>\n",
       "    .dataframe tbody tr th:only-of-type {\n",
       "        vertical-align: middle;\n",
       "    }\n",
       "\n",
       "    .dataframe tbody tr th {\n",
       "        vertical-align: top;\n",
       "    }\n",
       "\n",
       "    .dataframe thead th {\n",
       "        text-align: right;\n",
       "    }\n",
       "</style>\n",
       "<table border=\"1\" class=\"dataframe\">\n",
       "  <thead>\n",
       "    <tr style=\"text-align: right;\">\n",
       "      <th></th>\n",
       "      <th>event_name</th>\n",
       "      <th>uniq_users_x</th>\n",
       "      <th>users_rate_x</th>\n",
       "      <th>uniq_users_y</th>\n",
       "      <th>users_rate_y</th>\n",
       "    </tr>\n",
       "  </thead>\n",
       "  <tbody>\n",
       "    <tr>\n",
       "      <th>0</th>\n",
       "      <td>MainScreenAppear</td>\n",
       "      <td>2450</td>\n",
       "      <td>1.00</td>\n",
       "      <td>2493</td>\n",
       "      <td>1.00</td>\n",
       "    </tr>\n",
       "    <tr>\n",
       "      <th>1</th>\n",
       "      <td>OffersScreenAppear</td>\n",
       "      <td>1542</td>\n",
       "      <td>0.63</td>\n",
       "      <td>1531</td>\n",
       "      <td>0.61</td>\n",
       "    </tr>\n",
       "    <tr>\n",
       "      <th>2</th>\n",
       "      <td>CartScreenAppear</td>\n",
       "      <td>1266</td>\n",
       "      <td>0.52</td>\n",
       "      <td>1230</td>\n",
       "      <td>0.49</td>\n",
       "    </tr>\n",
       "    <tr>\n",
       "      <th>3</th>\n",
       "      <td>PaymentScreenSuccessful</td>\n",
       "      <td>1200</td>\n",
       "      <td>0.49</td>\n",
       "      <td>1181</td>\n",
       "      <td>0.47</td>\n",
       "    </tr>\n",
       "    <tr>\n",
       "      <th>4</th>\n",
       "      <td>Tutorial</td>\n",
       "      <td>278</td>\n",
       "      <td>0.11</td>\n",
       "      <td>279</td>\n",
       "      <td>0.11</td>\n",
       "    </tr>\n",
       "  </tbody>\n",
       "</table>\n",
       "</div>"
      ],
      "text/plain": [
       "                event_name  uniq_users_x  users_rate_x  uniq_users_y  \\\n",
       "0         MainScreenAppear          2450          1.00          2493   \n",
       "1       OffersScreenAppear          1542          0.63          1531   \n",
       "2         CartScreenAppear          1266          0.52          1230   \n",
       "3  PaymentScreenSuccessful          1200          0.49          1181   \n",
       "4                 Tutorial           278          0.11           279   \n",
       "\n",
       "   users_rate_y  \n",
       "0          1.00  \n",
       "1          0.61  \n",
       "2          0.49  \n",
       "3          0.47  \n",
       "4          0.11  "
      ]
     },
     "metadata": {},
     "output_type": "display_data"
    },
    {
     "name": "stdout",
     "output_type": "stream",
     "text": [
      "Отличия в долях конверсии строки 0 в следующий этап. P-значение: 0.2684281587249231\n",
      "Не получилось отвергнуть нулевую гипотезу, нет оснований считать доли разными\n",
      "--------------------------------------------------------------------------------\n",
      "Отличия в долях конверсии строки 1 в следующий этап. P-значение: 0.2112170818054686\n",
      "Не получилось отвергнуть нулевую гипотезу, нет оснований считать доли разными\n",
      "--------------------------------------------------------------------------------\n",
      "Отличия в долях конверсии строки 2 в следующий этап. P-значение: 0.14295341270419004\n",
      "Не получилось отвергнуть нулевую гипотезу, нет оснований считать доли разными\n",
      "--------------------------------------------------------------------------------\n",
      "Отличия в долях конверсии строки 3 в следующий этап. P-значение: 0.7920938967629971\n",
      "Не получилось отвергнуть нулевую гипотезу, нет оснований считать доли разными\n",
      "--------------------------------------------------------------------------------\n",
      "--------------------------------------------------------------------------------\n"
     ]
    }
   ],
   "source": [
    "share_comparison (df_group_246, df_group_248, .01)"
   ]
  },
  {
   "cell_type": "markdown",
   "metadata": {},
   "source": [
    "Для контрольной группы 246 и тестовой группы 248 не существует статистически значимых отличий (для уровня значимости 0,01) в долях пользователей, перешедших на каждый следующий уровень воронки продаж. Также не являются статистически значимыми различия в долях пользователей, открывших справочную информацию. \n",
    "\n",
    "Исследуем значимость отличия долей пользователей для контрольной группы 247 и тестовой 248, учитывая, что в используемой функции нулевая и альтернативная гипотеза следующие:\n",
    "\n",
    "* H0 - доли групп статистически значимо не отличаются\n",
    "* H1 - доли групп статистически значимо различаются"
   ]
  },
  {
   "cell_type": "code",
   "execution_count": 27,
   "metadata": {},
   "outputs": [
    {
     "data": {
      "text/html": [
       "<div>\n",
       "<style scoped>\n",
       "    .dataframe tbody tr th:only-of-type {\n",
       "        vertical-align: middle;\n",
       "    }\n",
       "\n",
       "    .dataframe tbody tr th {\n",
       "        vertical-align: top;\n",
       "    }\n",
       "\n",
       "    .dataframe thead th {\n",
       "        text-align: right;\n",
       "    }\n",
       "</style>\n",
       "<table border=\"1\" class=\"dataframe\">\n",
       "  <thead>\n",
       "    <tr style=\"text-align: right;\">\n",
       "      <th></th>\n",
       "      <th>event_name</th>\n",
       "      <th>uniq_users_x</th>\n",
       "      <th>users_rate_x</th>\n",
       "      <th>uniq_users_y</th>\n",
       "      <th>users_rate_y</th>\n",
       "    </tr>\n",
       "  </thead>\n",
       "  <tbody>\n",
       "    <tr>\n",
       "      <th>0</th>\n",
       "      <td>MainScreenAppear</td>\n",
       "      <td>2476</td>\n",
       "      <td>1.00</td>\n",
       "      <td>2493</td>\n",
       "      <td>1.00</td>\n",
       "    </tr>\n",
       "    <tr>\n",
       "      <th>1</th>\n",
       "      <td>OffersScreenAppear</td>\n",
       "      <td>1520</td>\n",
       "      <td>0.61</td>\n",
       "      <td>1531</td>\n",
       "      <td>0.61</td>\n",
       "    </tr>\n",
       "    <tr>\n",
       "      <th>2</th>\n",
       "      <td>CartScreenAppear</td>\n",
       "      <td>1238</td>\n",
       "      <td>0.50</td>\n",
       "      <td>1230</td>\n",
       "      <td>0.49</td>\n",
       "    </tr>\n",
       "    <tr>\n",
       "      <th>3</th>\n",
       "      <td>PaymentScreenSuccessful</td>\n",
       "      <td>1158</td>\n",
       "      <td>0.47</td>\n",
       "      <td>1181</td>\n",
       "      <td>0.47</td>\n",
       "    </tr>\n",
       "    <tr>\n",
       "      <th>4</th>\n",
       "      <td>Tutorial</td>\n",
       "      <td>283</td>\n",
       "      <td>0.11</td>\n",
       "      <td>279</td>\n",
       "      <td>0.11</td>\n",
       "    </tr>\n",
       "  </tbody>\n",
       "</table>\n",
       "</div>"
      ],
      "text/plain": [
       "                event_name  uniq_users_x  users_rate_x  uniq_users_y  \\\n",
       "0         MainScreenAppear          2476          1.00          2493   \n",
       "1       OffersScreenAppear          1520          0.61          1531   \n",
       "2         CartScreenAppear          1238          0.50          1230   \n",
       "3  PaymentScreenSuccessful          1158          0.47          1181   \n",
       "4                 Tutorial           283          0.11           279   \n",
       "\n",
       "   users_rate_y  \n",
       "0          1.00  \n",
       "1          0.61  \n",
       "2          0.49  \n",
       "3          0.47  \n",
       "4          0.11  "
      ]
     },
     "metadata": {},
     "output_type": "display_data"
    },
    {
     "name": "stdout",
     "output_type": "stream",
     "text": [
      "Отличия в долях конверсии строки 0 в следующий этап. P-значение: 0.9869365252844515\n",
      "Не получилось отвергнуть нулевую гипотезу, нет оснований считать доли разными\n",
      "--------------------------------------------------------------------------------\n",
      "Отличия в долях конверсии строки 1 в следующий этап. P-значение: 0.4364903513062255\n",
      "Не получилось отвергнуть нулевую гипотезу, нет оснований считать доли разными\n",
      "--------------------------------------------------------------------------------\n",
      "Отличия в долях конверсии строки 2 в следующий этап. P-значение: 0.005677465395736325\n",
      "Отвергаем нулевую гипотезу: между долями долями групп есть значимая разница\n",
      "--------------------------------------------------------------------------------\n",
      "Отличия в долях конверсии строки 3 в следующий этап. P-значение: 0.6447626122251844\n",
      "Не получилось отвергнуть нулевую гипотезу, нет оснований считать доли разными\n",
      "--------------------------------------------------------------------------------\n",
      "--------------------------------------------------------------------------------\n"
     ]
    }
   ],
   "source": [
    "share_comparison (df_group_247, df_group_248, .01)"
   ]
  },
  {
   "cell_type": "markdown",
   "metadata": {},
   "source": [
    "При сравнении долей контрольной 247-ой группы и тестовой 248-ой были обнаружены значимые (для уровня статистической значимости, равного 0,01) различия в долях пользователей, перешедших от страницы корзины к странице оплаты. В остальных долях не обнаржено статистически значимых отличий.\n",
    "\n",
    "Рассмотрим подробнее процент пользователей, перешедших от корзины к успешной оплате в группах 247 и 248. "
   ]
  },
  {
   "cell_type": "code",
   "execution_count": 28,
   "metadata": {},
   "outputs": [
    {
     "name": "stdout",
     "output_type": "stream",
     "text": [
      "Конверсия перехода от корзины к успешной оплате в контрольной группе 247 составила 93.54%\n",
      "Конверсия перехода от корзины к успешной оплате в тестовой группе 248 составила 96.02%\n"
     ]
    }
   ],
   "source": [
    "print ('Конверсия перехода от корзины к успешной оплате в контрольной группе 247 составила {:.2%}'.format(1158/1238))\n",
    "print ('Конверсия перехода от корзины к успешной оплате в тестовой группе 248 составила {:.2%}'.format(1181/1230))"
   ]
  },
  {
   "cell_type": "markdown",
   "metadata": {},
   "source": [
    "Таким образом, на текущем этапе можно сказать, что, если изменение шрифта и повлияло на пользователей, то лишь в положительную сторону, увеличив вероятность перехода от корзины к успешной оплате. Хотя следует отметить, что найденные различия могут быть тем 1% ошибки, которую мы допускаем, принимая текущий уровень значимости теста. \n",
    "\n",
    "Сравним обе контрольные группы (246 и 247) с тестовой (248), помня, что в используемой функции нулевая и альтернативная гипотеза следующие:\n",
    "\n",
    "* H0 - доли групп статистически значимо не отличаются\n",
    "* H1 - доли групп статистически значимо различаются"
   ]
  },
  {
   "cell_type": "code",
   "execution_count": 29,
   "metadata": {},
   "outputs": [],
   "source": [
    "df_control = df.query('group == 246 or group == 247')"
   ]
  },
  {
   "cell_type": "code",
   "execution_count": 30,
   "metadata": {},
   "outputs": [
    {
     "data": {
      "text/html": [
       "<div>\n",
       "<style scoped>\n",
       "    .dataframe tbody tr th:only-of-type {\n",
       "        vertical-align: middle;\n",
       "    }\n",
       "\n",
       "    .dataframe tbody tr th {\n",
       "        vertical-align: top;\n",
       "    }\n",
       "\n",
       "    .dataframe thead th {\n",
       "        text-align: right;\n",
       "    }\n",
       "</style>\n",
       "<table border=\"1\" class=\"dataframe\">\n",
       "  <thead>\n",
       "    <tr style=\"text-align: right;\">\n",
       "      <th></th>\n",
       "      <th>event_name</th>\n",
       "      <th>uniq_users_x</th>\n",
       "      <th>users_rate_x</th>\n",
       "      <th>uniq_users_y</th>\n",
       "      <th>users_rate_y</th>\n",
       "    </tr>\n",
       "  </thead>\n",
       "  <tbody>\n",
       "    <tr>\n",
       "      <th>0</th>\n",
       "      <td>MainScreenAppear</td>\n",
       "      <td>4938</td>\n",
       "      <td>1.00</td>\n",
       "      <td>2493</td>\n",
       "      <td>1.00</td>\n",
       "    </tr>\n",
       "    <tr>\n",
       "      <th>1</th>\n",
       "      <td>OffersScreenAppear</td>\n",
       "      <td>3075</td>\n",
       "      <td>0.62</td>\n",
       "      <td>1531</td>\n",
       "      <td>0.61</td>\n",
       "    </tr>\n",
       "    <tr>\n",
       "      <th>2</th>\n",
       "      <td>CartScreenAppear</td>\n",
       "      <td>2510</td>\n",
       "      <td>0.51</td>\n",
       "      <td>1230</td>\n",
       "      <td>0.49</td>\n",
       "    </tr>\n",
       "    <tr>\n",
       "      <th>3</th>\n",
       "      <td>PaymentScreenSuccessful</td>\n",
       "      <td>2362</td>\n",
       "      <td>0.48</td>\n",
       "      <td>1181</td>\n",
       "      <td>0.47</td>\n",
       "    </tr>\n",
       "    <tr>\n",
       "      <th>4</th>\n",
       "      <td>Tutorial</td>\n",
       "      <td>565</td>\n",
       "      <td>0.11</td>\n",
       "      <td>279</td>\n",
       "      <td>0.11</td>\n",
       "    </tr>\n",
       "  </tbody>\n",
       "</table>\n",
       "</div>"
      ],
      "text/plain": [
       "                event_name  uniq_users_x  users_rate_x  uniq_users_y  \\\n",
       "0         MainScreenAppear          4938          1.00          2493   \n",
       "1       OffersScreenAppear          3075          0.62          1531   \n",
       "2         CartScreenAppear          2510          0.51          1230   \n",
       "3  PaymentScreenSuccessful          2362          0.48          1181   \n",
       "4                 Tutorial           565          0.11           279   \n",
       "\n",
       "   users_rate_y  \n",
       "0          1.00  \n",
       "1          0.61  \n",
       "2          0.49  \n",
       "3          0.47  \n",
       "4          0.11  "
      ]
     },
     "metadata": {},
     "output_type": "display_data"
    },
    {
     "name": "stdout",
     "output_type": "stream",
     "text": [
      "Отличия в долях конверсии строки 0 в следующий этап. P-значение: 0.4707418337312781\n",
      "Не получилось отвергнуть нулевую гипотезу, нет оснований считать доли разными\n",
      "--------------------------------------------------------------------------------\n",
      "Отличия в долях конверсии строки 1 в следующий этап. P-значение: 0.2925470663179588\n",
      "Не получилось отвергнуть нулевую гипотезу, нет оснований считать доли разными\n",
      "--------------------------------------------------------------------------------\n",
      "Отличия в долях конверсии строки 2 в следующий этап. P-значение: 0.013890962893988723\n",
      "Не получилось отвергнуть нулевую гипотезу, нет оснований считать доли разными\n",
      "--------------------------------------------------------------------------------\n",
      "Отличия в долях конверсии строки 3 в следующий этап. P-значение: 0.8452307002479922\n",
      "Не получилось отвергнуть нулевую гипотезу, нет оснований считать доли разными\n",
      "--------------------------------------------------------------------------------\n",
      "--------------------------------------------------------------------------------\n"
     ]
    }
   ],
   "source": [
    "share_comparison (df_control, df_group_248, .01)"
   ]
  },
  {
   "cell_type": "markdown",
   "metadata": {},
   "source": [
    "По совокупности двух контрольных групп на уровне значимости 0,01 не существует статистически значимых различий в долях пользователей, перешедших на каждый следующий этап воронки. Что также немаловажно, не существует значимых различий в долях пользователей, воспользовавшихся справочной информацией. Таким образом, на текущих наблюдениях можно сделать вывод о том, что изменение шрифта не повлияло значимым образом на поведение пользователей."
   ]
  },
  {
   "cell_type": "markdown",
   "metadata": {},
   "source": [
    "### Вывод\n",
    "\n",
    "Разделение на группы произведено успешно:\n",
    "* Пользователи уникальны для каждой группы. В исследуемом периоде число уникальных пользователей каждой группы составило около 2,5 тыс. Различие числа пользователей между контрольными группами - 1.17% - является близким к допустимому.\n",
    "* Распределение количества событий для пользователей разных групп визуально похожи.\n",
    "* Для контрольных групп на уровне значимости 0,01 не существует статистически значимых различий в долях пользователей, перешедших на каждый следующий этап воронки. Также не существует различий в долях пользователей, воспользовавшихся справочной информацией.\n",
    "\n",
    "Анализ равенства долей, проведенный при помощи кумулятивной функции распределения, дает основания полагать, что изменение шрифта не повлияло значимым образом на поведение пользователей:\n",
    "- На уровне критической значимости, равном 0,01, не обнаружено отличий долей при переходе от одного этапа воронки продаж к следующему (минимальные отличия в сторону увеличения возможны при переходе от корзины к успешной оплате).\n",
    "- Не существует значимых различий в долях пользователей, воспользовавшихся справочной информацией. Следовательно, изменение шрифта не повлияло на легкость восприятия информации пользователями и не затруднило и не облегчило взаимодействие с приложением. \n",
    "\n",
    "Подобные результаты текущего анализа позволяют предположить, что шрифт приложения можно сменить на предложенный тестовой группе и это не скажется на поведении пользователей. В то же время, изменение шрифта не окажет и положительного влияния: доля пользователей на каждом этапе взаимодействия с приложением останется прежней. \n",
    "\n",
    "В связи с этим рекомендуется вернуться к цели подобного изменения и обсудить его целесообразность с командой. Если изменение шрифта было направлено на увеличение конверсии, то оно показало свою неэффективность. Если же это изменение вызвано корпоративными/техническими или другими внешними требованиями, то такое изменение допустимо, поскольку значимо не влияет на пользователей. "
   ]
  },
  {
   "cell_type": "markdown",
   "metadata": {},
   "source": [
    "## Выводы"
   ]
  },
  {
   "cell_type": "markdown",
   "metadata": {},
   "source": [
    "В ходе знакомства с данными обнаружены следующие особенности:\n",
    "* В представленных для анализа логах присутствуют 244126 записи действий пользователей при использовании мобильного приложения по заказу продуктов питания.\n",
    "* В анализе участвуют 5 видов событий (в порядке уменьшения количества появления):\n",
    "    - страница главного экрана;\n",
    "    - страница предложений;\n",
    "    - страница корзины;\n",
    "    - страница успешной оплаты;\n",
    "    - справка.\n",
    "* Данные были очищены от дубликатов, приведены к нужным типам и подготовлены к анализу. \n",
    "\n",
    "При подготовке данных к анализу:\n",
    "* Из существующего в логах временного промежутка для анализа был выбран период 01-08-2019 - 07-08-2019 за полноту представленных в нем сведений. Около 1% данных потеряно при отсечении выбранного промежутка. \n",
    "* В логах представлено 7551 уникальных пользователей, примерно равномерно распределенных по трем группам (2 контрольные и 1 тестовая).\n",
    "* В среднем каждый пользователей совершил 32,33 события (20 по медиане)\n",
    "* Наибольшее количество уникальных пользователей посетило главную страницу, наименьшее - страницу справочной информации.\n",
    "\n",
    "При изучении воронки продаж обнаружено:\n",
    "* Справочная информация не является заключительным этапом воронки продаж, поэтому исключена из нее. \n",
    "* Наибольшее количество покупателей (38%) \"отваливается\" после посещения главной страницы. Вероятно, на главном экране приложения не хватает уникального торгового предложения и/или призывов к действию, мотивирующих пользователей переходить к немедленным покупкам. Изменения главной страницы могут стать основой следующего А/В-теста.  \n",
    "* Существенное количество пользователей (18,7%) не переходит от предложения к корзине. Здесь необходимы дополнительные исследования-опросы, чего именно не нашел пользователь среди предложений сайта. Можно осуществить данный опрос при помощи e-mail - рассылки для клиентов или добавить опрос на саму страницу предложения. Возможно, необходимо расширение ассортимента и/или улучшение навигации по предложениям.\n",
    "* Наименьшие потери пользователей происходят при переходе от корзины к успешной оплате. Следовательно, пользователи практически не забывают о своих корзинах, удовлетворены предложенными условиями оплаты и не сталкиваются с техническими сложностями. Для повышения эффективности конверсии из корзины в покупку можно использовать e-mail рассылку о забытой корзине (если это не реализовано), а также мониторинг ошибок, возникающих в ходе работы с приложением.\n",
    "* 47,7% пользователей, зашедших в приложение, успешно совершает в нем покупку. \n",
    "\n",
    "В ходе анализа А/В-теста получены следующие результаты:\n",
    "* Анализ А/В теста показывает, что разделение на группы произведено успешно: пользователи в группах уникальны, различия в числе уникальных пользователей контрольных групп - 1,17%, что является допустимым. \n",
    "* Анализ равенства долей дает основания полагать, что изменение шрифта не повлияло значимым образом на поведение пользователей.\n",
    "* Шрифт приложения можно сменить на предложенный тестовой группе и это не скажется на поведении пользователей. В то же время, изменение шрифта не окажет и положительного влияния: доля пользователей на каждом этапе взаимодействия с приложением останется прежней. Необходима дополнительная оценка целесообразности изменений шрифта. \n",
    "\n",
    "Таким образом, независимо от внедрения изменений цвета шрифта, текущие особенности конверсии останутся прежними: больше всего пользователей будет теряться после главной страницы, существенная часть при переходе от предложения к корзине и небольшой процент при переходе от корзины к успешной оплате. Рекомендуется направить усилия на увеличение конверсии на каждом из описанных этапов. "
   ]
  }
 ],
 "metadata": {
  "ExecuteTimeLog": [
   {
    "duration": 87,
    "start_time": "2022-04-11T16:16:41.045Z"
   },
   {
    "duration": 2120,
    "start_time": "2022-04-11T16:16:44.195Z"
   },
   {
    "duration": 430,
    "start_time": "2022-04-11T16:16:50.939Z"
   },
   {
    "duration": 444,
    "start_time": "2022-04-11T16:16:56.115Z"
   },
   {
    "duration": 98,
    "start_time": "2022-04-11T16:17:18.035Z"
   },
   {
    "duration": 103,
    "start_time": "2022-04-11T16:18:40.656Z"
   },
   {
    "duration": 7,
    "start_time": "2022-04-11T16:19:08.974Z"
   },
   {
    "duration": 494,
    "start_time": "2022-04-11T16:19:17.219Z"
   },
   {
    "duration": 107,
    "start_time": "2022-04-11T16:19:34.047Z"
   },
   {
    "duration": 205,
    "start_time": "2022-04-11T16:19:41.854Z"
   },
   {
    "duration": 317,
    "start_time": "2022-04-11T18:03:33.987Z"
   },
   {
    "duration": 98,
    "start_time": "2022-04-11T18:25:11.258Z"
   },
   {
    "duration": 5,
    "start_time": "2022-04-11T18:25:21.314Z"
   },
   {
    "duration": 5,
    "start_time": "2022-04-11T18:25:26.002Z"
   },
   {
    "duration": 9,
    "start_time": "2022-04-11T18:27:56.014Z"
   },
   {
    "duration": 10,
    "start_time": "2022-04-11T18:27:59.814Z"
   },
   {
    "duration": 11,
    "start_time": "2022-04-11T18:28:02.647Z"
   },
   {
    "duration": 18,
    "start_time": "2022-04-11T18:28:06.670Z"
   },
   {
    "duration": 43,
    "start_time": "2022-04-11T18:28:21.702Z"
   },
   {
    "duration": 1637,
    "start_time": "2022-04-11T18:28:31.162Z"
   },
   {
    "duration": 197,
    "start_time": "2022-04-11T18:28:32.802Z"
   },
   {
    "duration": 306,
    "start_time": "2022-04-11T18:28:33.001Z"
   },
   {
    "duration": 5,
    "start_time": "2022-04-11T18:28:33.311Z"
   },
   {
    "duration": 90,
    "start_time": "2022-04-11T18:28:33.318Z"
   },
   {
    "duration": 17,
    "start_time": "2022-04-11T18:28:33.410Z"
   },
   {
    "duration": 8,
    "start_time": "2022-04-11T18:28:43.895Z"
   },
   {
    "duration": 18,
    "start_time": "2022-04-11T18:28:46.828Z"
   },
   {
    "duration": 4,
    "start_time": "2022-04-11T18:38:17.017Z"
   },
   {
    "duration": 25,
    "start_time": "2022-04-11T18:38:25.304Z"
   },
   {
    "duration": 26,
    "start_time": "2022-04-11T18:38:32.591Z"
   },
   {
    "duration": 20,
    "start_time": "2022-04-11T18:38:49.030Z"
   },
   {
    "duration": 148,
    "start_time": "2022-04-11T18:39:45.020Z"
   },
   {
    "duration": 121,
    "start_time": "2022-04-11T18:41:05.738Z"
   },
   {
    "duration": 1494,
    "start_time": "2022-04-11T18:41:28.470Z"
   },
   {
    "duration": 218,
    "start_time": "2022-04-11T18:41:29.970Z"
   },
   {
    "duration": 324,
    "start_time": "2022-04-11T18:41:30.192Z"
   },
   {
    "duration": 7,
    "start_time": "2022-04-11T18:41:30.518Z"
   },
   {
    "duration": 55,
    "start_time": "2022-04-11T18:41:30.527Z"
   },
   {
    "duration": 271,
    "start_time": "2022-04-11T18:41:30.585Z"
   },
   {
    "duration": 134,
    "start_time": "2022-04-11T18:46:28.574Z"
   },
   {
    "duration": 18,
    "start_time": "2022-04-11T18:48:13.971Z"
   },
   {
    "duration": 107,
    "start_time": "2022-04-11T18:50:44.910Z"
   },
   {
    "duration": 145,
    "start_time": "2022-04-11T18:50:53.652Z"
   },
   {
    "duration": 131,
    "start_time": "2022-04-11T18:51:34.191Z"
   },
   {
    "duration": 1654,
    "start_time": "2022-04-11T18:51:41.982Z"
   },
   {
    "duration": 212,
    "start_time": "2022-04-11T18:51:43.638Z"
   },
   {
    "duration": 333,
    "start_time": "2022-04-11T18:51:43.852Z"
   },
   {
    "duration": 9,
    "start_time": "2022-04-11T18:51:44.187Z"
   },
   {
    "duration": 30,
    "start_time": "2022-04-11T18:51:44.200Z"
   },
   {
    "duration": 200,
    "start_time": "2022-04-11T18:51:44.232Z"
   },
   {
    "duration": 169,
    "start_time": "2022-04-11T18:52:16.075Z"
   },
   {
    "duration": 60,
    "start_time": "2022-04-11T18:52:30.502Z"
   },
   {
    "duration": 25,
    "start_time": "2022-04-11T18:52:50.745Z"
   },
   {
    "duration": 24,
    "start_time": "2022-04-11T18:52:59.345Z"
   },
   {
    "duration": 54,
    "start_time": "2022-04-12T07:22:04.548Z"
   },
   {
    "duration": 1425,
    "start_time": "2022-04-12T07:22:10.940Z"
   },
   {
    "duration": 155,
    "start_time": "2022-04-12T07:22:12.367Z"
   },
   {
    "duration": 219,
    "start_time": "2022-04-12T07:22:12.524Z"
   },
   {
    "duration": 7,
    "start_time": "2022-04-12T07:22:12.745Z"
   },
   {
    "duration": 17,
    "start_time": "2022-04-12T07:22:12.754Z"
   },
   {
    "duration": 99,
    "start_time": "2022-04-12T07:22:12.772Z"
   },
   {
    "duration": 43,
    "start_time": "2022-04-12T07:22:12.873Z"
   },
   {
    "duration": 31,
    "start_time": "2022-04-12T07:22:12.918Z"
   },
   {
    "duration": 21,
    "start_time": "2022-04-12T07:22:12.951Z"
   },
   {
    "duration": 245,
    "start_time": "2022-04-12T07:23:06.620Z"
   },
   {
    "duration": 224,
    "start_time": "2022-04-12T07:23:31.826Z"
   },
   {
    "duration": 1246,
    "start_time": "2022-04-12T07:23:53.444Z"
   },
   {
    "duration": 156,
    "start_time": "2022-04-12T07:23:54.691Z"
   },
   {
    "duration": 189,
    "start_time": "2022-04-12T07:23:54.848Z"
   },
   {
    "duration": 7,
    "start_time": "2022-04-12T07:23:55.040Z"
   },
   {
    "duration": 19,
    "start_time": "2022-04-12T07:23:55.049Z"
   },
   {
    "duration": 98,
    "start_time": "2022-04-12T07:23:55.069Z"
   },
   {
    "duration": 44,
    "start_time": "2022-04-12T07:23:55.168Z"
   },
   {
    "duration": 35,
    "start_time": "2022-04-12T07:23:55.213Z"
   },
   {
    "duration": 22,
    "start_time": "2022-04-12T07:23:55.250Z"
   },
   {
    "duration": 1208,
    "start_time": "2022-04-12T07:24:13.771Z"
   },
   {
    "duration": 159,
    "start_time": "2022-04-12T07:24:14.981Z"
   },
   {
    "duration": 193,
    "start_time": "2022-04-12T07:24:15.142Z"
   },
   {
    "duration": 8,
    "start_time": "2022-04-12T07:24:15.338Z"
   },
   {
    "duration": 17,
    "start_time": "2022-04-12T07:24:15.348Z"
   },
   {
    "duration": 110,
    "start_time": "2022-04-12T07:24:15.367Z"
   },
   {
    "duration": 58,
    "start_time": "2022-04-12T07:24:15.479Z"
   },
   {
    "duration": 19,
    "start_time": "2022-04-12T07:24:15.539Z"
   },
   {
    "duration": 20,
    "start_time": "2022-04-12T07:24:15.560Z"
   },
   {
    "duration": 803,
    "start_time": "2022-04-12T07:24:46.171Z"
   },
   {
    "duration": 34,
    "start_time": "2022-04-12T07:25:15.647Z"
   },
   {
    "duration": 1276,
    "start_time": "2022-04-12T07:26:01.041Z"
   },
   {
    "duration": 175,
    "start_time": "2022-04-12T07:26:02.319Z"
   },
   {
    "duration": 265,
    "start_time": "2022-04-12T07:26:02.496Z"
   },
   {
    "duration": 9,
    "start_time": "2022-04-12T07:26:02.765Z"
   },
   {
    "duration": 26,
    "start_time": "2022-04-12T07:26:02.777Z"
   },
   {
    "duration": 116,
    "start_time": "2022-04-12T07:26:02.806Z"
   },
   {
    "duration": 49,
    "start_time": "2022-04-12T07:26:02.924Z"
   },
   {
    "duration": 19,
    "start_time": "2022-04-12T07:26:02.975Z"
   },
   {
    "duration": 47,
    "start_time": "2022-04-12T07:26:02.996Z"
   },
   {
    "duration": 1293,
    "start_time": "2022-04-12T07:27:21.515Z"
   },
   {
    "duration": 1279,
    "start_time": "2022-04-12T07:27:31.699Z"
   },
   {
    "duration": 153,
    "start_time": "2022-04-12T07:27:32.980Z"
   },
   {
    "duration": 185,
    "start_time": "2022-04-12T07:27:33.134Z"
   },
   {
    "duration": 81,
    "start_time": "2022-04-12T07:27:33.333Z"
   },
   {
    "duration": 2850,
    "start_time": "2022-04-12T07:27:33.416Z"
   },
   {
    "duration": 0,
    "start_time": "2022-04-12T07:27:36.268Z"
   },
   {
    "duration": 0,
    "start_time": "2022-04-12T07:27:36.270Z"
   },
   {
    "duration": 0,
    "start_time": "2022-04-12T07:27:36.271Z"
   },
   {
    "duration": 0,
    "start_time": "2022-04-12T07:27:36.272Z"
   },
   {
    "duration": 9,
    "start_time": "2022-04-12T07:28:07.286Z"
   },
   {
    "duration": 9,
    "start_time": "2022-04-12T07:28:34.915Z"
   },
   {
    "duration": 91,
    "start_time": "2022-04-12T07:28:37.244Z"
   },
   {
    "duration": 88,
    "start_time": "2022-04-12T07:28:43.933Z"
   },
   {
    "duration": 89,
    "start_time": "2022-04-12T07:29:07.724Z"
   },
   {
    "duration": 43,
    "start_time": "2022-04-12T07:29:18.347Z"
   },
   {
    "duration": 25,
    "start_time": "2022-04-12T07:29:46.673Z"
   },
   {
    "duration": 20,
    "start_time": "2022-04-12T07:29:55.433Z"
   },
   {
    "duration": 19,
    "start_time": "2022-04-12T07:30:11.840Z"
   },
   {
    "duration": 32,
    "start_time": "2022-04-12T07:30:29.001Z"
   },
   {
    "duration": 31,
    "start_time": "2022-04-12T07:30:33.879Z"
   },
   {
    "duration": 1451,
    "start_time": "2022-04-12T07:35:49.210Z"
   },
   {
    "duration": 200,
    "start_time": "2022-04-12T07:35:50.663Z"
   },
   {
    "duration": 200,
    "start_time": "2022-04-12T07:35:50.865Z"
   },
   {
    "duration": 105,
    "start_time": "2022-04-12T07:35:51.068Z"
   },
   {
    "duration": 11,
    "start_time": "2022-04-12T07:35:51.174Z"
   },
   {
    "duration": 93,
    "start_time": "2022-04-12T07:35:51.187Z"
   },
   {
    "duration": 32,
    "start_time": "2022-04-12T07:35:51.281Z"
   },
   {
    "duration": 1260,
    "start_time": "2022-04-12T07:36:32.872Z"
   },
   {
    "duration": 166,
    "start_time": "2022-04-12T07:36:34.134Z"
   },
   {
    "duration": 213,
    "start_time": "2022-04-12T07:36:34.301Z"
   },
   {
    "duration": 95,
    "start_time": "2022-04-12T07:36:34.516Z"
   },
   {
    "duration": 29,
    "start_time": "2022-04-12T07:36:34.613Z"
   },
   {
    "duration": 91,
    "start_time": "2022-04-12T07:36:34.644Z"
   },
   {
    "duration": 32,
    "start_time": "2022-04-12T07:36:34.737Z"
   },
   {
    "duration": 311,
    "start_time": "2022-04-12T07:45:15.635Z"
   },
   {
    "duration": 252,
    "start_time": "2022-04-12T07:45:25.827Z"
   },
   {
    "duration": 240,
    "start_time": "2022-04-12T07:46:01.026Z"
   },
   {
    "duration": 1231,
    "start_time": "2022-04-12T07:46:24.167Z"
   },
   {
    "duration": 160,
    "start_time": "2022-04-12T07:46:25.401Z"
   },
   {
    "duration": 210,
    "start_time": "2022-04-12T07:46:25.563Z"
   },
   {
    "duration": 108,
    "start_time": "2022-04-12T07:46:25.774Z"
   },
   {
    "duration": 10,
    "start_time": "2022-04-12T07:46:25.885Z"
   },
   {
    "duration": 94,
    "start_time": "2022-04-12T07:46:25.897Z"
   },
   {
    "duration": 48,
    "start_time": "2022-04-12T07:46:25.992Z"
   },
   {
    "duration": 1219,
    "start_time": "2022-04-12T07:46:47.880Z"
   },
   {
    "duration": 162,
    "start_time": "2022-04-12T07:46:49.102Z"
   },
   {
    "duration": 175,
    "start_time": "2022-04-12T07:46:49.266Z"
   },
   {
    "duration": 106,
    "start_time": "2022-04-12T07:46:49.442Z"
   },
   {
    "duration": 12,
    "start_time": "2022-04-12T07:46:49.550Z"
   },
   {
    "duration": 98,
    "start_time": "2022-04-12T07:46:49.564Z"
   },
   {
    "duration": 40,
    "start_time": "2022-04-12T07:46:49.664Z"
   },
   {
    "duration": 1200,
    "start_time": "2022-04-12T07:52:39.093Z"
   },
   {
    "duration": 165,
    "start_time": "2022-04-12T07:52:40.295Z"
   },
   {
    "duration": 180,
    "start_time": "2022-04-12T07:52:40.462Z"
   },
   {
    "duration": 109,
    "start_time": "2022-04-12T07:52:40.644Z"
   },
   {
    "duration": 99,
    "start_time": "2022-04-12T07:52:40.754Z"
   },
   {
    "duration": 33,
    "start_time": "2022-04-12T07:52:40.855Z"
   },
   {
    "duration": 1339,
    "start_time": "2022-04-12T07:54:53.811Z"
   },
   {
    "duration": 176,
    "start_time": "2022-04-12T07:54:55.152Z"
   },
   {
    "duration": 171,
    "start_time": "2022-04-12T07:54:55.330Z"
   },
   {
    "duration": 104,
    "start_time": "2022-04-12T07:54:55.503Z"
   },
   {
    "duration": 97,
    "start_time": "2022-04-12T07:54:55.610Z"
   },
   {
    "duration": 43,
    "start_time": "2022-04-12T07:54:55.709Z"
   },
   {
    "duration": 11,
    "start_time": "2022-04-12T07:55:54.268Z"
   },
   {
    "duration": 60,
    "start_time": "2022-04-12T07:56:42.922Z"
   },
   {
    "duration": 137,
    "start_time": "2022-04-12T08:00:09.368Z"
   },
   {
    "duration": 3,
    "start_time": "2022-04-12T08:01:02.157Z"
   },
   {
    "duration": 68,
    "start_time": "2022-04-12T08:01:09.774Z"
   },
   {
    "duration": 33,
    "start_time": "2022-04-12T08:01:52.972Z"
   },
   {
    "duration": 61,
    "start_time": "2022-04-12T08:02:08.797Z"
   },
   {
    "duration": 59,
    "start_time": "2022-04-12T08:02:27.212Z"
   },
   {
    "duration": 26,
    "start_time": "2022-04-12T08:56:30.962Z"
   },
   {
    "duration": 27,
    "start_time": "2022-04-12T08:57:01.570Z"
   },
   {
    "duration": 24,
    "start_time": "2022-04-12T08:57:09.272Z"
   },
   {
    "duration": 635,
    "start_time": "2022-04-12T08:58:06.832Z"
   },
   {
    "duration": 21,
    "start_time": "2022-04-12T08:58:23.494Z"
   },
   {
    "duration": 33,
    "start_time": "2022-04-12T08:59:50.809Z"
   },
   {
    "duration": 31,
    "start_time": "2022-04-12T09:00:06.211Z"
   },
   {
    "duration": 31,
    "start_time": "2022-04-12T09:00:19.435Z"
   },
   {
    "duration": 38,
    "start_time": "2022-04-12T09:00:25.211Z"
   },
   {
    "duration": 36,
    "start_time": "2022-04-12T09:00:38.402Z"
   },
   {
    "duration": 57,
    "start_time": "2022-04-12T09:00:48.842Z"
   },
   {
    "duration": 39,
    "start_time": "2022-04-12T09:01:09.947Z"
   },
   {
    "duration": 42,
    "start_time": "2022-04-12T09:01:36.842Z"
   },
   {
    "duration": 36,
    "start_time": "2022-04-12T09:01:50.928Z"
   },
   {
    "duration": 1208,
    "start_time": "2022-04-12T09:01:56.683Z"
   },
   {
    "duration": 163,
    "start_time": "2022-04-12T09:01:57.893Z"
   },
   {
    "duration": 179,
    "start_time": "2022-04-12T09:01:58.058Z"
   },
   {
    "duration": 99,
    "start_time": "2022-04-12T09:01:58.239Z"
   },
   {
    "duration": 96,
    "start_time": "2022-04-12T09:01:58.340Z"
   },
   {
    "duration": 36,
    "start_time": "2022-04-12T09:01:58.437Z"
   },
   {
    "duration": 87,
    "start_time": "2022-04-12T09:01:58.475Z"
   },
   {
    "duration": 35,
    "start_time": "2022-04-12T09:01:58.564Z"
   },
   {
    "duration": 3,
    "start_time": "2022-04-12T09:04:00.747Z"
   },
   {
    "duration": 1285,
    "start_time": "2022-04-12T09:04:06.507Z"
   },
   {
    "duration": 160,
    "start_time": "2022-04-12T09:04:07.794Z"
   },
   {
    "duration": 180,
    "start_time": "2022-04-12T09:04:07.956Z"
   },
   {
    "duration": 99,
    "start_time": "2022-04-12T09:04:08.139Z"
   },
   {
    "duration": 95,
    "start_time": "2022-04-12T09:04:08.239Z"
   },
   {
    "duration": 33,
    "start_time": "2022-04-12T09:04:08.336Z"
   },
   {
    "duration": 86,
    "start_time": "2022-04-12T09:04:08.371Z"
   },
   {
    "duration": 33,
    "start_time": "2022-04-12T09:04:08.459Z"
   },
   {
    "duration": 5,
    "start_time": "2022-04-12T09:07:00.869Z"
   },
   {
    "duration": 134,
    "start_time": "2022-04-12T09:12:05.949Z"
   },
   {
    "duration": 695,
    "start_time": "2022-04-12T09:12:59.551Z"
   },
   {
    "duration": 59,
    "start_time": "2022-04-12T09:13:18.635Z"
   },
   {
    "duration": 11,
    "start_time": "2022-04-12T09:13:26.720Z"
   },
   {
    "duration": 13,
    "start_time": "2022-04-12T09:14:14.754Z"
   },
   {
    "duration": 100,
    "start_time": "2022-04-12T09:18:40.110Z"
   },
   {
    "duration": 1392,
    "start_time": "2022-04-12T09:18:46.614Z"
   },
   {
    "duration": 171,
    "start_time": "2022-04-12T09:18:48.009Z"
   },
   {
    "duration": 239,
    "start_time": "2022-04-12T09:18:48.181Z"
   },
   {
    "duration": 153,
    "start_time": "2022-04-12T09:18:48.422Z"
   },
   {
    "duration": 109,
    "start_time": "2022-04-12T09:18:48.579Z"
   },
   {
    "duration": 48,
    "start_time": "2022-04-12T09:18:48.690Z"
   },
   {
    "duration": 66,
    "start_time": "2022-04-12T09:18:48.740Z"
   },
   {
    "duration": 128,
    "start_time": "2022-04-12T09:18:48.808Z"
   },
   {
    "duration": 12,
    "start_time": "2022-04-12T09:18:48.938Z"
   },
   {
    "duration": 8,
    "start_time": "2022-04-12T09:19:38.571Z"
   },
   {
    "duration": 38,
    "start_time": "2022-04-12T10:00:01.896Z"
   },
   {
    "duration": 32,
    "start_time": "2022-04-12T10:00:24.226Z"
   },
   {
    "duration": 17,
    "start_time": "2022-04-12T10:00:29.121Z"
   },
   {
    "duration": 8,
    "start_time": "2022-04-12T10:04:12.756Z"
   },
   {
    "duration": 267,
    "start_time": "2022-04-12T10:05:08.272Z"
   },
   {
    "duration": 1316,
    "start_time": "2022-04-12T10:07:49.820Z"
   },
   {
    "duration": 1339,
    "start_time": "2022-04-12T10:08:32.735Z"
   },
   {
    "duration": 211,
    "start_time": "2022-04-12T10:10:50.424Z"
   },
   {
    "duration": 362,
    "start_time": "2022-04-12T10:14:24.751Z"
   },
   {
    "duration": 4,
    "start_time": "2022-04-12T10:14:32.598Z"
   },
   {
    "duration": 211,
    "start_time": "2022-04-12T10:14:37.011Z"
   },
   {
    "duration": 252,
    "start_time": "2022-04-12T10:15:13.683Z"
   },
   {
    "duration": 236,
    "start_time": "2022-04-12T10:16:59.312Z"
   },
   {
    "duration": 1501,
    "start_time": "2022-04-12T10:19:27.292Z"
   },
   {
    "duration": 207,
    "start_time": "2022-04-12T10:19:28.804Z"
   },
   {
    "duration": 259,
    "start_time": "2022-04-12T10:19:29.017Z"
   },
   {
    "duration": 149,
    "start_time": "2022-04-12T10:19:29.278Z"
   },
   {
    "duration": 162,
    "start_time": "2022-04-12T10:19:29.429Z"
   },
   {
    "duration": 51,
    "start_time": "2022-04-12T10:19:29.594Z"
   },
   {
    "duration": 93,
    "start_time": "2022-04-12T10:19:29.646Z"
   },
   {
    "duration": 107,
    "start_time": "2022-04-12T10:19:29.742Z"
   },
   {
    "duration": 12,
    "start_time": "2022-04-12T10:19:29.852Z"
   },
   {
    "duration": 7,
    "start_time": "2022-04-12T10:19:29.866Z"
   },
   {
    "duration": 11,
    "start_time": "2022-04-12T10:19:29.875Z"
   },
   {
    "duration": 359,
    "start_time": "2022-04-12T10:19:29.889Z"
   },
   {
    "duration": 750,
    "start_time": "2022-04-12T10:21:26.828Z"
   },
   {
    "duration": 86,
    "start_time": "2022-04-12T10:21:43.803Z"
   },
   {
    "duration": 628,
    "start_time": "2022-04-12T10:32:11.969Z"
   },
   {
    "duration": 5,
    "start_time": "2022-04-12T10:32:47.346Z"
   },
   {
    "duration": 1459,
    "start_time": "2022-04-12T10:35:51.094Z"
   },
   {
    "duration": 22,
    "start_time": "2022-04-12T10:38:12.627Z"
   },
   {
    "duration": 22,
    "start_time": "2022-04-12T10:38:18.987Z"
   },
   {
    "duration": 223,
    "start_time": "2022-04-12T10:38:30.747Z"
   },
   {
    "duration": 211,
    "start_time": "2022-04-12T10:38:44.634Z"
   },
   {
    "duration": 230,
    "start_time": "2022-04-12T10:39:44.282Z"
   },
   {
    "duration": 200,
    "start_time": "2022-04-12T10:40:00.567Z"
   },
   {
    "duration": 5,
    "start_time": "2022-04-12T10:40:12.087Z"
   },
   {
    "duration": 205,
    "start_time": "2022-04-12T10:40:18.367Z"
   },
   {
    "duration": 207,
    "start_time": "2022-04-12T10:40:25.446Z"
   },
   {
    "duration": 14,
    "start_time": "2022-04-12T10:42:40.907Z"
   },
   {
    "duration": 6,
    "start_time": "2022-04-12T10:42:51.043Z"
   },
   {
    "duration": 11,
    "start_time": "2022-04-12T10:44:54.083Z"
   },
   {
    "duration": 4,
    "start_time": "2022-04-12T10:45:19.586Z"
   },
   {
    "duration": 26,
    "start_time": "2022-04-12T10:45:23.787Z"
   },
   {
    "duration": 18,
    "start_time": "2022-04-12T10:45:39.282Z"
   },
   {
    "duration": 17,
    "start_time": "2022-04-12T10:46:53.376Z"
   },
   {
    "duration": 24,
    "start_time": "2022-04-12T10:48:37.221Z"
   },
   {
    "duration": 23,
    "start_time": "2022-04-12T10:49:11.572Z"
   },
   {
    "duration": 27,
    "start_time": "2022-04-12T10:49:31.899Z"
   },
   {
    "duration": 37,
    "start_time": "2022-04-12T10:49:49.107Z"
   },
   {
    "duration": 27,
    "start_time": "2022-04-12T10:50:01.434Z"
   },
   {
    "duration": 28,
    "start_time": "2022-04-12T10:51:10.074Z"
   },
   {
    "duration": 18,
    "start_time": "2022-04-12T10:53:31.121Z"
   },
   {
    "duration": 19,
    "start_time": "2022-04-12T10:53:43.223Z"
   },
   {
    "duration": 55,
    "start_time": "2022-04-12T10:54:19.651Z"
   },
   {
    "duration": 30,
    "start_time": "2022-04-12T13:07:11.480Z"
   },
   {
    "duration": 8,
    "start_time": "2022-04-12T13:08:05.742Z"
   },
   {
    "duration": 63,
    "start_time": "2022-04-12T13:10:57.970Z"
   },
   {
    "duration": 78,
    "start_time": "2022-04-12T13:11:16.977Z"
   },
   {
    "duration": 21,
    "start_time": "2022-04-12T17:13:06.505Z"
   },
   {
    "duration": 38,
    "start_time": "2022-04-12T17:13:34.706Z"
   },
   {
    "duration": 36,
    "start_time": "2022-04-12T17:13:41.358Z"
   },
   {
    "duration": 70,
    "start_time": "2022-04-12T17:15:05.531Z"
   },
   {
    "duration": 35,
    "start_time": "2022-04-12T17:15:24.703Z"
   },
   {
    "duration": 22,
    "start_time": "2022-04-12T17:15:43.005Z"
   },
   {
    "duration": 31,
    "start_time": "2022-04-12T17:16:17.002Z"
   },
   {
    "duration": 25,
    "start_time": "2022-04-12T17:17:22.770Z"
   },
   {
    "duration": 1201,
    "start_time": "2022-04-12T17:17:29.986Z"
   },
   {
    "duration": 159,
    "start_time": "2022-04-12T17:17:31.189Z"
   },
   {
    "duration": 184,
    "start_time": "2022-04-12T17:17:31.350Z"
   },
   {
    "duration": 100,
    "start_time": "2022-04-12T17:17:31.536Z"
   },
   {
    "duration": 102,
    "start_time": "2022-04-12T17:17:31.640Z"
   },
   {
    "duration": 35,
    "start_time": "2022-04-12T17:17:31.744Z"
   },
   {
    "duration": 86,
    "start_time": "2022-04-12T17:17:31.781Z"
   },
   {
    "duration": 97,
    "start_time": "2022-04-12T17:17:31.870Z"
   },
   {
    "duration": 11,
    "start_time": "2022-04-12T17:17:31.969Z"
   },
   {
    "duration": 6,
    "start_time": "2022-04-12T17:17:31.982Z"
   },
   {
    "duration": 14,
    "start_time": "2022-04-12T17:17:31.990Z"
   },
   {
    "duration": 324,
    "start_time": "2022-04-12T17:17:32.006Z"
   },
   {
    "duration": 69,
    "start_time": "2022-04-12T17:17:32.332Z"
   },
   {
    "duration": 44,
    "start_time": "2022-04-12T17:17:32.404Z"
   },
   {
    "duration": 24,
    "start_time": "2022-04-12T17:29:17.573Z"
   },
   {
    "duration": 44,
    "start_time": "2022-04-12T17:29:46.317Z"
   },
   {
    "duration": 41,
    "start_time": "2022-04-12T17:30:09.992Z"
   },
   {
    "duration": 6,
    "start_time": "2022-04-12T17:31:08.285Z"
   },
   {
    "duration": 203,
    "start_time": "2022-04-12T17:32:21.086Z"
   },
   {
    "duration": 82,
    "start_time": "2022-04-12T17:35:47.978Z"
   },
   {
    "duration": 1348,
    "start_time": "2022-04-12T17:35:59.702Z"
   },
   {
    "duration": 189,
    "start_time": "2022-04-12T17:36:01.053Z"
   },
   {
    "duration": 196,
    "start_time": "2022-04-12T17:36:01.245Z"
   },
   {
    "duration": 147,
    "start_time": "2022-04-12T17:36:01.444Z"
   },
   {
    "duration": 114,
    "start_time": "2022-04-12T17:36:01.593Z"
   },
   {
    "duration": 55,
    "start_time": "2022-04-12T17:36:01.709Z"
   },
   {
    "duration": 87,
    "start_time": "2022-04-12T17:36:01.766Z"
   },
   {
    "duration": 132,
    "start_time": "2022-04-12T17:36:01.856Z"
   },
   {
    "duration": 11,
    "start_time": "2022-04-12T17:36:01.991Z"
   },
   {
    "duration": 8,
    "start_time": "2022-04-12T17:36:02.005Z"
   },
   {
    "duration": 12,
    "start_time": "2022-04-12T17:36:02.035Z"
   },
   {
    "duration": 365,
    "start_time": "2022-04-12T17:36:02.049Z"
   },
   {
    "duration": 86,
    "start_time": "2022-04-12T17:36:02.415Z"
   },
   {
    "duration": 52,
    "start_time": "2022-04-12T17:36:02.503Z"
   },
   {
    "duration": 303,
    "start_time": "2022-04-12T17:36:02.557Z"
   },
   {
    "duration": 89,
    "start_time": "2022-04-12T17:36:20.804Z"
   },
   {
    "duration": 93,
    "start_time": "2022-04-12T17:37:04.402Z"
   },
   {
    "duration": 67,
    "start_time": "2022-04-12T17:37:38.492Z"
   },
   {
    "duration": 70,
    "start_time": "2022-04-12T17:38:21.286Z"
   },
   {
    "duration": 64,
    "start_time": "2022-04-12T17:39:36.523Z"
   },
   {
    "duration": 143,
    "start_time": "2022-04-12T17:44:26.176Z"
   },
   {
    "duration": 9,
    "start_time": "2022-04-12T17:44:36.991Z"
   },
   {
    "duration": 52,
    "start_time": "2022-04-13T04:34:44.451Z"
   },
   {
    "duration": 1464,
    "start_time": "2022-04-13T04:35:28.189Z"
   },
   {
    "duration": 157,
    "start_time": "2022-04-13T04:35:29.655Z"
   },
   {
    "duration": 172,
    "start_time": "2022-04-13T04:35:29.814Z"
   },
   {
    "duration": 100,
    "start_time": "2022-04-13T04:35:29.988Z"
   },
   {
    "duration": 94,
    "start_time": "2022-04-13T04:35:30.090Z"
   },
   {
    "duration": 42,
    "start_time": "2022-04-13T04:35:30.186Z"
   },
   {
    "duration": 78,
    "start_time": "2022-04-13T04:35:30.230Z"
   },
   {
    "duration": 84,
    "start_time": "2022-04-13T04:35:30.310Z"
   },
   {
    "duration": 23,
    "start_time": "2022-04-13T04:35:30.396Z"
   },
   {
    "duration": 9,
    "start_time": "2022-04-13T04:35:30.422Z"
   },
   {
    "duration": 305,
    "start_time": "2022-04-13T04:35:30.433Z"
   },
   {
    "duration": 84,
    "start_time": "2022-04-13T04:35:30.740Z"
   },
   {
    "duration": 30,
    "start_time": "2022-04-13T04:35:30.826Z"
   },
   {
    "duration": 87,
    "start_time": "2022-04-13T04:35:30.858Z"
   },
   {
    "duration": 187,
    "start_time": "2022-04-13T04:35:30.946Z"
   },
   {
    "duration": 41,
    "start_time": "2022-04-13T04:51:10.277Z"
   },
   {
    "duration": 37,
    "start_time": "2022-04-13T04:51:17.507Z"
   },
   {
    "duration": 35,
    "start_time": "2022-04-13T04:52:11.188Z"
   },
   {
    "duration": 8,
    "start_time": "2022-04-13T04:52:55.853Z"
   },
   {
    "duration": 27,
    "start_time": "2022-04-13T04:53:40.545Z"
   },
   {
    "duration": 42,
    "start_time": "2022-04-13T04:54:52.012Z"
   },
   {
    "duration": 5,
    "start_time": "2022-04-13T04:55:06.466Z"
   },
   {
    "duration": 143,
    "start_time": "2022-04-13T04:56:14.289Z"
   },
   {
    "duration": 10,
    "start_time": "2022-04-13T04:56:20.496Z"
   },
   {
    "duration": 8,
    "start_time": "2022-04-13T04:56:56.234Z"
   },
   {
    "duration": 33,
    "start_time": "2022-04-13T04:58:29.132Z"
   },
   {
    "duration": 36,
    "start_time": "2022-04-13T04:58:37.940Z"
   },
   {
    "duration": 37,
    "start_time": "2022-04-13T04:59:18.285Z"
   },
   {
    "duration": 27,
    "start_time": "2022-04-13T05:00:01.471Z"
   },
   {
    "duration": 31,
    "start_time": "2022-04-13T05:01:19.933Z"
   },
   {
    "duration": 29,
    "start_time": "2022-04-13T05:02:37.210Z"
   },
   {
    "duration": 28,
    "start_time": "2022-04-13T05:02:42.465Z"
   },
   {
    "duration": 20,
    "start_time": "2022-04-13T05:03:45.113Z"
   },
   {
    "duration": 20,
    "start_time": "2022-04-13T05:04:15.935Z"
   },
   {
    "duration": 21,
    "start_time": "2022-04-13T05:04:30.871Z"
   },
   {
    "duration": 130,
    "start_time": "2022-04-13T05:10:33.019Z"
   },
   {
    "duration": 27,
    "start_time": "2022-04-13T05:12:34.506Z"
   },
   {
    "duration": 38,
    "start_time": "2022-04-13T05:14:22.985Z"
   },
   {
    "duration": 32,
    "start_time": "2022-04-13T05:16:39.266Z"
   },
   {
    "duration": 42,
    "start_time": "2022-04-13T05:16:54.578Z"
   },
   {
    "duration": 36,
    "start_time": "2022-04-13T05:22:43.289Z"
   },
   {
    "duration": 24,
    "start_time": "2022-04-13T05:23:01.065Z"
   },
   {
    "duration": 23,
    "start_time": "2022-04-13T05:23:04.174Z"
   },
   {
    "duration": 24,
    "start_time": "2022-04-13T05:23:10.238Z"
   },
   {
    "duration": 30,
    "start_time": "2022-04-13T05:29:05.048Z"
   },
   {
    "duration": 29,
    "start_time": "2022-04-13T05:29:15.919Z"
   },
   {
    "duration": 27,
    "start_time": "2022-04-13T05:29:33.990Z"
   },
   {
    "duration": 26,
    "start_time": "2022-04-13T05:29:44.878Z"
   },
   {
    "duration": 28,
    "start_time": "2022-04-13T05:31:04.904Z"
   },
   {
    "duration": 5,
    "start_time": "2022-04-13T05:32:26.646Z"
   },
   {
    "duration": 21,
    "start_time": "2022-04-13T05:32:32.358Z"
   },
   {
    "duration": 9,
    "start_time": "2022-04-13T05:32:34.238Z"
   },
   {
    "duration": 4,
    "start_time": "2022-04-13T05:34:37.924Z"
   },
   {
    "duration": 4,
    "start_time": "2022-04-13T05:35:23.306Z"
   },
   {
    "duration": 138,
    "start_time": "2022-04-13T05:37:30.429Z"
   },
   {
    "duration": 12,
    "start_time": "2022-04-13T05:37:48.885Z"
   },
   {
    "duration": 10,
    "start_time": "2022-04-13T05:40:40.905Z"
   },
   {
    "duration": 29,
    "start_time": "2022-04-13T05:47:42.628Z"
   },
   {
    "duration": 28,
    "start_time": "2022-04-13T05:49:34.553Z"
   },
   {
    "duration": 11,
    "start_time": "2022-04-13T05:51:36.262Z"
   },
   {
    "duration": 28,
    "start_time": "2022-04-13T05:51:55.285Z"
   },
   {
    "duration": 29,
    "start_time": "2022-04-13T05:52:05.294Z"
   },
   {
    "duration": 23,
    "start_time": "2022-04-13T05:52:09.533Z"
   },
   {
    "duration": 148,
    "start_time": "2022-04-13T05:53:19.482Z"
   },
   {
    "duration": 161,
    "start_time": "2022-04-13T05:54:04.706Z"
   },
   {
    "duration": 155,
    "start_time": "2022-04-13T05:54:16.084Z"
   },
   {
    "duration": 24,
    "start_time": "2022-04-13T05:55:51.696Z"
   },
   {
    "duration": 150,
    "start_time": "2022-04-13T05:56:00.768Z"
   },
   {
    "duration": 151,
    "start_time": "2022-04-13T05:56:10.888Z"
   },
   {
    "duration": 157,
    "start_time": "2022-04-13T05:56:23.241Z"
   },
   {
    "duration": 21,
    "start_time": "2022-04-13T06:04:00.611Z"
   },
   {
    "duration": 14,
    "start_time": "2022-04-13T06:04:21.479Z"
   },
   {
    "duration": 11,
    "start_time": "2022-04-13T06:09:11.546Z"
   },
   {
    "duration": 4,
    "start_time": "2022-04-13T06:09:43.561Z"
   },
   {
    "duration": 6,
    "start_time": "2022-04-13T06:09:49.069Z"
   },
   {
    "duration": 17,
    "start_time": "2022-04-13T06:11:47.136Z"
   },
   {
    "duration": 144,
    "start_time": "2022-04-13T06:13:32.660Z"
   },
   {
    "duration": 130,
    "start_time": "2022-04-13T06:29:13.917Z"
   },
   {
    "duration": 188,
    "start_time": "2022-04-13T06:29:19.006Z"
   },
   {
    "duration": 163,
    "start_time": "2022-04-13T06:29:28.950Z"
   },
   {
    "duration": 11,
    "start_time": "2022-04-13T06:32:53.049Z"
   },
   {
    "duration": 22,
    "start_time": "2022-04-13T06:33:02.332Z"
   },
   {
    "duration": 14,
    "start_time": "2022-04-13T06:33:16.748Z"
   },
   {
    "duration": 13,
    "start_time": "2022-04-13T06:34:56.462Z"
   },
   {
    "duration": 14,
    "start_time": "2022-04-13T06:35:01.489Z"
   },
   {
    "duration": 150,
    "start_time": "2022-04-13T06:37:23.564Z"
   },
   {
    "duration": 143,
    "start_time": "2022-04-13T06:39:12.403Z"
   },
   {
    "duration": 25,
    "start_time": "2022-04-13T06:39:17.226Z"
   },
   {
    "duration": 20,
    "start_time": "2022-04-13T06:39:33.833Z"
   },
   {
    "duration": 18,
    "start_time": "2022-04-13T06:39:52.905Z"
   },
   {
    "duration": 17,
    "start_time": "2022-04-13T06:39:58.616Z"
   },
   {
    "duration": 28,
    "start_time": "2022-04-13T06:40:51.311Z"
   },
   {
    "duration": 33,
    "start_time": "2022-04-13T06:41:13.415Z"
   },
   {
    "duration": 49,
    "start_time": "2022-04-13T06:42:01.224Z"
   },
   {
    "duration": 33,
    "start_time": "2022-04-13T06:46:12.738Z"
   },
   {
    "duration": 32,
    "start_time": "2022-04-13T06:46:42.628Z"
   },
   {
    "duration": 32,
    "start_time": "2022-04-13T06:47:20.504Z"
   },
   {
    "duration": 34,
    "start_time": "2022-04-13T06:47:36.698Z"
   },
   {
    "duration": 1315,
    "start_time": "2022-04-13T06:48:00.889Z"
   },
   {
    "duration": 160,
    "start_time": "2022-04-13T06:48:02.206Z"
   },
   {
    "duration": 170,
    "start_time": "2022-04-13T06:48:02.367Z"
   },
   {
    "duration": 107,
    "start_time": "2022-04-13T06:48:02.540Z"
   },
   {
    "duration": 103,
    "start_time": "2022-04-13T06:48:02.649Z"
   },
   {
    "duration": 34,
    "start_time": "2022-04-13T06:48:02.754Z"
   },
   {
    "duration": 80,
    "start_time": "2022-04-13T06:48:02.790Z"
   },
   {
    "duration": 94,
    "start_time": "2022-04-13T06:48:02.872Z"
   },
   {
    "duration": 10,
    "start_time": "2022-04-13T06:48:02.968Z"
   },
   {
    "duration": 7,
    "start_time": "2022-04-13T06:48:02.980Z"
   },
   {
    "duration": 306,
    "start_time": "2022-04-13T06:48:02.988Z"
   },
   {
    "duration": 77,
    "start_time": "2022-04-13T06:48:03.296Z"
   },
   {
    "duration": 30,
    "start_time": "2022-04-13T06:48:03.374Z"
   },
   {
    "duration": 67,
    "start_time": "2022-04-13T06:48:03.419Z"
   },
   {
    "duration": 189,
    "start_time": "2022-04-13T06:48:03.488Z"
   },
   {
    "duration": 64,
    "start_time": "2022-04-13T06:48:03.679Z"
   },
   {
    "duration": 9,
    "start_time": "2022-04-13T06:48:03.745Z"
   },
   {
    "duration": 96,
    "start_time": "2022-04-13T06:48:03.756Z"
   },
   {
    "duration": 188,
    "start_time": "2022-04-13T06:48:03.854Z"
   },
   {
    "duration": 153,
    "start_time": "2022-04-13T06:48:04.044Z"
   },
   {
    "duration": 19,
    "start_time": "2022-04-13T06:48:04.199Z"
   },
   {
    "duration": 5,
    "start_time": "2022-04-13T06:48:04.221Z"
   },
   {
    "duration": 42,
    "start_time": "2022-04-13T06:48:04.228Z"
   },
   {
    "duration": 69,
    "start_time": "2022-04-13T06:48:04.273Z"
   },
   {
    "duration": 141,
    "start_time": "2022-04-13T06:48:04.344Z"
   },
   {
    "duration": 33,
    "start_time": "2022-04-13T06:48:37.664Z"
   },
   {
    "duration": 37,
    "start_time": "2022-04-13T06:49:47.192Z"
   },
   {
    "duration": 52,
    "start_time": "2022-04-13T06:50:02.221Z"
   },
   {
    "duration": 32,
    "start_time": "2022-04-13T06:50:10.461Z"
   },
   {
    "duration": 74,
    "start_time": "2022-04-13T06:55:58.712Z"
   },
   {
    "duration": 143,
    "start_time": "2022-04-13T06:57:25.487Z"
   },
   {
    "duration": 71,
    "start_time": "2022-04-13T06:57:48.884Z"
   },
   {
    "duration": 21,
    "start_time": "2022-04-13T07:04:36.005Z"
   },
   {
    "duration": 30,
    "start_time": "2022-04-13T07:04:43.556Z"
   },
   {
    "duration": 248,
    "start_time": "2022-04-13T07:04:50.705Z"
   },
   {
    "duration": 153,
    "start_time": "2022-04-13T07:05:11.460Z"
   },
   {
    "duration": 155,
    "start_time": "2022-04-13T07:05:37.354Z"
   },
   {
    "duration": 347,
    "start_time": "2022-04-13T08:22:28.400Z"
   },
   {
    "duration": 240,
    "start_time": "2022-04-13T08:22:56.451Z"
   },
   {
    "duration": 254,
    "start_time": "2022-04-13T08:23:06.295Z"
   },
   {
    "duration": 250,
    "start_time": "2022-04-13T08:23:10.390Z"
   },
   {
    "duration": 184,
    "start_time": "2022-04-13T08:23:53.308Z"
   },
   {
    "duration": 329,
    "start_time": "2022-04-13T08:23:58.929Z"
   },
   {
    "duration": 807,
    "start_time": "2022-04-13T08:24:51.884Z"
   },
   {
    "duration": 381,
    "start_time": "2022-04-13T08:25:44.555Z"
   },
   {
    "duration": 385,
    "start_time": "2022-04-13T08:28:12.264Z"
   },
   {
    "duration": 6,
    "start_time": "2022-04-13T08:28:41.166Z"
   },
   {
    "duration": 11,
    "start_time": "2022-04-13T08:29:45.077Z"
   },
   {
    "duration": 10,
    "start_time": "2022-04-13T08:29:58.684Z"
   },
   {
    "duration": 400,
    "start_time": "2022-04-13T08:31:30.971Z"
   },
   {
    "duration": 400,
    "start_time": "2022-04-13T08:32:23.968Z"
   },
   {
    "duration": 14,
    "start_time": "2022-04-13T08:32:28.712Z"
   },
   {
    "duration": 17,
    "start_time": "2022-04-13T08:33:15.101Z"
   },
   {
    "duration": 15,
    "start_time": "2022-04-13T08:33:38.764Z"
   },
   {
    "duration": 24,
    "start_time": "2022-04-13T08:37:42.592Z"
   },
   {
    "duration": 573,
    "start_time": "2022-04-13T08:42:26.667Z"
   },
   {
    "duration": 628,
    "start_time": "2022-04-13T08:42:56.176Z"
   },
   {
    "duration": 2382,
    "start_time": "2022-04-13T08:43:08.581Z"
   },
   {
    "duration": 2194,
    "start_time": "2022-04-13T08:43:26.708Z"
   },
   {
    "duration": 2317,
    "start_time": "2022-04-13T08:43:36.259Z"
   },
   {
    "duration": 2652,
    "start_time": "2022-04-13T08:45:06.258Z"
   },
   {
    "duration": 7,
    "start_time": "2022-04-13T08:45:19.400Z"
   },
   {
    "duration": 578,
    "start_time": "2022-04-13T08:46:09.488Z"
   },
   {
    "duration": 22,
    "start_time": "2022-04-13T08:46:25.422Z"
   },
   {
    "duration": 23,
    "start_time": "2022-04-13T08:46:32.843Z"
   },
   {
    "duration": 6,
    "start_time": "2022-04-13T08:46:58.540Z"
   },
   {
    "duration": 7,
    "start_time": "2022-04-13T08:47:09.004Z"
   },
   {
    "duration": 770,
    "start_time": "2022-04-13T08:47:24.235Z"
   },
   {
    "duration": 24,
    "start_time": "2022-04-13T08:47:36.363Z"
   },
   {
    "duration": 6,
    "start_time": "2022-04-13T08:47:40.250Z"
   },
   {
    "duration": 26,
    "start_time": "2022-04-13T08:47:54.049Z"
   },
   {
    "duration": 8,
    "start_time": "2022-04-13T08:48:02.658Z"
   },
   {
    "duration": 733,
    "start_time": "2022-04-13T08:48:16.823Z"
   },
   {
    "duration": 24,
    "start_time": "2022-04-13T08:48:21.897Z"
   },
   {
    "duration": 7,
    "start_time": "2022-04-13T08:48:32.545Z"
   },
   {
    "duration": 29,
    "start_time": "2022-04-13T08:49:04.431Z"
   },
   {
    "duration": 27,
    "start_time": "2022-04-13T09:15:06.395Z"
   },
   {
    "duration": 29,
    "start_time": "2022-04-13T09:15:54.915Z"
   },
   {
    "duration": 12,
    "start_time": "2022-04-13T09:18:53.201Z"
   },
   {
    "duration": 13,
    "start_time": "2022-04-13T09:19:00.550Z"
   },
   {
    "duration": 12,
    "start_time": "2022-04-13T09:21:01.735Z"
   },
   {
    "duration": 14,
    "start_time": "2022-04-13T09:21:12.024Z"
   },
   {
    "duration": 14,
    "start_time": "2022-04-13T09:21:26.071Z"
   },
   {
    "duration": 1245,
    "start_time": "2022-04-13T09:21:40.441Z"
   },
   {
    "duration": 159,
    "start_time": "2022-04-13T09:21:41.689Z"
   },
   {
    "duration": 183,
    "start_time": "2022-04-13T09:21:41.850Z"
   },
   {
    "duration": 120,
    "start_time": "2022-04-13T09:21:42.035Z"
   },
   {
    "duration": 104,
    "start_time": "2022-04-13T09:21:42.157Z"
   },
   {
    "duration": 36,
    "start_time": "2022-04-13T09:21:42.264Z"
   },
   {
    "duration": 70,
    "start_time": "2022-04-13T09:21:42.319Z"
   },
   {
    "duration": 109,
    "start_time": "2022-04-13T09:21:42.391Z"
   },
   {
    "duration": 24,
    "start_time": "2022-04-13T09:21:42.502Z"
   },
   {
    "duration": 8,
    "start_time": "2022-04-13T09:21:42.530Z"
   },
   {
    "duration": 324,
    "start_time": "2022-04-13T09:21:42.540Z"
   },
   {
    "duration": 81,
    "start_time": "2022-04-13T09:21:42.866Z"
   },
   {
    "duration": 31,
    "start_time": "2022-04-13T09:21:42.948Z"
   },
   {
    "duration": 82,
    "start_time": "2022-04-13T09:21:42.981Z"
   },
   {
    "duration": 203,
    "start_time": "2022-04-13T09:21:43.065Z"
   },
   {
    "duration": 77,
    "start_time": "2022-04-13T09:21:43.270Z"
   },
   {
    "duration": 10,
    "start_time": "2022-04-13T09:21:43.349Z"
   },
   {
    "duration": 102,
    "start_time": "2022-04-13T09:21:43.362Z"
   },
   {
    "duration": 115,
    "start_time": "2022-04-13T09:21:43.466Z"
   },
   {
    "duration": 417,
    "start_time": "2022-04-13T09:21:43.583Z"
   },
   {
    "duration": 31,
    "start_time": "2022-04-13T09:21:44.002Z"
   },
   {
    "duration": 26,
    "start_time": "2022-04-13T09:21:44.035Z"
   },
   {
    "duration": 29,
    "start_time": "2022-04-13T09:21:44.063Z"
   },
   {
    "duration": 35,
    "start_time": "2022-04-13T09:21:44.093Z"
   },
   {
    "duration": 51,
    "start_time": "2022-04-13T09:22:59.507Z"
   },
   {
    "duration": 52,
    "start_time": "2022-04-13T09:24:24.105Z"
   },
   {
    "duration": 1215,
    "start_time": "2022-04-13T09:31:21.862Z"
   },
   {
    "duration": 163,
    "start_time": "2022-04-13T09:31:23.079Z"
   },
   {
    "duration": 181,
    "start_time": "2022-04-13T09:31:23.243Z"
   },
   {
    "duration": 99,
    "start_time": "2022-04-13T09:31:23.426Z"
   },
   {
    "duration": 100,
    "start_time": "2022-04-13T09:31:23.526Z"
   },
   {
    "duration": 35,
    "start_time": "2022-04-13T09:31:23.628Z"
   },
   {
    "duration": 82,
    "start_time": "2022-04-13T09:31:23.665Z"
   },
   {
    "duration": 96,
    "start_time": "2022-04-13T09:31:23.749Z"
   },
   {
    "duration": 9,
    "start_time": "2022-04-13T09:31:23.847Z"
   },
   {
    "duration": 9,
    "start_time": "2022-04-13T09:31:23.859Z"
   },
   {
    "duration": 305,
    "start_time": "2022-04-13T09:31:23.870Z"
   },
   {
    "duration": 80,
    "start_time": "2022-04-13T09:31:24.177Z"
   },
   {
    "duration": 29,
    "start_time": "2022-04-13T09:31:24.259Z"
   },
   {
    "duration": 83,
    "start_time": "2022-04-13T09:31:24.290Z"
   },
   {
    "duration": 191,
    "start_time": "2022-04-13T09:31:24.375Z"
   },
   {
    "duration": 62,
    "start_time": "2022-04-13T09:31:24.570Z"
   },
   {
    "duration": 8,
    "start_time": "2022-04-13T09:31:24.634Z"
   },
   {
    "duration": 90,
    "start_time": "2022-04-13T09:31:24.643Z"
   },
   {
    "duration": 94,
    "start_time": "2022-04-13T09:31:24.734Z"
   },
   {
    "duration": 427,
    "start_time": "2022-04-13T09:31:24.829Z"
   },
   {
    "duration": 61,
    "start_time": "2022-04-13T09:31:25.258Z"
   },
   {
    "duration": 28,
    "start_time": "2022-04-13T09:31:25.321Z"
   },
   {
    "duration": 13,
    "start_time": "2022-04-13T09:31:25.351Z"
   },
   {
    "duration": 51,
    "start_time": "2022-04-13T09:38:34.109Z"
   },
   {
    "duration": 45,
    "start_time": "2022-04-13T09:41:21.722Z"
   },
   {
    "duration": 53,
    "start_time": "2022-04-13T09:41:30.049Z"
   },
   {
    "duration": 116,
    "start_time": "2022-04-13T09:42:56.220Z"
   },
   {
    "duration": 3,
    "start_time": "2022-04-13T09:43:25.988Z"
   },
   {
    "duration": 5,
    "start_time": "2022-04-13T09:43:30.888Z"
   },
   {
    "duration": 4,
    "start_time": "2022-04-13T09:44:17.067Z"
   },
   {
    "duration": 5,
    "start_time": "2022-04-13T09:44:26.187Z"
   },
   {
    "duration": 13,
    "start_time": "2022-04-13T09:51:37.744Z"
   },
   {
    "duration": 4,
    "start_time": "2022-04-13T09:52:25.487Z"
   },
   {
    "duration": 9,
    "start_time": "2022-04-13T09:52:30.884Z"
   },
   {
    "duration": 7,
    "start_time": "2022-04-13T09:52:37.469Z"
   },
   {
    "duration": 171,
    "start_time": "2022-04-13T09:55:56.154Z"
   },
   {
    "duration": 2527,
    "start_time": "2022-04-13T09:56:12.033Z"
   },
   {
    "duration": 15,
    "start_time": "2022-04-13T09:56:40.673Z"
   },
   {
    "duration": 12,
    "start_time": "2022-04-13T10:31:59.497Z"
   },
   {
    "duration": 1305,
    "start_time": "2022-04-13T10:32:08.290Z"
   },
   {
    "duration": 165,
    "start_time": "2022-04-13T10:32:09.597Z"
   },
   {
    "duration": 180,
    "start_time": "2022-04-13T10:32:09.764Z"
   },
   {
    "duration": 108,
    "start_time": "2022-04-13T10:32:09.946Z"
   },
   {
    "duration": 99,
    "start_time": "2022-04-13T10:32:10.056Z"
   },
   {
    "duration": 35,
    "start_time": "2022-04-13T10:32:10.157Z"
   },
   {
    "duration": 89,
    "start_time": "2022-04-13T10:32:10.194Z"
   },
   {
    "duration": 102,
    "start_time": "2022-04-13T10:32:10.285Z"
   },
   {
    "duration": 13,
    "start_time": "2022-04-13T10:32:10.389Z"
   },
   {
    "duration": 8,
    "start_time": "2022-04-13T10:32:10.417Z"
   },
   {
    "duration": 310,
    "start_time": "2022-04-13T10:32:10.426Z"
   },
   {
    "duration": 85,
    "start_time": "2022-04-13T10:32:10.738Z"
   },
   {
    "duration": 30,
    "start_time": "2022-04-13T10:32:10.825Z"
   },
   {
    "duration": 89,
    "start_time": "2022-04-13T10:32:10.858Z"
   },
   {
    "duration": 196,
    "start_time": "2022-04-13T10:32:10.949Z"
   },
   {
    "duration": 75,
    "start_time": "2022-04-13T10:32:11.147Z"
   },
   {
    "duration": 9,
    "start_time": "2022-04-13T10:32:11.224Z"
   },
   {
    "duration": 97,
    "start_time": "2022-04-13T10:32:11.234Z"
   },
   {
    "duration": 91,
    "start_time": "2022-04-13T10:32:11.333Z"
   },
   {
    "duration": 449,
    "start_time": "2022-04-13T10:32:11.426Z"
   },
   {
    "duration": 61,
    "start_time": "2022-04-13T10:32:11.876Z"
   },
   {
    "duration": 13,
    "start_time": "2022-04-13T10:32:11.939Z"
   },
   {
    "duration": 33,
    "start_time": "2022-04-13T10:35:00.654Z"
   },
   {
    "duration": 34,
    "start_time": "2022-04-13T10:35:11.772Z"
   },
   {
    "duration": 35,
    "start_time": "2022-04-13T10:36:09.308Z"
   },
   {
    "duration": 37,
    "start_time": "2022-04-13T10:36:22.082Z"
   },
   {
    "duration": 35,
    "start_time": "2022-04-13T10:37:22.648Z"
   },
   {
    "duration": 49,
    "start_time": "2022-04-13T11:19:22.801Z"
   },
   {
    "duration": 14,
    "start_time": "2022-04-13T11:20:34.739Z"
   },
   {
    "duration": 14,
    "start_time": "2022-04-13T11:20:53.709Z"
   },
   {
    "duration": 737,
    "start_time": "2022-04-13T13:30:47.974Z"
   },
   {
    "duration": 48,
    "start_time": "2022-04-13T13:32:26.102Z"
   },
   {
    "duration": 48,
    "start_time": "2022-04-13T13:32:43.917Z"
   },
   {
    "duration": 36,
    "start_time": "2022-04-13T13:32:47.972Z"
   },
   {
    "duration": 9,
    "start_time": "2022-04-14T05:31:43.042Z"
   },
   {
    "duration": 1211,
    "start_time": "2022-04-14T05:31:54.656Z"
   },
   {
    "duration": 129,
    "start_time": "2022-04-14T05:31:55.869Z"
   },
   {
    "duration": 135,
    "start_time": "2022-04-14T05:31:55.999Z"
   },
   {
    "duration": 74,
    "start_time": "2022-04-14T05:31:56.136Z"
   },
   {
    "duration": 72,
    "start_time": "2022-04-14T05:31:56.223Z"
   },
   {
    "duration": 34,
    "start_time": "2022-04-14T05:31:56.297Z"
   },
   {
    "duration": 54,
    "start_time": "2022-04-14T05:31:56.333Z"
   },
   {
    "duration": 97,
    "start_time": "2022-04-14T05:31:56.389Z"
   },
   {
    "duration": 9,
    "start_time": "2022-04-14T05:31:56.488Z"
   },
   {
    "duration": 5,
    "start_time": "2022-04-14T05:31:56.500Z"
   },
   {
    "duration": 30,
    "start_time": "2022-04-14T05:31:56.524Z"
   },
   {
    "duration": 467,
    "start_time": "2022-04-14T05:31:56.556Z"
   },
   {
    "duration": 55,
    "start_time": "2022-04-14T05:31:57.025Z"
   },
   {
    "duration": 23,
    "start_time": "2022-04-14T05:31:57.081Z"
   },
   {
    "duration": 75,
    "start_time": "2022-04-14T05:31:57.105Z"
   },
   {
    "duration": 154,
    "start_time": "2022-04-14T05:31:57.182Z"
   },
   {
    "duration": 37,
    "start_time": "2022-04-14T05:31:57.339Z"
   },
   {
    "duration": 52,
    "start_time": "2022-04-14T05:31:57.378Z"
   },
   {
    "duration": 41,
    "start_time": "2022-04-14T05:31:57.432Z"
   },
   {
    "duration": 94,
    "start_time": "2022-04-14T05:31:57.474Z"
   },
   {
    "duration": 361,
    "start_time": "2022-04-14T05:31:57.569Z"
   },
   {
    "duration": 5,
    "start_time": "2022-04-14T05:31:57.932Z"
   },
   {
    "duration": 46,
    "start_time": "2022-04-14T05:31:57.938Z"
   },
   {
    "duration": 10,
    "start_time": "2022-04-14T05:31:57.985Z"
   },
   {
    "duration": 46,
    "start_time": "2022-04-14T05:31:57.997Z"
   },
   {
    "duration": 10,
    "start_time": "2022-04-14T05:31:58.045Z"
   },
   {
    "duration": 17,
    "start_time": "2022-04-14T05:31:58.056Z"
   },
   {
    "duration": 5,
    "start_time": "2022-04-14T05:32:21.454Z"
   },
   {
    "duration": 111,
    "start_time": "2022-04-14T05:33:12.875Z"
   },
   {
    "duration": 5,
    "start_time": "2022-04-14T05:33:50.507Z"
   },
   {
    "duration": 44,
    "start_time": "2022-04-14T05:33:52.585Z"
   },
   {
    "duration": 39,
    "start_time": "2022-04-14T05:35:34.617Z"
   },
   {
    "duration": 39,
    "start_time": "2022-04-14T05:35:44.072Z"
   },
   {
    "duration": 8,
    "start_time": "2022-04-14T05:59:40.758Z"
   },
   {
    "duration": 8,
    "start_time": "2022-04-14T06:01:14.628Z"
   },
   {
    "duration": 45,
    "start_time": "2022-04-14T06:01:38.334Z"
   },
   {
    "duration": 8,
    "start_time": "2022-04-14T06:01:57.269Z"
   },
   {
    "duration": 1066,
    "start_time": "2022-04-14T06:02:04.245Z"
   },
   {
    "duration": 125,
    "start_time": "2022-04-14T06:02:05.313Z"
   },
   {
    "duration": 135,
    "start_time": "2022-04-14T06:02:05.439Z"
   },
   {
    "duration": 92,
    "start_time": "2022-04-14T06:02:05.577Z"
   },
   {
    "duration": 78,
    "start_time": "2022-04-14T06:02:05.671Z"
   },
   {
    "duration": 26,
    "start_time": "2022-04-14T06:02:05.751Z"
   },
   {
    "duration": 66,
    "start_time": "2022-04-14T06:02:05.779Z"
   },
   {
    "duration": 82,
    "start_time": "2022-04-14T06:02:05.847Z"
   },
   {
    "duration": 10,
    "start_time": "2022-04-14T06:02:05.930Z"
   },
   {
    "duration": 6,
    "start_time": "2022-04-14T06:02:05.942Z"
   },
   {
    "duration": 29,
    "start_time": "2022-04-14T06:02:05.950Z"
   },
   {
    "duration": 447,
    "start_time": "2022-04-14T06:02:05.980Z"
   },
   {
    "duration": 51,
    "start_time": "2022-04-14T06:02:06.429Z"
   },
   {
    "duration": 24,
    "start_time": "2022-04-14T06:02:06.481Z"
   },
   {
    "duration": 68,
    "start_time": "2022-04-14T06:02:06.506Z"
   },
   {
    "duration": 186,
    "start_time": "2022-04-14T06:02:06.575Z"
   },
   {
    "duration": 68,
    "start_time": "2022-04-14T06:02:06.763Z"
   },
   {
    "duration": 9,
    "start_time": "2022-04-14T06:02:06.833Z"
   },
   {
    "duration": 86,
    "start_time": "2022-04-14T06:02:06.843Z"
   },
   {
    "duration": 61,
    "start_time": "2022-04-14T06:02:06.931Z"
   },
   {
    "duration": 381,
    "start_time": "2022-04-14T06:02:06.994Z"
   },
   {
    "duration": 8,
    "start_time": "2022-04-14T06:02:07.376Z"
   },
   {
    "duration": 56,
    "start_time": "2022-04-14T06:02:07.386Z"
   },
   {
    "duration": 40,
    "start_time": "2022-04-14T06:02:07.443Z"
   },
   {
    "duration": 10,
    "start_time": "2022-04-14T06:02:07.484Z"
   },
   {
    "duration": 49,
    "start_time": "2022-04-14T06:02:07.496Z"
   },
   {
    "duration": 10,
    "start_time": "2022-04-14T06:02:07.546Z"
   },
   {
    "duration": 10,
    "start_time": "2022-04-14T06:02:07.559Z"
   },
   {
    "duration": 8,
    "start_time": "2022-04-14T06:03:25.750Z"
   },
   {
    "duration": 1045,
    "start_time": "2022-04-14T06:03:40.458Z"
   },
   {
    "duration": 122,
    "start_time": "2022-04-14T06:03:41.504Z"
   },
   {
    "duration": 140,
    "start_time": "2022-04-14T06:03:41.628Z"
   },
   {
    "duration": 83,
    "start_time": "2022-04-14T06:03:41.769Z"
   },
   {
    "duration": 80,
    "start_time": "2022-04-14T06:03:41.854Z"
   },
   {
    "duration": 24,
    "start_time": "2022-04-14T06:03:41.936Z"
   },
   {
    "duration": 67,
    "start_time": "2022-04-14T06:03:41.962Z"
   },
   {
    "duration": 76,
    "start_time": "2022-04-14T06:03:42.031Z"
   },
   {
    "duration": 22,
    "start_time": "2022-04-14T06:03:42.109Z"
   },
   {
    "duration": 7,
    "start_time": "2022-04-14T06:03:42.134Z"
   },
   {
    "duration": 29,
    "start_time": "2022-04-14T06:03:42.143Z"
   },
   {
    "duration": 467,
    "start_time": "2022-04-14T06:03:42.174Z"
   },
   {
    "duration": 52,
    "start_time": "2022-04-14T06:03:42.643Z"
   },
   {
    "duration": 37,
    "start_time": "2022-04-14T06:03:42.696Z"
   },
   {
    "duration": 59,
    "start_time": "2022-04-14T06:03:42.735Z"
   },
   {
    "duration": 170,
    "start_time": "2022-04-14T06:03:42.796Z"
   },
   {
    "duration": 66,
    "start_time": "2022-04-14T06:03:42.967Z"
   },
   {
    "duration": 7,
    "start_time": "2022-04-14T06:03:43.035Z"
   },
   {
    "duration": 32,
    "start_time": "2022-04-14T06:03:43.044Z"
   },
   {
    "duration": 102,
    "start_time": "2022-04-14T06:03:43.078Z"
   },
   {
    "duration": 382,
    "start_time": "2022-04-14T06:03:43.182Z"
   },
   {
    "duration": 9,
    "start_time": "2022-04-14T06:03:43.565Z"
   },
   {
    "duration": 55,
    "start_time": "2022-04-14T06:03:43.575Z"
   },
   {
    "duration": 42,
    "start_time": "2022-04-14T06:03:43.631Z"
   },
   {
    "duration": 10,
    "start_time": "2022-04-14T06:03:43.675Z"
   },
   {
    "duration": 48,
    "start_time": "2022-04-14T06:03:43.687Z"
   },
   {
    "duration": 10,
    "start_time": "2022-04-14T06:03:43.736Z"
   },
   {
    "duration": 11,
    "start_time": "2022-04-14T06:03:43.749Z"
   },
   {
    "duration": 8,
    "start_time": "2022-04-14T06:04:15.331Z"
   },
   {
    "duration": 1113,
    "start_time": "2022-04-14T06:04:22.208Z"
   },
   {
    "duration": 128,
    "start_time": "2022-04-14T06:04:23.324Z"
   },
   {
    "duration": 136,
    "start_time": "2022-04-14T06:04:23.453Z"
   },
   {
    "duration": 89,
    "start_time": "2022-04-14T06:04:23.591Z"
   },
   {
    "duration": 76,
    "start_time": "2022-04-14T06:04:23.682Z"
   },
   {
    "duration": 23,
    "start_time": "2022-04-14T06:04:23.760Z"
   },
   {
    "duration": 69,
    "start_time": "2022-04-14T06:04:23.785Z"
   },
   {
    "duration": 74,
    "start_time": "2022-04-14T06:04:23.855Z"
   },
   {
    "duration": 11,
    "start_time": "2022-04-14T06:04:23.930Z"
   },
   {
    "duration": 6,
    "start_time": "2022-04-14T06:04:23.944Z"
   },
   {
    "duration": 28,
    "start_time": "2022-04-14T06:04:23.951Z"
   },
   {
    "duration": 452,
    "start_time": "2022-04-14T06:04:23.981Z"
   },
   {
    "duration": 51,
    "start_time": "2022-04-14T06:04:24.434Z"
   },
   {
    "duration": 40,
    "start_time": "2022-04-14T06:04:24.486Z"
   },
   {
    "duration": 54,
    "start_time": "2022-04-14T06:04:24.528Z"
   },
   {
    "duration": 156,
    "start_time": "2022-04-14T06:04:24.584Z"
   },
   {
    "duration": 36,
    "start_time": "2022-04-14T06:04:24.742Z"
   },
   {
    "duration": 49,
    "start_time": "2022-04-14T06:04:24.780Z"
   },
   {
    "duration": 30,
    "start_time": "2022-04-14T06:04:24.830Z"
   },
   {
    "duration": 91,
    "start_time": "2022-04-14T06:04:24.862Z"
   },
   {
    "duration": 358,
    "start_time": "2022-04-14T06:04:24.954Z"
   },
   {
    "duration": 12,
    "start_time": "2022-04-14T06:04:25.314Z"
   },
   {
    "duration": 47,
    "start_time": "2022-04-14T06:04:25.328Z"
   },
   {
    "duration": 52,
    "start_time": "2022-04-14T06:04:25.377Z"
   },
   {
    "duration": 10,
    "start_time": "2022-04-14T06:04:25.431Z"
   },
   {
    "duration": 29,
    "start_time": "2022-04-14T06:04:25.443Z"
   },
   {
    "duration": 10,
    "start_time": "2022-04-14T06:04:25.473Z"
   },
   {
    "duration": 10,
    "start_time": "2022-04-14T06:04:25.486Z"
   },
   {
    "duration": 9,
    "start_time": "2022-04-14T06:05:01.384Z"
   },
   {
    "duration": 51,
    "start_time": "2022-04-14T06:05:04.280Z"
   },
   {
    "duration": 9,
    "start_time": "2022-04-14T06:05:20.214Z"
   },
   {
    "duration": 43,
    "start_time": "2022-04-14T06:05:23.638Z"
   },
   {
    "duration": 47,
    "start_time": "2022-04-14T06:12:13.727Z"
   },
   {
    "duration": 44,
    "start_time": "2022-04-14T06:16:14.591Z"
   },
   {
    "duration": 43,
    "start_time": "2022-04-14T06:16:28.531Z"
   },
   {
    "duration": 44,
    "start_time": "2022-04-14T06:17:11.585Z"
   },
   {
    "duration": 15,
    "start_time": "2022-04-14T06:18:04.552Z"
   },
   {
    "duration": 20,
    "start_time": "2022-04-14T06:18:19.433Z"
   },
   {
    "duration": 12,
    "start_time": "2022-04-14T06:18:31.350Z"
   },
   {
    "duration": 63,
    "start_time": "2022-04-14T06:18:52.625Z"
   },
   {
    "duration": 1131,
    "start_time": "2022-04-14T07:34:32.105Z"
   },
   {
    "duration": 136,
    "start_time": "2022-04-14T07:34:33.238Z"
   },
   {
    "duration": 142,
    "start_time": "2022-04-14T07:34:33.376Z"
   },
   {
    "duration": 75,
    "start_time": "2022-04-14T07:34:33.523Z"
   },
   {
    "duration": 87,
    "start_time": "2022-04-14T07:34:33.599Z"
   },
   {
    "duration": 35,
    "start_time": "2022-04-14T07:34:33.688Z"
   },
   {
    "duration": 68,
    "start_time": "2022-04-14T07:34:33.725Z"
   },
   {
    "duration": 84,
    "start_time": "2022-04-14T07:34:33.794Z"
   },
   {
    "duration": 8,
    "start_time": "2022-04-14T07:34:33.879Z"
   },
   {
    "duration": 5,
    "start_time": "2022-04-14T07:34:33.889Z"
   },
   {
    "duration": 45,
    "start_time": "2022-04-14T07:34:33.896Z"
   },
   {
    "duration": 445,
    "start_time": "2022-04-14T07:34:33.942Z"
   },
   {
    "duration": 59,
    "start_time": "2022-04-14T07:34:34.389Z"
   },
   {
    "duration": 23,
    "start_time": "2022-04-14T07:34:34.450Z"
   },
   {
    "duration": 70,
    "start_time": "2022-04-14T07:34:34.475Z"
   },
   {
    "duration": 163,
    "start_time": "2022-04-14T07:34:34.546Z"
   },
   {
    "duration": 37,
    "start_time": "2022-04-14T07:34:34.711Z"
   },
   {
    "duration": 7,
    "start_time": "2022-04-14T07:34:34.749Z"
   },
   {
    "duration": 78,
    "start_time": "2022-04-14T07:34:34.757Z"
   },
   {
    "duration": 59,
    "start_time": "2022-04-14T07:34:34.837Z"
   },
   {
    "duration": 387,
    "start_time": "2022-04-14T07:34:34.898Z"
   },
   {
    "duration": 8,
    "start_time": "2022-04-14T07:34:35.287Z"
   },
   {
    "duration": 59,
    "start_time": "2022-04-14T07:34:35.296Z"
   },
   {
    "duration": 43,
    "start_time": "2022-04-14T07:34:35.356Z"
   },
   {
    "duration": 64,
    "start_time": "2022-04-14T07:34:35.400Z"
   },
   {
    "duration": 71,
    "start_time": "2022-04-14T07:34:35.465Z"
   },
   {
    "duration": 47,
    "start_time": "2022-04-14T07:34:35.538Z"
   },
   {
    "duration": 36,
    "start_time": "2022-04-14T07:34:35.589Z"
   },
   {
    "duration": 64,
    "start_time": "2022-04-14T07:34:35.627Z"
   },
   {
    "duration": 70,
    "start_time": "2022-04-14T08:25:02.392Z"
   },
   {
    "duration": 58,
    "start_time": "2022-04-14T08:25:06.032Z"
   },
   {
    "duration": 51,
    "start_time": "2022-04-14T08:27:57.673Z"
   },
   {
    "duration": 365,
    "start_time": "2022-04-14T08:28:16.600Z"
   },
   {
    "duration": 58,
    "start_time": "2022-04-14T08:28:50.272Z"
   },
   {
    "duration": 401,
    "start_time": "2022-04-14T08:29:00.547Z"
   },
   {
    "duration": 51,
    "start_time": "2022-04-14T08:29:30.898Z"
   },
   {
    "duration": 46,
    "start_time": "2022-04-14T08:32:31.037Z"
   },
   {
    "duration": 4,
    "start_time": "2022-04-14T08:33:47.246Z"
   },
   {
    "duration": 4,
    "start_time": "2022-04-14T08:34:24.138Z"
   },
   {
    "duration": 5,
    "start_time": "2022-04-14T08:37:18.092Z"
   },
   {
    "duration": 32,
    "start_time": "2022-04-14T08:38:23.077Z"
   },
   {
    "duration": 8,
    "start_time": "2022-04-14T08:38:46.735Z"
   },
   {
    "duration": 4,
    "start_time": "2022-04-14T08:41:50.835Z"
   },
   {
    "duration": 3,
    "start_time": "2022-04-14T08:42:24.109Z"
   },
   {
    "duration": 1140,
    "start_time": "2022-04-14T08:46:58.391Z"
   },
   {
    "duration": 134,
    "start_time": "2022-04-14T08:46:59.533Z"
   },
   {
    "duration": 147,
    "start_time": "2022-04-14T08:46:59.669Z"
   },
   {
    "duration": 78,
    "start_time": "2022-04-14T08:46:59.823Z"
   },
   {
    "duration": 87,
    "start_time": "2022-04-14T08:46:59.903Z"
   },
   {
    "duration": 70,
    "start_time": "2022-04-14T08:46:59.992Z"
   },
   {
    "duration": 82,
    "start_time": "2022-04-14T08:47:00.064Z"
   },
   {
    "duration": 12,
    "start_time": "2022-04-14T08:47:00.148Z"
   },
   {
    "duration": 30,
    "start_time": "2022-04-14T08:47:00.162Z"
   },
   {
    "duration": 52,
    "start_time": "2022-04-14T08:47:00.196Z"
   },
   {
    "duration": 466,
    "start_time": "2022-04-14T08:47:00.250Z"
   },
   {
    "duration": 56,
    "start_time": "2022-04-14T08:47:00.724Z"
   },
   {
    "duration": 72,
    "start_time": "2022-04-14T08:47:00.782Z"
   },
   {
    "duration": 5,
    "start_time": "2022-04-14T08:47:00.855Z"
   },
   {
    "duration": 93,
    "start_time": "2022-04-14T08:47:00.861Z"
   },
   {
    "duration": 56,
    "start_time": "2022-04-14T08:47:00.956Z"
   },
   {
    "duration": 174,
    "start_time": "2022-04-14T08:47:01.013Z"
   },
   {
    "duration": 48,
    "start_time": "2022-04-14T08:47:01.189Z"
   },
   {
    "duration": 8,
    "start_time": "2022-04-14T08:47:01.238Z"
   },
   {
    "duration": 89,
    "start_time": "2022-04-14T08:47:01.248Z"
   },
   {
    "duration": 67,
    "start_time": "2022-04-14T08:47:01.338Z"
   },
   {
    "duration": 385,
    "start_time": "2022-04-14T08:47:01.423Z"
   },
   {
    "duration": 14,
    "start_time": "2022-04-14T08:47:01.810Z"
   },
   {
    "duration": 57,
    "start_time": "2022-04-14T08:47:01.826Z"
   },
   {
    "duration": 64,
    "start_time": "2022-04-14T08:47:01.886Z"
   },
   {
    "duration": 52,
    "start_time": "2022-04-14T08:47:01.953Z"
   },
   {
    "duration": 67,
    "start_time": "2022-04-14T08:47:02.006Z"
   },
   {
    "duration": 68,
    "start_time": "2022-04-14T08:47:02.076Z"
   },
   {
    "duration": 16,
    "start_time": "2022-04-14T08:47:02.146Z"
   },
   {
    "duration": 87,
    "start_time": "2022-04-14T08:47:02.164Z"
   },
   {
    "duration": 6,
    "start_time": "2022-04-14T09:34:47.559Z"
   },
   {
    "duration": 4,
    "start_time": "2022-04-14T09:36:56.640Z"
   },
   {
    "duration": 141,
    "start_time": "2022-04-14T09:58:02.161Z"
   },
   {
    "duration": 124,
    "start_time": "2022-04-14T09:59:53.461Z"
   },
   {
    "duration": 24,
    "start_time": "2022-04-14T10:03:59.134Z"
   },
   {
    "duration": 11,
    "start_time": "2022-04-14T10:04:40.945Z"
   },
   {
    "duration": 58,
    "start_time": "2022-04-14T10:12:27.264Z"
   },
   {
    "duration": 70,
    "start_time": "2022-04-14T10:16:02.874Z"
   },
   {
    "duration": 1151,
    "start_time": "2022-04-14T10:16:24.227Z"
   },
   {
    "duration": 130,
    "start_time": "2022-04-14T10:16:25.380Z"
   },
   {
    "duration": 190,
    "start_time": "2022-04-14T10:16:25.512Z"
   },
   {
    "duration": 101,
    "start_time": "2022-04-14T10:16:25.704Z"
   },
   {
    "duration": 139,
    "start_time": "2022-04-14T10:16:25.806Z"
   },
   {
    "duration": 73,
    "start_time": "2022-04-14T10:16:25.946Z"
   },
   {
    "duration": 112,
    "start_time": "2022-04-14T10:16:26.026Z"
   },
   {
    "duration": 13,
    "start_time": "2022-04-14T10:16:26.140Z"
   },
   {
    "duration": 26,
    "start_time": "2022-04-14T10:16:26.154Z"
   },
   {
    "duration": 51,
    "start_time": "2022-04-14T10:16:26.183Z"
   },
   {
    "duration": 530,
    "start_time": "2022-04-14T10:16:26.236Z"
   },
   {
    "duration": 6,
    "start_time": "2022-04-14T10:16:26.767Z"
   },
   {
    "duration": 88,
    "start_time": "2022-04-14T10:16:26.774Z"
   },
   {
    "duration": 74,
    "start_time": "2022-04-14T10:16:26.864Z"
   },
   {
    "duration": 4,
    "start_time": "2022-04-14T10:16:26.940Z"
   },
   {
    "duration": 85,
    "start_time": "2022-04-14T10:16:26.946Z"
   },
   {
    "duration": 61,
    "start_time": "2022-04-14T10:16:27.033Z"
   },
   {
    "duration": 240,
    "start_time": "2022-04-14T10:16:27.096Z"
   },
   {
    "duration": 45,
    "start_time": "2022-04-14T10:16:27.339Z"
   },
   {
    "duration": 59,
    "start_time": "2022-04-14T10:16:27.385Z"
   },
   {
    "duration": 42,
    "start_time": "2022-04-14T10:16:27.448Z"
   },
   {
    "duration": 115,
    "start_time": "2022-04-14T10:16:27.491Z"
   },
   {
    "duration": 436,
    "start_time": "2022-04-14T10:16:27.608Z"
   },
   {
    "duration": 9,
    "start_time": "2022-04-14T10:16:28.046Z"
   },
   {
    "duration": 47,
    "start_time": "2022-04-14T10:16:28.057Z"
   },
   {
    "duration": 82,
    "start_time": "2022-04-14T10:16:28.106Z"
   },
   {
    "duration": 67,
    "start_time": "2022-04-14T10:16:28.190Z"
   },
   {
    "duration": 45,
    "start_time": "2022-04-14T10:16:28.260Z"
   },
   {
    "duration": 73,
    "start_time": "2022-04-14T10:16:28.307Z"
   },
   {
    "duration": 14,
    "start_time": "2022-04-14T10:16:28.382Z"
   },
   {
    "duration": 100,
    "start_time": "2022-04-14T10:16:28.398Z"
   },
   {
    "duration": 89,
    "start_time": "2022-04-14T10:16:56.015Z"
   },
   {
    "duration": 1139,
    "start_time": "2022-04-14T10:17:02.243Z"
   },
   {
    "duration": 139,
    "start_time": "2022-04-14T10:17:03.385Z"
   },
   {
    "duration": 150,
    "start_time": "2022-04-14T10:17:03.529Z"
   },
   {
    "duration": 93,
    "start_time": "2022-04-14T10:17:03.681Z"
   },
   {
    "duration": 94,
    "start_time": "2022-04-14T10:17:03.776Z"
   },
   {
    "duration": 74,
    "start_time": "2022-04-14T10:17:03.872Z"
   },
   {
    "duration": 84,
    "start_time": "2022-04-14T10:17:03.948Z"
   },
   {
    "duration": 12,
    "start_time": "2022-04-14T10:17:04.033Z"
   },
   {
    "duration": 38,
    "start_time": "2022-04-14T10:17:04.047Z"
   },
   {
    "duration": 37,
    "start_time": "2022-04-14T10:17:04.087Z"
   },
   {
    "duration": 562,
    "start_time": "2022-04-14T10:17:04.126Z"
   },
   {
    "duration": 6,
    "start_time": "2022-04-14T10:17:04.690Z"
   },
   {
    "duration": 85,
    "start_time": "2022-04-14T10:17:04.698Z"
   },
   {
    "duration": 72,
    "start_time": "2022-04-14T10:17:04.785Z"
   },
   {
    "duration": 3,
    "start_time": "2022-04-14T10:17:04.859Z"
   },
   {
    "duration": 87,
    "start_time": "2022-04-14T10:17:04.864Z"
   },
   {
    "duration": 52,
    "start_time": "2022-04-14T10:17:04.952Z"
   },
   {
    "duration": 251,
    "start_time": "2022-04-14T10:17:05.006Z"
   },
   {
    "duration": 32,
    "start_time": "2022-04-14T10:17:05.258Z"
   },
   {
    "duration": 8,
    "start_time": "2022-04-14T10:17:05.291Z"
   },
   {
    "duration": 53,
    "start_time": "2022-04-14T10:17:05.329Z"
   },
   {
    "duration": 103,
    "start_time": "2022-04-14T10:17:05.384Z"
   },
   {
    "duration": 411,
    "start_time": "2022-04-14T10:17:05.489Z"
   },
   {
    "duration": 10,
    "start_time": "2022-04-14T10:17:05.902Z"
   },
   {
    "duration": 83,
    "start_time": "2022-04-14T10:17:05.914Z"
   },
   {
    "duration": 70,
    "start_time": "2022-04-14T10:17:06.000Z"
   },
   {
    "duration": 59,
    "start_time": "2022-04-14T10:17:06.072Z"
   },
   {
    "duration": 70,
    "start_time": "2022-04-14T10:17:06.135Z"
   },
   {
    "duration": 70,
    "start_time": "2022-04-14T10:17:06.207Z"
   },
   {
    "duration": 15,
    "start_time": "2022-04-14T10:17:06.279Z"
   },
   {
    "duration": 103,
    "start_time": "2022-04-14T10:17:06.295Z"
   },
   {
    "duration": 1196,
    "start_time": "2022-04-14T10:17:43.863Z"
   },
   {
    "duration": 130,
    "start_time": "2022-04-14T10:17:45.061Z"
   },
   {
    "duration": 160,
    "start_time": "2022-04-14T10:17:45.193Z"
   },
   {
    "duration": 113,
    "start_time": "2022-04-14T10:17:45.356Z"
   },
   {
    "duration": 117,
    "start_time": "2022-04-14T10:17:45.471Z"
   },
   {
    "duration": 83,
    "start_time": "2022-04-14T10:17:45.590Z"
   },
   {
    "duration": 97,
    "start_time": "2022-04-14T10:17:45.674Z"
   },
   {
    "duration": 12,
    "start_time": "2022-04-14T10:17:45.772Z"
   },
   {
    "duration": 26,
    "start_time": "2022-04-14T10:17:45.786Z"
   },
   {
    "duration": 32,
    "start_time": "2022-04-14T10:17:45.834Z"
   },
   {
    "duration": 483,
    "start_time": "2022-04-14T10:17:45.867Z"
   },
   {
    "duration": 6,
    "start_time": "2022-04-14T10:17:46.351Z"
   },
   {
    "duration": 72,
    "start_time": "2022-04-14T10:17:46.359Z"
   },
   {
    "duration": 60,
    "start_time": "2022-04-14T10:17:46.433Z"
   },
   {
    "duration": 4,
    "start_time": "2022-04-14T10:17:46.495Z"
   },
   {
    "duration": 97,
    "start_time": "2022-04-14T10:17:46.501Z"
   },
   {
    "duration": 66,
    "start_time": "2022-04-14T10:17:46.600Z"
   },
   {
    "duration": 178,
    "start_time": "2022-04-14T10:17:46.668Z"
   },
   {
    "duration": 33,
    "start_time": "2022-04-14T10:17:46.848Z"
   },
   {
    "duration": 56,
    "start_time": "2022-04-14T10:17:46.883Z"
   },
   {
    "duration": 32,
    "start_time": "2022-04-14T10:17:46.944Z"
   },
   {
    "duration": 95,
    "start_time": "2022-04-14T10:17:46.978Z"
   },
   {
    "duration": 390,
    "start_time": "2022-04-14T10:17:47.075Z"
   },
   {
    "duration": 9,
    "start_time": "2022-04-14T10:17:47.468Z"
   },
   {
    "duration": 70,
    "start_time": "2022-04-14T10:17:47.479Z"
   },
   {
    "duration": 72,
    "start_time": "2022-04-14T10:17:47.551Z"
   },
   {
    "duration": 56,
    "start_time": "2022-04-14T10:17:47.629Z"
   },
   {
    "duration": 64,
    "start_time": "2022-04-14T10:17:47.688Z"
   },
   {
    "duration": 47,
    "start_time": "2022-04-14T10:17:47.753Z"
   },
   {
    "duration": 43,
    "start_time": "2022-04-14T10:17:47.801Z"
   },
   {
    "duration": 67,
    "start_time": "2022-04-14T10:17:47.846Z"
   },
   {
    "duration": 77,
    "start_time": "2022-04-14T10:17:57.421Z"
   },
   {
    "duration": 67,
    "start_time": "2022-04-14T10:18:21.218Z"
   },
   {
    "duration": 1368,
    "start_time": "2022-04-14T10:18:36.647Z"
   },
   {
    "duration": 190,
    "start_time": "2022-04-14T10:18:38.023Z"
   },
   {
    "duration": 197,
    "start_time": "2022-04-14T10:18:38.215Z"
   },
   {
    "duration": 110,
    "start_time": "2022-04-14T10:18:38.427Z"
   },
   {
    "duration": 107,
    "start_time": "2022-04-14T10:18:38.539Z"
   },
   {
    "duration": 48,
    "start_time": "2022-04-14T10:18:38.649Z"
   },
   {
    "duration": 109,
    "start_time": "2022-04-14T10:18:38.699Z"
   },
   {
    "duration": 9,
    "start_time": "2022-04-14T10:18:38.809Z"
   },
   {
    "duration": 50,
    "start_time": "2022-04-14T10:18:38.820Z"
   },
   {
    "duration": 29,
    "start_time": "2022-04-14T10:18:38.874Z"
   },
   {
    "duration": 549,
    "start_time": "2022-04-14T10:18:38.904Z"
   },
   {
    "duration": 6,
    "start_time": "2022-04-14T10:18:39.454Z"
   },
   {
    "duration": 69,
    "start_time": "2022-04-14T10:18:39.461Z"
   },
   {
    "duration": 79,
    "start_time": "2022-04-14T10:18:39.532Z"
   },
   {
    "duration": 19,
    "start_time": "2022-04-14T10:18:39.613Z"
   },
   {
    "duration": 83,
    "start_time": "2022-04-14T10:18:39.634Z"
   },
   {
    "duration": 66,
    "start_time": "2022-04-14T10:18:39.718Z"
   },
   {
    "duration": 215,
    "start_time": "2022-04-14T10:18:39.786Z"
   },
   {
    "duration": 55,
    "start_time": "2022-04-14T10:18:40.003Z"
   },
   {
    "duration": 10,
    "start_time": "2022-04-14T10:18:40.059Z"
   },
   {
    "duration": 91,
    "start_time": "2022-04-14T10:18:40.071Z"
   },
   {
    "duration": 97,
    "start_time": "2022-04-14T10:18:40.164Z"
   },
   {
    "duration": 507,
    "start_time": "2022-04-14T10:18:40.263Z"
   },
   {
    "duration": 13,
    "start_time": "2022-04-14T10:18:40.772Z"
   },
   {
    "duration": 80,
    "start_time": "2022-04-14T10:18:40.787Z"
   },
   {
    "duration": 66,
    "start_time": "2022-04-14T10:18:40.869Z"
   },
   {
    "duration": 48,
    "start_time": "2022-04-14T10:18:40.937Z"
   },
   {
    "duration": 75,
    "start_time": "2022-04-14T10:18:40.989Z"
   },
   {
    "duration": 75,
    "start_time": "2022-04-14T10:18:41.066Z"
   },
   {
    "duration": 18,
    "start_time": "2022-04-14T10:18:41.143Z"
   },
   {
    "duration": 86,
    "start_time": "2022-04-14T10:18:41.163Z"
   },
   {
    "duration": 51,
    "start_time": "2022-04-14T11:10:09.709Z"
   },
   {
    "duration": 7,
    "start_time": "2022-04-14T11:10:19.679Z"
   },
   {
    "duration": 10,
    "start_time": "2022-04-14T11:13:38.245Z"
   },
   {
    "duration": 7,
    "start_time": "2022-04-14T11:14:44.951Z"
   },
   {
    "duration": 8,
    "start_time": "2022-04-14T11:14:55.477Z"
   },
   {
    "duration": 1344,
    "start_time": "2022-04-14T11:23:17.143Z"
   },
   {
    "duration": 181,
    "start_time": "2022-04-14T11:23:18.489Z"
   },
   {
    "duration": 188,
    "start_time": "2022-04-14T11:23:18.672Z"
   },
   {
    "duration": 101,
    "start_time": "2022-04-14T11:23:18.862Z"
   },
   {
    "duration": 125,
    "start_time": "2022-04-14T11:23:18.966Z"
   },
   {
    "duration": 81,
    "start_time": "2022-04-14T11:23:19.094Z"
   },
   {
    "duration": 108,
    "start_time": "2022-04-14T11:23:19.177Z"
   },
   {
    "duration": 10,
    "start_time": "2022-04-14T11:23:19.287Z"
   },
   {
    "duration": 57,
    "start_time": "2022-04-14T11:23:19.299Z"
   },
   {
    "duration": 42,
    "start_time": "2022-04-14T11:23:19.360Z"
   },
   {
    "duration": 615,
    "start_time": "2022-04-14T11:23:19.404Z"
   },
   {
    "duration": 18,
    "start_time": "2022-04-14T11:23:20.021Z"
   },
   {
    "duration": 107,
    "start_time": "2022-04-14T11:23:20.041Z"
   },
   {
    "duration": 97,
    "start_time": "2022-04-14T11:23:20.153Z"
   },
   {
    "duration": 124,
    "start_time": "2022-04-14T11:23:20.254Z"
   },
   {
    "duration": 96,
    "start_time": "2022-04-14T11:23:20.380Z"
   },
   {
    "duration": 232,
    "start_time": "2022-04-14T11:23:20.478Z"
   },
   {
    "duration": 65,
    "start_time": "2022-04-14T11:23:20.713Z"
   },
   {
    "duration": 5,
    "start_time": "2022-04-14T11:23:20.781Z"
   },
   {
    "duration": 35,
    "start_time": "2022-04-14T11:23:20.824Z"
   },
   {
    "duration": 109,
    "start_time": "2022-04-14T11:23:20.862Z"
   },
   {
    "duration": 549,
    "start_time": "2022-04-14T11:23:20.974Z"
   },
   {
    "duration": 16,
    "start_time": "2022-04-14T11:23:21.525Z"
   },
   {
    "duration": 76,
    "start_time": "2022-04-14T11:23:21.543Z"
   },
   {
    "duration": 73,
    "start_time": "2022-04-14T11:23:21.625Z"
   },
   {
    "duration": 77,
    "start_time": "2022-04-14T11:23:21.702Z"
   },
   {
    "duration": 60,
    "start_time": "2022-04-14T11:23:21.780Z"
   },
   {
    "duration": 61,
    "start_time": "2022-04-14T11:23:21.842Z"
   },
   {
    "duration": 36,
    "start_time": "2022-04-14T11:23:21.907Z"
   },
   {
    "duration": 90,
    "start_time": "2022-04-14T11:23:21.945Z"
   },
   {
    "duration": 63,
    "start_time": "2022-04-14T11:25:11.658Z"
   },
   {
    "duration": 64,
    "start_time": "2022-04-14T11:25:23.615Z"
   },
   {
    "duration": 54,
    "start_time": "2022-04-14T11:44:44.033Z"
   },
   {
    "duration": 71,
    "start_time": "2022-04-14T11:51:08.286Z"
   },
   {
    "duration": 133,
    "start_time": "2022-04-14T17:45:14.331Z"
   },
   {
    "duration": 5,
    "start_time": "2022-04-14T17:45:25.439Z"
   },
   {
    "duration": 134,
    "start_time": "2022-04-14T17:45:42.495Z"
   },
   {
    "duration": 127,
    "start_time": "2022-04-14T17:45:50.259Z"
   },
   {
    "duration": 141,
    "start_time": "2022-04-14T17:46:26.541Z"
   },
   {
    "duration": 134,
    "start_time": "2022-04-14T17:46:39.524Z"
   },
   {
    "duration": 170,
    "start_time": "2022-04-14T17:46:43.458Z"
   },
   {
    "duration": 4,
    "start_time": "2022-04-14T17:47:02.354Z"
   },
   {
    "duration": 3,
    "start_time": "2022-04-14T17:47:50.450Z"
   },
   {
    "duration": 60,
    "start_time": "2022-04-14T17:50:08.510Z"
   },
   {
    "duration": 1176,
    "start_time": "2022-04-14T18:57:17.422Z"
   },
   {
    "duration": 140,
    "start_time": "2022-04-14T18:57:18.600Z"
   },
   {
    "duration": 133,
    "start_time": "2022-04-14T18:57:18.742Z"
   },
   {
    "duration": 103,
    "start_time": "2022-04-14T18:57:18.877Z"
   },
   {
    "duration": 81,
    "start_time": "2022-04-14T18:57:18.982Z"
   },
   {
    "duration": 64,
    "start_time": "2022-04-14T18:57:19.065Z"
   },
   {
    "duration": 73,
    "start_time": "2022-04-14T18:57:19.132Z"
   },
   {
    "duration": 20,
    "start_time": "2022-04-14T18:57:19.207Z"
   },
   {
    "duration": 30,
    "start_time": "2022-04-14T18:57:19.229Z"
   },
   {
    "duration": 30,
    "start_time": "2022-04-14T18:57:19.261Z"
   },
   {
    "duration": 498,
    "start_time": "2022-04-14T18:57:19.293Z"
   },
   {
    "duration": 6,
    "start_time": "2022-04-14T18:57:19.792Z"
   },
   {
    "duration": 79,
    "start_time": "2022-04-14T18:57:19.799Z"
   },
   {
    "duration": 67,
    "start_time": "2022-04-14T18:57:19.880Z"
   },
   {
    "duration": 83,
    "start_time": "2022-04-14T18:57:19.949Z"
   },
   {
    "duration": 58,
    "start_time": "2022-04-14T18:57:20.035Z"
   },
   {
    "duration": 182,
    "start_time": "2022-04-14T18:57:20.095Z"
   },
   {
    "duration": 56,
    "start_time": "2022-04-14T18:57:20.279Z"
   },
   {
    "duration": 4,
    "start_time": "2022-04-14T18:57:20.337Z"
   },
   {
    "duration": 8,
    "start_time": "2022-04-14T18:57:20.343Z"
   },
   {
    "duration": 113,
    "start_time": "2022-04-14T18:57:20.353Z"
   },
   {
    "duration": 431,
    "start_time": "2022-04-14T18:57:20.468Z"
   },
   {
    "duration": 8,
    "start_time": "2022-04-14T18:57:20.901Z"
   },
   {
    "duration": 60,
    "start_time": "2022-04-14T18:57:20.911Z"
   },
   {
    "duration": 67,
    "start_time": "2022-04-14T18:57:20.972Z"
   },
   {
    "duration": 49,
    "start_time": "2022-04-14T18:57:21.041Z"
   },
   {
    "duration": 4,
    "start_time": "2022-04-14T18:57:21.091Z"
   },
   {
    "duration": 53,
    "start_time": "2022-04-14T18:57:21.098Z"
   },
   {
    "duration": 61,
    "start_time": "2022-04-14T18:57:21.153Z"
   },
   {
    "duration": 1374,
    "start_time": "2022-04-14T18:58:20.713Z"
   },
   {
    "duration": 190,
    "start_time": "2022-04-14T18:58:22.089Z"
   },
   {
    "duration": 174,
    "start_time": "2022-04-14T18:58:22.281Z"
   },
   {
    "duration": 89,
    "start_time": "2022-04-14T18:58:22.457Z"
   },
   {
    "duration": 104,
    "start_time": "2022-04-14T18:58:22.548Z"
   },
   {
    "duration": 57,
    "start_time": "2022-04-14T18:58:22.654Z"
   },
   {
    "duration": 97,
    "start_time": "2022-04-14T18:58:22.713Z"
   },
   {
    "duration": 25,
    "start_time": "2022-04-14T18:58:22.811Z"
   },
   {
    "duration": 32,
    "start_time": "2022-04-14T18:58:22.838Z"
   },
   {
    "duration": 29,
    "start_time": "2022-04-14T18:58:22.873Z"
   },
   {
    "duration": 700,
    "start_time": "2022-04-14T18:58:22.904Z"
   },
   {
    "duration": 6,
    "start_time": "2022-04-14T18:58:23.606Z"
   },
   {
    "duration": 84,
    "start_time": "2022-04-14T18:58:23.625Z"
   },
   {
    "duration": 68,
    "start_time": "2022-04-14T18:58:23.712Z"
   },
   {
    "duration": 88,
    "start_time": "2022-04-14T18:58:23.782Z"
   },
   {
    "duration": 65,
    "start_time": "2022-04-14T18:58:23.872Z"
   },
   {
    "duration": 205,
    "start_time": "2022-04-14T18:58:23.939Z"
   },
   {
    "duration": 38,
    "start_time": "2022-04-14T18:58:24.146Z"
   },
   {
    "duration": 3,
    "start_time": "2022-04-14T18:58:24.186Z"
   },
   {
    "duration": 18,
    "start_time": "2022-04-14T18:58:24.232Z"
   },
   {
    "duration": 114,
    "start_time": "2022-04-14T18:58:24.251Z"
   },
   {
    "duration": 422,
    "start_time": "2022-04-14T18:58:24.367Z"
   },
   {
    "duration": 8,
    "start_time": "2022-04-14T18:58:24.791Z"
   },
   {
    "duration": 69,
    "start_time": "2022-04-14T18:58:24.800Z"
   },
   {
    "duration": 58,
    "start_time": "2022-04-14T18:58:24.871Z"
   },
   {
    "duration": 59,
    "start_time": "2022-04-14T18:58:24.931Z"
   },
   {
    "duration": 4,
    "start_time": "2022-04-14T18:58:24.992Z"
   },
   {
    "duration": 43,
    "start_time": "2022-04-14T18:58:25.000Z"
   },
   {
    "duration": 62,
    "start_time": "2022-04-14T18:58:25.045Z"
   },
   {
    "duration": 1467,
    "start_time": "2022-04-14T19:00:22.488Z"
   },
   {
    "duration": 219,
    "start_time": "2022-04-14T19:00:23.958Z"
   },
   {
    "duration": 237,
    "start_time": "2022-04-14T19:00:24.179Z"
   },
   {
    "duration": 129,
    "start_time": "2022-04-14T19:00:24.425Z"
   },
   {
    "duration": 95,
    "start_time": "2022-04-14T19:00:24.556Z"
   },
   {
    "duration": 55,
    "start_time": "2022-04-14T19:00:24.653Z"
   },
   {
    "duration": 88,
    "start_time": "2022-04-14T19:00:24.710Z"
   },
   {
    "duration": 31,
    "start_time": "2022-04-14T19:00:24.800Z"
   },
   {
    "duration": 47,
    "start_time": "2022-04-14T19:00:24.833Z"
   },
   {
    "duration": 72,
    "start_time": "2022-04-14T19:00:24.884Z"
   },
   {
    "duration": 486,
    "start_time": "2022-04-14T19:00:24.959Z"
   },
   {
    "duration": 5,
    "start_time": "2022-04-14T19:00:25.446Z"
   },
   {
    "duration": 58,
    "start_time": "2022-04-14T19:00:25.452Z"
   },
   {
    "duration": 58,
    "start_time": "2022-04-14T19:00:25.523Z"
   },
   {
    "duration": 91,
    "start_time": "2022-04-14T19:00:25.582Z"
   },
   {
    "duration": 68,
    "start_time": "2022-04-14T19:00:25.675Z"
   },
   {
    "duration": 175,
    "start_time": "2022-04-14T19:00:25.745Z"
   },
   {
    "duration": 58,
    "start_time": "2022-04-14T19:00:25.921Z"
   },
   {
    "duration": 4,
    "start_time": "2022-04-14T19:00:25.981Z"
   },
   {
    "duration": 15,
    "start_time": "2022-04-14T19:00:26.026Z"
   },
   {
    "duration": 101,
    "start_time": "2022-04-14T19:00:26.043Z"
   },
   {
    "duration": 412,
    "start_time": "2022-04-14T19:00:26.147Z"
   },
   {
    "duration": 8,
    "start_time": "2022-04-14T19:00:26.561Z"
   },
   {
    "duration": 62,
    "start_time": "2022-04-14T19:00:26.571Z"
   },
   {
    "duration": 51,
    "start_time": "2022-04-14T19:00:26.637Z"
   },
   {
    "duration": 74,
    "start_time": "2022-04-14T19:00:26.690Z"
   },
   {
    "duration": 6,
    "start_time": "2022-04-14T19:00:26.766Z"
   },
   {
    "duration": 27,
    "start_time": "2022-04-14T19:00:26.775Z"
   },
   {
    "duration": 81,
    "start_time": "2022-04-14T19:00:26.803Z"
   },
   {
    "duration": 1929,
    "start_time": "2022-04-15T11:59:11.170Z"
   },
   {
    "duration": 210,
    "start_time": "2022-04-15T11:59:13.102Z"
   },
   {
    "duration": 217,
    "start_time": "2022-04-15T11:59:13.314Z"
   },
   {
    "duration": 142,
    "start_time": "2022-04-15T11:59:13.533Z"
   },
   {
    "duration": 142,
    "start_time": "2022-04-15T11:59:13.677Z"
   },
   {
    "duration": 97,
    "start_time": "2022-04-15T11:59:13.822Z"
   },
   {
    "duration": 132,
    "start_time": "2022-04-15T11:59:13.921Z"
   },
   {
    "duration": 15,
    "start_time": "2022-04-15T11:59:14.056Z"
   },
   {
    "duration": 47,
    "start_time": "2022-04-15T11:59:14.073Z"
   },
   {
    "duration": 71,
    "start_time": "2022-04-15T11:59:14.124Z"
   },
   {
    "duration": 824,
    "start_time": "2022-04-15T11:59:14.197Z"
   },
   {
    "duration": 6,
    "start_time": "2022-04-15T11:59:15.023Z"
   },
   {
    "duration": 126,
    "start_time": "2022-04-15T11:59:15.031Z"
   },
   {
    "duration": 93,
    "start_time": "2022-04-15T11:59:15.160Z"
   },
   {
    "duration": 148,
    "start_time": "2022-04-15T11:59:15.257Z"
   },
   {
    "duration": 108,
    "start_time": "2022-04-15T11:59:15.408Z"
   },
   {
    "duration": 250,
    "start_time": "2022-04-15T11:59:15.518Z"
   },
   {
    "duration": 98,
    "start_time": "2022-04-15T11:59:15.770Z"
   },
   {
    "duration": 5,
    "start_time": "2022-04-15T11:59:15.871Z"
   },
   {
    "duration": 16,
    "start_time": "2022-04-15T11:59:15.878Z"
   },
   {
    "duration": 201,
    "start_time": "2022-04-15T11:59:15.952Z"
   },
   {
    "duration": 769,
    "start_time": "2022-04-15T11:59:16.155Z"
   },
   {
    "duration": 14,
    "start_time": "2022-04-15T11:59:16.926Z"
   },
   {
    "duration": 85,
    "start_time": "2022-04-15T11:59:16.942Z"
   },
   {
    "duration": 83,
    "start_time": "2022-04-15T11:59:17.052Z"
   },
   {
    "duration": 98,
    "start_time": "2022-04-15T11:59:17.154Z"
   },
   {
    "duration": 4,
    "start_time": "2022-04-15T11:59:17.255Z"
   },
   {
    "duration": 26,
    "start_time": "2022-04-15T11:59:17.264Z"
   },
   {
    "duration": 149,
    "start_time": "2022-04-15T11:59:17.293Z"
   },
   {
    "duration": 727,
    "start_time": "2022-04-15T11:59:29.308Z"
   },
   {
    "duration": 465,
    "start_time": "2022-04-15T11:59:42.994Z"
   },
   {
    "duration": 487,
    "start_time": "2022-04-15T11:59:46.884Z"
   },
   {
    "duration": 638,
    "start_time": "2022-04-15T11:59:53.142Z"
   },
   {
    "duration": 43,
    "start_time": "2022-04-15T17:29:16.088Z"
   },
   {
    "duration": 1352,
    "start_time": "2022-04-15T17:29:22.268Z"
   },
   {
    "duration": 155,
    "start_time": "2022-04-15T17:29:23.624Z"
   },
   {
    "duration": 137,
    "start_time": "2022-04-15T17:29:23.780Z"
   },
   {
    "duration": 75,
    "start_time": "2022-04-15T17:29:23.923Z"
   },
   {
    "duration": 83,
    "start_time": "2022-04-15T17:29:23.999Z"
   },
   {
    "duration": 62,
    "start_time": "2022-04-15T17:29:24.083Z"
   },
   {
    "duration": 78,
    "start_time": "2022-04-15T17:29:24.147Z"
   },
   {
    "duration": 12,
    "start_time": "2022-04-15T17:29:24.226Z"
   },
   {
    "duration": 28,
    "start_time": "2022-04-15T17:29:24.239Z"
   },
   {
    "duration": 30,
    "start_time": "2022-04-15T17:29:24.270Z"
   },
   {
    "duration": 247,
    "start_time": "2022-04-15T17:29:24.325Z"
   },
   {
    "duration": 4,
    "start_time": "2022-04-15T17:29:24.574Z"
   },
   {
    "duration": 69,
    "start_time": "2022-04-15T17:29:24.580Z"
   },
   {
    "duration": 48,
    "start_time": "2022-04-15T17:29:24.651Z"
   },
   {
    "duration": 83,
    "start_time": "2022-04-15T17:29:24.700Z"
   },
   {
    "duration": 59,
    "start_time": "2022-04-15T17:29:24.784Z"
   },
   {
    "duration": 164,
    "start_time": "2022-04-15T17:29:24.845Z"
   },
   {
    "duration": 37,
    "start_time": "2022-04-15T17:29:25.011Z"
   },
   {
    "duration": 3,
    "start_time": "2022-04-15T17:29:25.050Z"
   },
   {
    "duration": 17,
    "start_time": "2022-04-15T17:29:25.055Z"
   },
   {
    "duration": 106,
    "start_time": "2022-04-15T17:29:25.073Z"
   },
   {
    "duration": 396,
    "start_time": "2022-04-15T17:29:25.181Z"
   },
   {
    "duration": 8,
    "start_time": "2022-04-15T17:29:25.579Z"
   },
   {
    "duration": 71,
    "start_time": "2022-04-15T17:29:25.588Z"
   },
   {
    "duration": 44,
    "start_time": "2022-04-15T17:29:25.660Z"
   },
   {
    "duration": 58,
    "start_time": "2022-04-15T17:29:25.706Z"
   },
   {
    "duration": 3,
    "start_time": "2022-04-15T17:29:25.765Z"
   },
   {
    "duration": 17,
    "start_time": "2022-04-15T17:29:25.771Z"
   },
   {
    "duration": 75,
    "start_time": "2022-04-15T17:29:25.790Z"
   },
   {
    "duration": 140,
    "start_time": "2022-04-15T17:42:22.312Z"
   },
   {
    "duration": 128,
    "start_time": "2022-04-15T17:42:35.913Z"
   },
   {
    "duration": 33,
    "start_time": "2022-04-15T17:47:09.818Z"
   },
   {
    "duration": 26,
    "start_time": "2022-04-15T17:47:38.435Z"
   },
   {
    "duration": 28,
    "start_time": "2022-04-15T17:47:45.649Z"
   },
   {
    "duration": 22,
    "start_time": "2022-04-15T17:48:17.745Z"
   },
   {
    "duration": 131,
    "start_time": "2022-04-15T17:49:00.207Z"
   },
   {
    "duration": 287,
    "start_time": "2022-04-15T17:50:11.556Z"
   },
   {
    "duration": 131,
    "start_time": "2022-04-15T17:50:16.213Z"
   },
   {
    "duration": 129,
    "start_time": "2022-04-15T17:50:54.547Z"
   },
   {
    "duration": 126,
    "start_time": "2022-04-15T17:52:23.225Z"
   },
   {
    "duration": 215,
    "start_time": "2022-04-15T17:53:03.676Z"
   },
   {
    "duration": 146,
    "start_time": "2022-04-15T17:53:57.150Z"
   },
   {
    "duration": 144,
    "start_time": "2022-04-15T17:54:11.188Z"
   },
   {
    "duration": 142,
    "start_time": "2022-04-15T17:54:16.149Z"
   },
   {
    "duration": 134,
    "start_time": "2022-04-15T17:54:23.093Z"
   },
   {
    "duration": 217,
    "start_time": "2022-04-15T17:54:27.877Z"
   },
   {
    "duration": 60,
    "start_time": "2022-04-15T17:56:19.093Z"
   },
   {
    "duration": 224,
    "start_time": "2022-04-15T17:56:27.116Z"
   },
   {
    "duration": 1090,
    "start_time": "2022-04-15T18:13:13.630Z"
   },
   {
    "duration": 130,
    "start_time": "2022-04-15T18:13:14.722Z"
   },
   {
    "duration": 128,
    "start_time": "2022-04-15T18:13:14.853Z"
   },
   {
    "duration": 85,
    "start_time": "2022-04-15T18:13:14.983Z"
   },
   {
    "duration": 73,
    "start_time": "2022-04-15T18:13:15.070Z"
   },
   {
    "duration": 50,
    "start_time": "2022-04-15T18:13:15.144Z"
   },
   {
    "duration": 86,
    "start_time": "2022-04-15T18:13:15.195Z"
   },
   {
    "duration": 9,
    "start_time": "2022-04-15T18:13:15.282Z"
   },
   {
    "duration": 37,
    "start_time": "2022-04-15T18:13:15.293Z"
   },
   {
    "duration": 28,
    "start_time": "2022-04-15T18:13:15.333Z"
   },
   {
    "duration": 253,
    "start_time": "2022-04-15T18:13:15.362Z"
   },
   {
    "duration": 10,
    "start_time": "2022-04-15T18:13:15.616Z"
   },
   {
    "duration": 54,
    "start_time": "2022-04-15T18:13:15.627Z"
   },
   {
    "duration": 67,
    "start_time": "2022-04-15T18:13:15.682Z"
   },
   {
    "duration": 65,
    "start_time": "2022-04-15T18:13:15.750Z"
   },
   {
    "duration": 152,
    "start_time": "2022-04-15T18:13:15.817Z"
   },
   {
    "duration": 56,
    "start_time": "2022-04-15T18:13:15.971Z"
   },
   {
    "duration": 181,
    "start_time": "2022-04-15T18:13:16.029Z"
   },
   {
    "duration": 36,
    "start_time": "2022-04-15T18:13:16.211Z"
   },
   {
    "duration": 4,
    "start_time": "2022-04-15T18:13:16.248Z"
   },
   {
    "duration": 11,
    "start_time": "2022-04-15T18:13:16.253Z"
   },
   {
    "duration": 97,
    "start_time": "2022-04-15T18:13:16.266Z"
   },
   {
    "duration": 358,
    "start_time": "2022-04-15T18:13:16.365Z"
   },
   {
    "duration": 9,
    "start_time": "2022-04-15T18:13:16.725Z"
   },
   {
    "duration": 51,
    "start_time": "2022-04-15T18:13:16.735Z"
   },
   {
    "duration": 63,
    "start_time": "2022-04-15T18:13:16.788Z"
   },
   {
    "duration": 46,
    "start_time": "2022-04-15T18:13:16.852Z"
   },
   {
    "duration": 3,
    "start_time": "2022-04-15T18:13:16.901Z"
   },
   {
    "duration": 15,
    "start_time": "2022-04-15T18:13:16.923Z"
   },
   {
    "duration": 62,
    "start_time": "2022-04-15T18:13:16.940Z"
   },
   {
    "duration": 1447,
    "start_time": "2022-06-23T17:19:17.546Z"
   },
   {
    "duration": 643,
    "start_time": "2022-06-23T17:19:18.996Z"
   },
   {
    "duration": 156,
    "start_time": "2022-06-23T17:19:19.640Z"
   },
   {
    "duration": 88,
    "start_time": "2022-06-23T17:19:19.798Z"
   },
   {
    "duration": 94,
    "start_time": "2022-06-23T17:19:19.888Z"
   },
   {
    "duration": 74,
    "start_time": "2022-06-23T17:19:19.983Z"
   },
   {
    "duration": 87,
    "start_time": "2022-06-23T17:19:20.058Z"
   },
   {
    "duration": 11,
    "start_time": "2022-06-23T17:19:20.146Z"
   },
   {
    "duration": 34,
    "start_time": "2022-06-23T17:19:20.159Z"
   },
   {
    "duration": 37,
    "start_time": "2022-06-23T17:19:20.227Z"
   },
   {
    "duration": 297,
    "start_time": "2022-06-23T17:19:20.266Z"
   },
   {
    "duration": 6,
    "start_time": "2022-06-23T17:19:20.565Z"
   },
   {
    "duration": 84,
    "start_time": "2022-06-23T17:19:20.573Z"
   },
   {
    "duration": 73,
    "start_time": "2022-06-23T17:19:20.659Z"
   },
   {
    "duration": 78,
    "start_time": "2022-06-23T17:19:20.733Z"
   },
   {
    "duration": 184,
    "start_time": "2022-06-23T17:19:20.812Z"
   },
   {
    "duration": 70,
    "start_time": "2022-06-23T17:19:20.997Z"
   },
   {
    "duration": 145,
    "start_time": "2022-06-23T17:19:21.068Z"
   },
   {
    "duration": 53,
    "start_time": "2022-06-23T17:19:21.215Z"
   },
   {
    "duration": 59,
    "start_time": "2022-06-23T17:19:21.270Z"
   },
   {
    "duration": 12,
    "start_time": "2022-06-23T17:19:21.331Z"
   },
   {
    "duration": 119,
    "start_time": "2022-06-23T17:19:21.345Z"
   },
   {
    "duration": 478,
    "start_time": "2022-06-23T17:19:21.466Z"
   },
   {
    "duration": 9,
    "start_time": "2022-06-23T17:19:21.946Z"
   },
   {
    "duration": 70,
    "start_time": "2022-06-23T17:19:21.957Z"
   },
   {
    "duration": 56,
    "start_time": "2022-06-23T17:19:22.029Z"
   },
   {
    "duration": 79,
    "start_time": "2022-06-23T17:19:22.087Z"
   },
   {
    "duration": 4,
    "start_time": "2022-06-23T17:19:22.170Z"
   },
   {
    "duration": 37,
    "start_time": "2022-06-23T17:19:22.175Z"
   },
   {
    "duration": 78,
    "start_time": "2022-06-23T17:19:22.214Z"
   },
   {
    "duration": 37,
    "start_time": "2022-06-23T17:40:07.060Z"
   },
   {
    "duration": 33,
    "start_time": "2022-06-23T17:40:13.011Z"
   },
   {
    "duration": 1064,
    "start_time": "2022-06-24T18:34:03.683Z"
   },
   {
    "duration": 519,
    "start_time": "2022-06-24T18:34:04.749Z"
   },
   {
    "duration": 147,
    "start_time": "2022-06-24T18:34:05.270Z"
   },
   {
    "duration": 84,
    "start_time": "2022-06-24T18:34:05.419Z"
   },
   {
    "duration": 97,
    "start_time": "2022-06-24T18:34:05.505Z"
   },
   {
    "duration": 68,
    "start_time": "2022-06-24T18:34:05.603Z"
   },
   {
    "duration": 87,
    "start_time": "2022-06-24T18:34:05.673Z"
   },
   {
    "duration": 9,
    "start_time": "2022-06-24T18:34:05.761Z"
   },
   {
    "duration": 31,
    "start_time": "2022-06-24T18:34:05.772Z"
   },
   {
    "duration": 56,
    "start_time": "2022-06-24T18:34:05.805Z"
   },
   {
    "duration": 298,
    "start_time": "2022-06-24T18:34:05.862Z"
   },
   {
    "duration": 5,
    "start_time": "2022-06-24T18:34:06.161Z"
   },
   {
    "duration": 99,
    "start_time": "2022-06-24T18:34:06.168Z"
   },
   {
    "duration": 82,
    "start_time": "2022-06-24T18:34:06.269Z"
   },
   {
    "duration": 100,
    "start_time": "2022-06-24T18:34:06.352Z"
   },
   {
    "duration": 176,
    "start_time": "2022-06-24T18:34:06.454Z"
   },
   {
    "duration": 60,
    "start_time": "2022-06-24T18:34:06.631Z"
   },
   {
    "duration": 155,
    "start_time": "2022-06-24T18:34:06.693Z"
   },
   {
    "duration": 90,
    "start_time": "2022-06-24T18:34:06.850Z"
   },
   {
    "duration": 4,
    "start_time": "2022-06-24T18:34:06.941Z"
   },
   {
    "duration": 14,
    "start_time": "2022-06-24T18:34:06.947Z"
   },
   {
    "duration": 164,
    "start_time": "2022-06-24T18:34:06.963Z"
   },
   {
    "duration": 441,
    "start_time": "2022-06-24T18:34:07.129Z"
   },
   {
    "duration": 9,
    "start_time": "2022-06-24T18:34:07.571Z"
   },
   {
    "duration": 64,
    "start_time": "2022-06-24T18:34:07.582Z"
   },
   {
    "duration": 49,
    "start_time": "2022-06-24T18:34:07.647Z"
   },
   {
    "duration": 69,
    "start_time": "2022-06-24T18:34:07.698Z"
   },
   {
    "duration": 3,
    "start_time": "2022-06-24T18:34:07.770Z"
   },
   {
    "duration": 19,
    "start_time": "2022-06-24T18:34:07.775Z"
   },
   {
    "duration": 94,
    "start_time": "2022-06-24T18:34:07.795Z"
   },
   {
    "duration": 1554,
    "start_time": "2022-06-28T11:57:05.613Z"
   },
   {
    "duration": 682,
    "start_time": "2022-06-28T11:57:07.170Z"
   },
   {
    "duration": 163,
    "start_time": "2022-06-28T11:57:07.854Z"
   },
   {
    "duration": 102,
    "start_time": "2022-06-28T11:57:08.020Z"
   },
   {
    "duration": 97,
    "start_time": "2022-06-28T11:57:08.123Z"
   },
   {
    "duration": 68,
    "start_time": "2022-06-28T11:57:08.222Z"
   },
   {
    "duration": 97,
    "start_time": "2022-06-28T11:57:08.292Z"
   },
   {
    "duration": 11,
    "start_time": "2022-06-28T11:57:08.390Z"
   },
   {
    "duration": 47,
    "start_time": "2022-06-28T11:57:08.402Z"
   },
   {
    "duration": 45,
    "start_time": "2022-06-28T11:57:08.453Z"
   },
   {
    "duration": 341,
    "start_time": "2022-06-28T11:57:08.500Z"
   },
   {
    "duration": 5,
    "start_time": "2022-06-28T11:57:08.843Z"
   },
   {
    "duration": 74,
    "start_time": "2022-06-28T11:57:08.850Z"
   },
   {
    "duration": 76,
    "start_time": "2022-06-28T11:57:08.925Z"
   },
   {
    "duration": 90,
    "start_time": "2022-06-28T11:57:09.004Z"
   },
   {
    "duration": 194,
    "start_time": "2022-06-28T11:57:09.096Z"
   },
   {
    "duration": 73,
    "start_time": "2022-06-28T11:57:09.292Z"
   },
   {
    "duration": 179,
    "start_time": "2022-06-28T11:57:09.367Z"
   },
   {
    "duration": 100,
    "start_time": "2022-06-28T11:57:09.548Z"
   },
   {
    "duration": 6,
    "start_time": "2022-06-28T11:57:09.650Z"
   },
   {
    "duration": 22,
    "start_time": "2022-06-28T11:57:09.659Z"
   },
   {
    "duration": 112,
    "start_time": "2022-06-28T11:57:09.683Z"
   },
   {
    "duration": 514,
    "start_time": "2022-06-28T11:57:09.797Z"
   },
   {
    "duration": 9,
    "start_time": "2022-06-28T11:57:10.313Z"
   },
   {
    "duration": 69,
    "start_time": "2022-06-28T11:57:10.324Z"
   },
   {
    "duration": 73,
    "start_time": "2022-06-28T11:57:10.395Z"
   },
   {
    "duration": 75,
    "start_time": "2022-06-28T11:57:10.470Z"
   },
   {
    "duration": 5,
    "start_time": "2022-06-28T11:57:10.550Z"
   },
   {
    "duration": 20,
    "start_time": "2022-06-28T11:57:10.557Z"
   },
   {
    "duration": 98,
    "start_time": "2022-06-28T11:57:10.579Z"
   },
   {
    "duration": 165,
    "start_time": "2022-06-28T11:59:24.348Z"
   },
   {
    "duration": 6,
    "start_time": "2022-06-28T12:03:55.377Z"
   },
   {
    "duration": 37,
    "start_time": "2022-06-28T12:04:30.897Z"
   },
   {
    "duration": 73,
    "start_time": "2022-06-28T12:05:01.113Z"
   },
   {
    "duration": 80,
    "start_time": "2022-06-28T12:05:06.305Z"
   },
   {
    "duration": 1179296,
    "start_time": "2022-06-28T12:05:09.904Z"
   },
   {
    "duration": 22,
    "start_time": "2022-06-28T12:26:13.045Z"
   },
   {
    "duration": 2443,
    "start_time": "2022-06-28T12:26:46.579Z"
   },
   {
    "duration": 23,
    "start_time": "2022-06-28T12:26:58.531Z"
   },
   {
    "duration": 2289,
    "start_time": "2022-06-28T12:28:41.280Z"
   },
   {
    "duration": 84,
    "start_time": "2022-06-28T12:28:45.111Z"
   },
   {
    "duration": 63226,
    "start_time": "2022-06-28T12:28:48.961Z"
   },
   {
    "duration": 6,
    "start_time": "2022-06-28T12:29:52.191Z"
   },
   {
    "duration": 36,
    "start_time": "2022-06-28T12:30:03.229Z"
   },
   {
    "duration": 9,
    "start_time": "2022-06-28T12:31:40.741Z"
   },
   {
    "duration": 19,
    "start_time": "2022-06-28T12:32:29.499Z"
   },
   {
    "duration": 17,
    "start_time": "2022-06-28T12:32:40.113Z"
   },
   {
    "duration": 119,
    "start_time": "2022-06-28T12:32:56.553Z"
   },
   {
    "duration": 16002,
    "start_time": "2022-06-28T12:33:50.190Z"
   },
   {
    "duration": 4150,
    "start_time": "2022-06-28T12:34:29.218Z"
   },
   {
    "duration": 1097,
    "start_time": "2022-06-28T12:34:33.370Z"
   },
   {
    "duration": 136,
    "start_time": "2022-06-28T12:34:34.469Z"
   },
   {
    "duration": 140,
    "start_time": "2022-06-28T12:34:34.607Z"
   },
   {
    "duration": 102,
    "start_time": "2022-06-28T12:34:34.749Z"
   },
   {
    "duration": 74,
    "start_time": "2022-06-28T12:34:34.853Z"
   },
   {
    "duration": 64,
    "start_time": "2022-06-28T12:34:34.929Z"
   },
   {
    "duration": 84,
    "start_time": "2022-06-28T12:34:34.994Z"
   },
   {
    "duration": 11,
    "start_time": "2022-06-28T12:34:35.080Z"
   },
   {
    "duration": 48,
    "start_time": "2022-06-28T12:34:35.094Z"
   },
   {
    "duration": 30,
    "start_time": "2022-06-28T12:34:35.143Z"
   },
   {
    "duration": 291,
    "start_time": "2022-06-28T12:34:35.175Z"
   },
   {
    "duration": 5,
    "start_time": "2022-06-28T12:34:35.468Z"
   },
   {
    "duration": 72,
    "start_time": "2022-06-28T12:34:35.474Z"
   },
   {
    "duration": 55,
    "start_time": "2022-06-28T12:34:35.548Z"
   },
   {
    "duration": 92,
    "start_time": "2022-06-28T12:34:35.604Z"
   },
   {
    "duration": 158,
    "start_time": "2022-06-28T12:34:35.697Z"
   },
   {
    "duration": 58,
    "start_time": "2022-06-28T12:34:35.857Z"
   },
   {
    "duration": 13994,
    "start_time": "2022-06-28T12:34:35.917Z"
   },
   {
    "duration": 35,
    "start_time": "2022-06-28T12:34:49.913Z"
   },
   {
    "duration": 4,
    "start_time": "2022-06-28T12:34:49.949Z"
   },
   {
    "duration": 9,
    "start_time": "2022-06-28T12:34:49.954Z"
   },
   {
    "duration": 77,
    "start_time": "2022-06-28T12:34:49.965Z"
   },
   {
    "duration": 424,
    "start_time": "2022-06-28T12:34:50.043Z"
   },
   {
    "duration": 8,
    "start_time": "2022-06-28T12:34:50.469Z"
   },
   {
    "duration": 63,
    "start_time": "2022-06-28T12:34:50.478Z"
   },
   {
    "duration": 46,
    "start_time": "2022-06-28T12:34:50.543Z"
   },
   {
    "duration": 73,
    "start_time": "2022-06-28T12:34:50.592Z"
   },
   {
    "duration": 3,
    "start_time": "2022-06-28T12:34:50.666Z"
   },
   {
    "duration": 19,
    "start_time": "2022-06-28T12:34:50.671Z"
   },
   {
    "duration": 87,
    "start_time": "2022-06-28T12:34:50.692Z"
   },
   {
    "duration": 947,
    "start_time": "2022-06-28T12:36:17.503Z"
   },
   {
    "duration": 217,
    "start_time": "2022-06-28T12:36:26.622Z"
   },
   {
    "duration": 121,
    "start_time": "2022-06-28T12:36:37.967Z"
   },
   {
    "duration": 126,
    "start_time": "2022-06-28T12:37:54.886Z"
   },
   {
    "duration": 61,
    "start_time": "2022-06-28T12:38:12.405Z"
   },
   {
    "duration": 37,
    "start_time": "2022-06-28T12:38:31.453Z"
   },
   {
    "duration": 97,
    "start_time": "2022-06-28T12:38:36.805Z"
   },
   {
    "duration": 4368,
    "start_time": "2022-06-28T12:39:12.838Z"
   },
   {
    "duration": 1162,
    "start_time": "2022-06-28T12:39:17.209Z"
   },
   {
    "duration": 143,
    "start_time": "2022-06-28T12:39:18.372Z"
   },
   {
    "duration": 151,
    "start_time": "2022-06-28T12:39:18.518Z"
   },
   {
    "duration": 90,
    "start_time": "2022-06-28T12:39:18.671Z"
   },
   {
    "duration": 85,
    "start_time": "2022-06-28T12:39:18.762Z"
   },
   {
    "duration": 54,
    "start_time": "2022-06-28T12:39:18.848Z"
   },
   {
    "duration": 89,
    "start_time": "2022-06-28T12:39:18.904Z"
   },
   {
    "duration": 9,
    "start_time": "2022-06-28T12:39:18.995Z"
   },
   {
    "duration": 39,
    "start_time": "2022-06-28T12:39:19.006Z"
   },
   {
    "duration": 30,
    "start_time": "2022-06-28T12:39:19.046Z"
   },
   {
    "duration": 326,
    "start_time": "2022-06-28T12:39:19.077Z"
   },
   {
    "duration": 20,
    "start_time": "2022-06-28T12:39:19.405Z"
   },
   {
    "duration": 69,
    "start_time": "2022-06-28T12:39:19.427Z"
   },
   {
    "duration": 66,
    "start_time": "2022-06-28T12:39:19.498Z"
   },
   {
    "duration": 85,
    "start_time": "2022-06-28T12:39:19.566Z"
   },
   {
    "duration": 181,
    "start_time": "2022-06-28T12:39:19.653Z"
   },
   {
    "duration": 61,
    "start_time": "2022-06-28T12:39:19.842Z"
   },
   {
    "duration": 1024,
    "start_time": "2022-06-28T12:39:19.905Z"
   },
   {
    "duration": 65,
    "start_time": "2022-06-28T12:39:20.943Z"
   },
   {
    "duration": 5,
    "start_time": "2022-06-28T12:39:21.010Z"
   },
   {
    "duration": 39,
    "start_time": "2022-06-28T12:39:21.016Z"
   },
   {
    "duration": 70,
    "start_time": "2022-06-28T12:39:21.057Z"
   },
   {
    "duration": 469,
    "start_time": "2022-06-28T12:39:21.130Z"
   },
   {
    "duration": 9,
    "start_time": "2022-06-28T12:39:21.601Z"
   },
   {
    "duration": 68,
    "start_time": "2022-06-28T12:39:21.611Z"
   },
   {
    "duration": 66,
    "start_time": "2022-06-28T12:39:21.681Z"
   },
   {
    "duration": 52,
    "start_time": "2022-06-28T12:39:21.750Z"
   },
   {
    "duration": 4,
    "start_time": "2022-06-28T12:39:21.804Z"
   },
   {
    "duration": 42,
    "start_time": "2022-06-28T12:39:21.811Z"
   },
   {
    "duration": 70,
    "start_time": "2022-06-28T12:39:21.855Z"
   },
   {
    "duration": 3556,
    "start_time": "2022-06-28T12:40:08.028Z"
   },
   {
    "duration": 1148,
    "start_time": "2022-06-28T12:40:11.587Z"
   },
   {
    "duration": 142,
    "start_time": "2022-06-28T12:40:12.737Z"
   },
   {
    "duration": 135,
    "start_time": "2022-06-28T12:40:12.881Z"
   },
   {
    "duration": 79,
    "start_time": "2022-06-28T12:40:13.017Z"
   },
   {
    "duration": 88,
    "start_time": "2022-06-28T12:40:13.097Z"
   },
   {
    "duration": 65,
    "start_time": "2022-06-28T12:40:13.187Z"
   },
   {
    "duration": 73,
    "start_time": "2022-06-28T12:40:13.254Z"
   },
   {
    "duration": 9,
    "start_time": "2022-06-28T12:40:13.341Z"
   },
   {
    "duration": 27,
    "start_time": "2022-06-28T12:40:13.353Z"
   },
   {
    "duration": 29,
    "start_time": "2022-06-28T12:40:13.381Z"
   },
   {
    "duration": 340,
    "start_time": "2022-06-28T12:40:13.412Z"
   },
   {
    "duration": 5,
    "start_time": "2022-06-28T12:40:13.753Z"
   },
   {
    "duration": 58,
    "start_time": "2022-06-28T12:40:13.760Z"
   },
   {
    "duration": 70,
    "start_time": "2022-06-28T12:40:13.820Z"
   },
   {
    "duration": 95,
    "start_time": "2022-06-28T12:40:13.891Z"
   },
   {
    "duration": 169,
    "start_time": "2022-06-28T12:40:13.987Z"
   },
   {
    "duration": 57,
    "start_time": "2022-06-28T12:40:14.157Z"
   },
   {
    "duration": 885,
    "start_time": "2022-06-28T12:40:14.216Z"
   },
   {
    "duration": 57,
    "start_time": "2022-06-28T12:40:15.103Z"
   },
   {
    "duration": 4,
    "start_time": "2022-06-28T12:40:15.162Z"
   },
   {
    "duration": 16,
    "start_time": "2022-06-28T12:40:15.168Z"
   },
   {
    "duration": 85,
    "start_time": "2022-06-28T12:40:15.186Z"
   },
   {
    "duration": 450,
    "start_time": "2022-06-28T12:40:15.273Z"
   },
   {
    "duration": 20,
    "start_time": "2022-06-28T12:40:15.725Z"
   },
   {
    "duration": 64,
    "start_time": "2022-06-28T12:40:15.746Z"
   },
   {
    "duration": 52,
    "start_time": "2022-06-28T12:40:15.812Z"
   },
   {
    "duration": 47,
    "start_time": "2022-06-28T12:40:15.867Z"
   },
   {
    "duration": 3,
    "start_time": "2022-06-28T12:40:15.916Z"
   },
   {
    "duration": 15,
    "start_time": "2022-06-28T12:40:15.942Z"
   },
   {
    "duration": 87,
    "start_time": "2022-06-28T12:40:15.959Z"
   },
   {
    "duration": 1151,
    "start_time": "2022-06-28T12:40:48.892Z"
   },
   {
    "duration": 141,
    "start_time": "2022-06-28T12:40:50.046Z"
   },
   {
    "duration": 140,
    "start_time": "2022-06-28T12:40:50.189Z"
   },
   {
    "duration": 82,
    "start_time": "2022-06-28T12:40:50.332Z"
   },
   {
    "duration": 93,
    "start_time": "2022-06-28T12:40:50.416Z"
   },
   {
    "duration": 60,
    "start_time": "2022-06-28T12:40:50.511Z"
   },
   {
    "duration": 76,
    "start_time": "2022-06-28T12:40:50.573Z"
   },
   {
    "duration": 8,
    "start_time": "2022-06-28T12:40:50.651Z"
   },
   {
    "duration": 25,
    "start_time": "2022-06-28T12:40:50.660Z"
   },
   {
    "duration": 61,
    "start_time": "2022-06-28T12:40:50.687Z"
   },
   {
    "duration": 276,
    "start_time": "2022-06-28T12:40:50.749Z"
   },
   {
    "duration": 16,
    "start_time": "2022-06-28T12:40:51.026Z"
   },
   {
    "duration": 57,
    "start_time": "2022-06-28T12:40:51.044Z"
   },
   {
    "duration": 64,
    "start_time": "2022-06-28T12:40:51.103Z"
   },
   {
    "duration": 83,
    "start_time": "2022-06-28T12:40:51.169Z"
   },
   {
    "duration": 162,
    "start_time": "2022-06-28T12:40:51.253Z"
   },
   {
    "duration": 66,
    "start_time": "2022-06-28T12:40:51.417Z"
   },
   {
    "duration": 1057,
    "start_time": "2022-06-28T12:40:51.485Z"
   },
   {
    "duration": 38,
    "start_time": "2022-06-28T12:40:52.544Z"
   },
   {
    "duration": 4,
    "start_time": "2022-06-28T12:40:52.583Z"
   },
   {
    "duration": 11,
    "start_time": "2022-06-28T12:40:52.588Z"
   },
   {
    "duration": 87,
    "start_time": "2022-06-28T12:40:52.601Z"
   },
   {
    "duration": 407,
    "start_time": "2022-06-28T12:40:52.690Z"
   },
   {
    "duration": 10,
    "start_time": "2022-06-28T12:40:53.098Z"
   },
   {
    "duration": 62,
    "start_time": "2022-06-28T12:40:53.109Z"
   },
   {
    "duration": 47,
    "start_time": "2022-06-28T12:40:53.173Z"
   },
   {
    "duration": 63,
    "start_time": "2022-06-28T12:40:53.222Z"
   },
   {
    "duration": 3,
    "start_time": "2022-06-28T12:40:53.288Z"
   },
   {
    "duration": 21,
    "start_time": "2022-06-28T12:40:53.293Z"
   },
   {
    "duration": 80,
    "start_time": "2022-06-28T12:40:53.316Z"
   },
   {
    "duration": 1147,
    "start_time": "2022-06-28T12:41:37.666Z"
   },
   {
    "duration": 145,
    "start_time": "2022-06-28T12:41:38.815Z"
   },
   {
    "duration": 153,
    "start_time": "2022-06-28T12:41:38.962Z"
   },
   {
    "duration": 88,
    "start_time": "2022-06-28T12:41:39.117Z"
   },
   {
    "duration": 91,
    "start_time": "2022-06-28T12:41:39.207Z"
   },
   {
    "duration": 73,
    "start_time": "2022-06-28T12:41:39.300Z"
   },
   {
    "duration": 100,
    "start_time": "2022-06-28T12:41:39.375Z"
   },
   {
    "duration": 26,
    "start_time": "2022-06-28T12:41:39.476Z"
   },
   {
    "duration": 25,
    "start_time": "2022-06-28T12:41:39.503Z"
   },
   {
    "duration": 55,
    "start_time": "2022-06-28T12:41:39.531Z"
   },
   {
    "duration": 285,
    "start_time": "2022-06-28T12:41:39.588Z"
   },
   {
    "duration": 4,
    "start_time": "2022-06-28T12:41:39.875Z"
   },
   {
    "duration": 73,
    "start_time": "2022-06-28T12:41:39.881Z"
   },
   {
    "duration": 54,
    "start_time": "2022-06-28T12:41:39.956Z"
   },
   {
    "duration": 90,
    "start_time": "2022-06-28T12:41:40.011Z"
   },
   {
    "duration": 167,
    "start_time": "2022-06-28T12:41:40.103Z"
   },
   {
    "duration": 71,
    "start_time": "2022-06-28T12:41:40.272Z"
   },
   {
    "duration": 902,
    "start_time": "2022-06-28T12:41:40.344Z"
   },
   {
    "duration": 40,
    "start_time": "2022-06-28T12:41:41.248Z"
   },
   {
    "duration": 5,
    "start_time": "2022-06-28T12:41:41.290Z"
   },
   {
    "duration": 12,
    "start_time": "2022-06-28T12:41:41.297Z"
   },
   {
    "duration": 89,
    "start_time": "2022-06-28T12:41:41.311Z"
   },
   {
    "duration": 459,
    "start_time": "2022-06-28T12:41:41.402Z"
   },
   {
    "duration": 10,
    "start_time": "2022-06-28T12:41:41.863Z"
   },
   {
    "duration": 67,
    "start_time": "2022-06-28T12:41:41.875Z"
   },
   {
    "duration": 60,
    "start_time": "2022-06-28T12:41:41.944Z"
   },
   {
    "duration": 82,
    "start_time": "2022-06-28T12:41:42.006Z"
   },
   {
    "duration": 6,
    "start_time": "2022-06-28T12:41:42.093Z"
   },
   {
    "duration": 25,
    "start_time": "2022-06-28T12:41:42.101Z"
   },
   {
    "duration": 91,
    "start_time": "2022-06-28T12:41:42.129Z"
   }
  ],
  "kernelspec": {
   "display_name": "Python 3 (ipykernel)",
   "language": "python",
   "name": "python3"
  },
  "language_info": {
   "codemirror_mode": {
    "name": "ipython",
    "version": 3
   },
   "file_extension": ".py",
   "mimetype": "text/x-python",
   "name": "python",
   "nbconvert_exporter": "python",
   "pygments_lexer": "ipython3",
   "version": "3.9.5"
  },
  "toc": {
   "base_numbering": 1,
   "nav_menu": {},
   "number_sections": true,
   "sideBar": true,
   "skip_h1_title": true,
   "title_cell": "Содержание",
   "title_sidebar": "Содержание",
   "toc_cell": false,
   "toc_position": {
    "height": "calc(100% - 180px)",
    "left": "10px",
    "top": "150px",
    "width": "286.875px"
   },
   "toc_section_display": true,
   "toc_window_display": true
  }
 },
 "nbformat": 4,
 "nbformat_minor": 2
}
